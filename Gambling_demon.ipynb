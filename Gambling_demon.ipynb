{
 "cells": [
  {
   "attachments": {},
   "cell_type": "markdown",
   "metadata": {},
   "source": [
    "In this example, there is a Demon that monitors the amount of work that is being done on the system.\n",
    "The Demon has some protocol in which it will interact with the system, but this protocol is reliant on whether the measured work exceeds some threshold $b=W_{\\rm th}$ \\emph{or} some threshold time is reached $T$.\n",
    "The Demon will then interact with the system and stop the process and the system will be reset to its initial state.\n",
    "Therefore the Demon will need to know the both probability distributions of the FHT at the threshold work $W_{\\rm th}$ and the work distribution $P(W, T)$ at the threshold time $T$ to make informed betting strategy---for more details please read \\cite{Manzano_thermodynamics_2021}.\n",
    "\n",
    "In this example, we will set the temperature to zero such that $\\bar{n}=0$.\n",
    "One can then compute the power into the system by taking the time derivative of the Hamiltonian Eq.~(\\ref{eq:sup_ham})\n",
    "\\begin{equation}\n",
    "    \\left<\\frac{\\partial H(t)}{\\partial t}\\right> = \\omega \\Omega \\hbar\\left<e^{-i\\omega t}\\sigma_{+} + e^{i \\omega t}\\sigma_{-}\\right>\\,,\n",
    "\\end{equation}\n",
    "which one can then transform into the interaction picture yields and integrate with respect to time to get the average work\n",
    "\\begin{equation}\n",
    "    \\langle W(t) \\rangle = \\omega \\Omega \\hbar\\int_{0}^{t}\\langle \\sigma_{y}(t')\\rangle dt'\\,.\n",
    "\\end{equation}\n",
    "We can also define the stochastic work done over a single quantum trajectory where $\\langle W(t) \\rangle_{c}$ is computed using the stochastic evolution of $\\langle \\sigma_{y}(t) \\rangle_{c}$. \n",
    "Furthermore the homodyne current can be written as \n",
    "\\begin{equation}\n",
    "    I(t) = \\sqrt{\\gamma}\\langle \\sigma_{y}\\rangle_{c}dt + \\xi(t)\\,,\n",
    "\\end{equation}\n",
    "where $xi(t) = dW/dt$ is the delta-correlated white noise. \n",
    "Therefore we can see that one can obtain an estimate of of the work $W(t)$ by integrating the homodyne current $N(t) {= \\sqrt{\\gamma}\\int_{0}^{t} \\langle \\sigma_{y}(t')\\rangle_{c}dt' + \\int_{0}^{t}dW}$ yielding \n",
    "\\begin{equation}\n",
    "    W(t) = \\frac{\\Omega \\omega \\hbar}{\\sqrt{\\gamma}}N(t)\\,.\n",
    "\\end{equation}\n",
    "Clearly, compute the statistics of the estimated work $W(t)$ by computing the statistics of $N(t)$. \n",
    "We therefore need to solve the the $N$-resolve density matrix for this the diffusion equation Eq.~(\\ref{eq:ndiff_sup}), which we can do using finite difference methods \n",
    "\\begin{equation}\n",
    "    \\frac{\\partial \\rho_{N}}{\\partial t} = \\frac{\\rho_{N}(t+dt) - \\rho_{N}(t)}{dt}\\qquad {\\rm and} \\qquad \n",
    "    \\frac{\\partial \\rho_{N}}{\\partial N} = \\frac{\\rho_{N+\\Delta N} - \\rho_{N-\\Delta N}}{2\\Delta N}\\qquad {\\rm and} \\qquad \n",
    "    \\frac{\\partial^{2} \\rho_{N}}{\\partial N^{2}} = \\frac{\\rho_{N+\\Delta N} - 2\\rho_{N} + \\rho_{N-\\Delta N}}{(\\Delta N)^{2}}\\,,\n",
    "\\end{equation}\n",
    "where $N$ is now continuous and $\\Delta N$ is a small real increment in $N$.\n",
    "Written as a matrix equation, this becomes\n",
    "\\begin{equation}\n",
    "    \\left(\n",
    "\\begin{array}{c}\n",
    "\\rho_{N}(t+dt)\\\\\n",
    "\\rho_{N-\\Delta N}(t+dt)\\\\\n",
    "\\vdots\\\\\n",
    "\\rho_{-N}(t+dt)\n",
    "\\end{array}\n",
    "\\right) =\n",
    "\\left(\n",
    "\\begin{array}{ccccc}\n",
    "\\mathbb{I}+dt\\mathcal{L} - \\frac{dt K_{D}}{\\Delta N^{2}}  & \\frac{dt \\mathcal{H}}{2\\Delta N} + \\frac{dt K_{D}}{2\\Delta N^{2}}, &0 & \\dots & 0\\\\\n",
    "-\\frac{dt \\mathcal{H}}{2\\Delta N} + \\frac{dt K_{D}}{2\\Delta N^{2}}& \\mathbb{I}+dt\\mathcal{L} - \\frac{dt K_{D}}{\\Delta N^{2}} &\\frac{dt \\mathcal{H}}{2\\Delta N} + \\frac{dt K_{D}}{2\\Delta N^{2}}&\\dots & 0 \\\\\n",
    "0 &-\\frac{dt \\mathcal{H}}{2\\Delta N}+ \\frac{dt K_{D}}{2\\Delta N^{2}} & \\ddots & \\dots& 0\\\\\n",
    "\\vdots & \\vdots & \\vdots & \\ddots & \\vdots\\\\\n",
    "0 & & \\dots & &\\mathbb{I}+dt\\mathcal{L} - \\frac{dt K_{D}}{\\Delta N^{2}} \n",
    "\\end{array}\n",
    "\\right)\n",
    "\\left(\n",
    "\\begin{array}{c}\n",
    "\\rho_{N}(t)\\\\\n",
    "\\rho_{N-\\Delta N}(t)\\\\\n",
    "\\vdots\\\\\n",
    "\\rho_{-N}(t)\n",
    "\\end{array}\n",
    "\\right)\n",
    "\\end{equation}\n",
    "To compute the work distribution at the threshold time $T$, we simply evolve this equation up to time $T$ then compute the trace of each of the elements $P(W, T) = P(N, T) = {\\rm tr}[\\rho_{N}(T)]$.\n",
    "\n",
    "Now we want to introduce an absorbing boundary condition corresponding to the threshold work $W_{\\rm th}$. This corresponds to the case that say when we hit some threshold value say $N_{\\rm th}$ then probability is lost which we can again do by setting all values along this boundary equal to zero and terminating the array at this value\n",
    "\\begin{equation}\n",
    "    \\left(\n",
    "\\begin{array}{c}\n",
    "\\rho_{N_{\\rm th}}(t+dt)\\\\\n",
    "\\rho_{N_{\\rm th}-\\Delta N}(t+dt)\\\\\n",
    "\\vdots\\\\\n",
    "\\rho_{-N}(t+dt)\n",
    "\\end{array}\n",
    "\\right) =\n",
    "\\left(\n",
    "\\begin{array}{ccccc}\n",
    "0 & 0 &0 & \\dots & 0\\\\\n",
    "-\\frac{dt \\mathcal{H}}{2\\Delta N} + \\frac{dt K_{D}}{2\\Delta N^{2}}& \\mathbb{I}+dt\\mathcal{L} - \\frac{dt K_{D}}{\\Delta N^{2}} &\\frac{dt \\mathcal{H}}{2\\Delta N} + \\frac{dt K_{D}}{2\\Delta N^{2}}&\\dots & 0 \\\\\n",
    "0 &-\\frac{dt \\mathcal{H}}{2\\Delta N}+ \\frac{dt K_{D}}{2\\Delta N^{2}} & \\ddots & \\dots& 0\\\\\n",
    "\\vdots & \\vdots & \\vdots & \\ddots & \\vdots\\\\\n",
    "0 & & \\dots & &\\mathbb{I}+dt\\mathcal{L} - \\frac{dt K_{D}}{\\Delta N^{2}} \n",
    "\\end{array}\n",
    "\\right)\n",
    "\\left(\n",
    "\\begin{array}{c}\n",
    "\\rho_{N_{\\rm th}}(t)\\\\\n",
    "\\rho_{N_{\\rm th}-\\Delta N}(t)\\\\\n",
    "\\vdots\\\\\n",
    "\\rho_{-N}(t)\n",
    "\\end{array}\n",
    "\\right)\n",
    "\\end{equation}\n",
    "which can now be used to compute the FHT distribution. "
   ]
  },
  {
   "cell_type": "code",
   "execution_count": 164,
   "metadata": {},
   "outputs": [],
   "source": [
    "import numpy as np\n",
    "from qutip import *\n",
    "import matplotlib.pyplot as plt\n",
    "from _funcs import *\n",
    "\n",
    "import seaborn as sns\n",
    "plt.rc('text', usetex=True)\n",
    "sns.set()\n",
    "\n",
    "def get_first_hit(array, x):\n",
    "    # create a function that returs first hitting time of array >= x\n",
    "    try: \n",
    "        return np.min(np.where(array>=x))\n",
    "    except ValueError:\n",
    "        return -1\n"
   ]
  },
  {
   "cell_type": "code",
   "execution_count": 165,
   "metadata": {},
   "outputs": [],
   "source": [
    "# Parameters\n",
    "Gamma = 1\n",
    "Omega = 1\n",
    "Rabi = np.sqrt((Gamma)**2 + Omega**2)\n",
    "dt = 0.0012\n",
    "tf = 6\n",
    "t_cutoff = 6\n",
    "t = np.arange(0, tf, dt)\n",
    "\n",
    "# Define system operators\n",
    "sp = sigmap()\n",
    "sm = sigmam()\n",
    "sx = sigmax()\n",
    "sz = sigmaz()\n",
    "sy = sigmay()\n",
    "g = sm*sp\n",
    "H = Omega*sx\n",
    "\n",
    "# define dissipator and Hamiltonian\n",
    "c_ops = [1j*np.sqrt(Gamma) * sm]    \n",
    "\n",
    "# steadystate\n",
    "rho0 = fock(2, 0)\n",
    "rhoss = steadystate(H, c_ops)\n",
    "\n",
    "unconditional_result = mesolve(H, rho0, t, c_ops=c_ops, e_ops=[sy, sz, g])\n",
    "ez_un = unconditional_result.expect[1]\n",
    "ey_un = unconditional_result.expect[0]\n",
    "g_un = unconditional_result.expect[2]\n",
    "\n",
    "N_cutoff = 1"
   ]
  },
  {
   "cell_type": "code",
   "execution_count": 166,
   "metadata": {},
   "outputs": [
    {
     "name": "stdout",
     "output_type": "stream",
     "text": [
      "Converting initial state to vector form\n"
     ]
    },
    {
     "name": "stderr",
     "output_type": "stream",
     "text": [
      "Evolution Superoperator: 100%|██████████| 4999/4999 [00:06<00:00, 811.76it/s] \n"
     ]
    }
   ],
   "source": [
    "# number of chargers to truncate at \n",
    "Nm = 20\n",
    "dN = 0.06\n",
    "N = np.arange(-10, Nm, dN)\n",
    "\n",
    "# ------ Solve n-resolved method with absorbing boundary conditions ------ #\n",
    "diff = DiffusiveEvolutionPntAbsorb(H, c_ops, 1, t, N, N_cutoff, kind='single')\n",
    "Pn_vec = diff.solve(rho0)"
   ]
  },
  {
   "cell_type": "code",
   "execution_count": 167,
   "metadata": {},
   "outputs": [],
   "source": [
    "# Compute survival probability from analytic solution\n",
    "P0 = np.sum(Pn_vec, axis=0)\n",
    "dGt = -np.gradient(P0, dt)\n",
    "\n",
    "# Compute mean and variance of distribution\n",
    "Et = np.sum(dGt * t)*dt\n",
    "Var = np.sum(dGt * t**2)*dt - Et**2"
   ]
  },
  {
   "cell_type": "code",
   "execution_count": 168,
   "metadata": {},
   "outputs": [
    {
     "name": "stdout",
     "output_type": "stream",
     "text": [
      "10.0%. Run time:  22.66s. Est. time left: 00:00:03:23\n",
      "20.0%. Run time:  45.04s. Est. time left: 00:00:03:00\n",
      "30.0%. Run time:  67.36s. Est. time left: 00:00:02:37\n",
      "40.0%. Run time:  89.80s. Est. time left: 00:00:02:14\n",
      "50.0%. Run time: 112.28s. Est. time left: 00:00:01:52\n",
      "60.0%. Run time: 134.67s. Est. time left: 00:00:01:29\n",
      "70.0%. Run time: 156.97s. Est. time left: 00:00:01:07\n",
      "80.0%. Run time: 179.41s. Est. time left: 00:00:00:44\n",
      "90.0%. Run time: 201.70s. Est. time left: 00:00:00:22\n",
      "Total run time: 224.03s\n"
     ]
    }
   ],
   "source": [
    "ntraj = 5000\n",
    "result = ssesolve(H, rho0, t, sc_ops=c_ops, e_ops=[sy, g], store_measurement=True, ntraj=ntraj)"
   ]
  },
  {
   "cell_type": "code",
   "execution_count": 169,
   "metadata": {},
   "outputs": [],
   "source": [
    "# get measurement results\n",
    "Iy = np.real(np.array(result.measurement).reshape(ntraj, len(t)))\n",
    "\n",
    "# Work without absorbing boundary conditions\n",
    "W = Omega*dt*np.cumsum(Iy, axis=1)/np.sqrt(Gamma)\n",
    "\n",
    "# Get first hitting times\n",
    "inds = np.array([get_first_hit(mi, N_cutoff) for mi in W])\n",
    "inds_f = inds[inds != None]\n",
    "\n",
    "# Get first hitting times\n",
    "hitting_times = t[list(inds_f)]\n",
    "\n",
    "# Make a copy of Iy to compube absorbed trajectories\n",
    "Iy_copy = Iy.copy()\n",
    "W_final = []\n",
    "\n",
    "for i in range(ntraj):\n",
    "    if inds[i]==-1:\n",
    "        W_final.append(Omega*dt*np.sum(Iy[i, :])/np.sqrt(Gamma))\n",
    "    else:\n",
    "        # Iy_copy[i, inds[i]:] = Iy_copy[i, inds[i]]\n",
    "        Iy_copy[i, inds[i]:] = 0\n",
    "\n",
    "# Work with abosrbing boundary conditions\n",
    "W_ab = Omega*dt*np.cumsum(Iy_copy, axis=1)/np.sqrt(Gamma)\n"
   ]
  },
  {
   "cell_type": "code",
   "execution_count": 170,
   "metadata": {},
   "outputs": [],
   "source": [
    "# Integrate first hitting time distribution to t_cutoff\n",
    "PT = np.sum(dGt)*dt\n",
    "Wbar = np.mean(W_final)\n",
    "\n",
    "# Compute mean work \n",
    "W_T = N_cutoff * PT  +  (1-PT)*Wbar\n",
    "\n",
    "# compute norm of the work distribution\n",
    "Pn_Norm = np.sum(Pn_vec[:,-1])"
   ]
  },
  {
   "cell_type": "code",
   "execution_count": 176,
   "metadata": {},
   "outputs": [
    {
     "data": {
      "image/png": "[encoded data removed]",
      "text/plain": [
       "<Figure size 500x400 with 3 Axes>"
      ]
     },
     "metadata": {},
     "output_type": "display_data"
    }
   ],
   "source": [
    "fig = plt.figure(figsize=(5, 4))\n",
    "gs = fig.add_gridspec(5, 5)\n",
    "\n",
    "color = [0.6, 0.3, 0.5]\n",
    "fs = 18\n",
    "\n",
    "ax1 = fig.add_subplot(gs[:2, :4])\n",
    "ax1.plot(t, dGt, color=color, linewidth=3)\n",
    "ax1.fill_between(t, dGt, color=color, alpha=0.2)\n",
    "ax1.hist(hitting_times[t<tf-1], bins=50, color=color, alpha=0.5, density=True, edgecolor='k')\n",
    "\n",
    "plt.xticks(np.arange(0, tf, 0.2), [])\n",
    "plt.xlim(0, t_cutoff-0.1)\n",
    "plt.yticks(np.arange(0.2, 0.7, 0.2), fontsize=fs)\n",
    "plt.ylim(0, 0.8)\n",
    "plt.ylabel(r'$f_{\\mathcal{W}_{\\rm th}}(t)$', fontsize=fs)\n",
    "\n",
    "ax2 = fig.add_subplot(gs[2:5, :4])\n",
    "ax2.plot(t, W_ab[:3000].T, color=color, linewidth=0.1, alpha=0.1)\n",
    "plt.hlines(W_T, 0, t_cutoff, color='k', linewidth=2, linestyle='--')\n",
    "\n",
    "plt.ylim(-6, N_cutoff)\n",
    "plt.yticks(np.arange(-5, N_cutoff+1, 1), fontsize=fs)\n",
    "plt.xticks(np.arange(0, t_cutoff, 1), fontsize=fs)\n",
    "plt.xlim(0, t_cutoff+0.01)\n",
    "plt.ylabel(r'$\\mathcal{W}(t)$', fontsize=fs)\n",
    "plt.xlabel(r'$\\gamma t$', fontsize=fs)\n",
    "\n",
    "ax3 = fig.add_subplot(gs[2:, 4])\n",
    "ax3.plot(Pn_vec[:, -1]/(dN*Pn_Norm), N[N<N_cutoff], color=color, linewidth=3)\n",
    "ax3.hist(W_final, bins=50, orientation='horizontal', color=color, alpha=0.5, density=True, edgecolor='k')\n",
    "plt.yticks(np.arange(-5, N_cutoff+1, 1),[])\n",
    "plt.ylim(-6, N_cutoff)\n",
    "plt.xticks(np.arange(0.0, 1, 0.5), fontsize=fs)\n",
    "\n",
    "plt.xlabel(r'$P(\\mathcal{W}, T)$', fontsize=fs)\n",
    "plt.subplots_adjust(wspace=0, hspace=0)\n",
    "\n",
    "plt.show()\n",
    "\n",
    "fig.savefig('Figures/Gambling_demon_mean.png', bbox_inches='tight', dpi=200)\n"
   ]
  },
  {
   "attachments": {},
   "cell_type": "markdown",
   "metadata": {},
   "source": [
    "# Finding the peak\n",
    "\n",
    "Now we want to find the largest amount of work that can be extracted from the system given the time $T$ and the threshold $W_{\\rm th}$."
   ]
  },
  {
   "cell_type": "code",
   "execution_count": 154,
   "metadata": {},
   "outputs": [
    {
     "name": "stdout",
     "output_type": "stream",
     "text": [
      "t_cutoff = 1, N_cutoff = 1\n",
      "Converting initial state to vector form\n"
     ]
    },
    {
     "name": "stderr",
     "output_type": "stream",
     "text": [
      "Evolution Superoperator: 100%|██████████| 833/833 [00:01<00:00, 659.79it/s]\n"
     ]
    },
    {
     "name": "stdout",
     "output_type": "stream",
     "text": [
      "t_cutoff = 1, N_cutoff = 2\n",
      "Converting initial state to vector form\n"
     ]
    },
    {
     "name": "stderr",
     "output_type": "stream",
     "text": [
      "Evolution Superoperator: 100%|██████████| 833/833 [00:01<00:00, 588.68it/s]\n"
     ]
    },
    {
     "name": "stdout",
     "output_type": "stream",
     "text": [
      "t_cutoff = 1, N_cutoff = 3\n",
      "Converting initial state to vector form\n"
     ]
    },
    {
     "name": "stderr",
     "output_type": "stream",
     "text": [
      "Evolution Superoperator: 100%|██████████| 833/833 [00:01<00:00, 595.06it/s]\n"
     ]
    },
    {
     "name": "stdout",
     "output_type": "stream",
     "text": [
      "t_cutoff = 1, N_cutoff = 4\n",
      "Converting initial state to vector form\n"
     ]
    },
    {
     "name": "stderr",
     "output_type": "stream",
     "text": [
      "Evolution Superoperator: 100%|██████████| 833/833 [00:01<00:00, 545.72it/s]\n"
     ]
    },
    {
     "name": "stdout",
     "output_type": "stream",
     "text": [
      "t_cutoff = 1, N_cutoff = 5\n",
      "Converting initial state to vector form\n"
     ]
    },
    {
     "name": "stderr",
     "output_type": "stream",
     "text": [
      "Evolution Superoperator: 100%|██████████| 833/833 [00:01<00:00, 464.99it/s]\n"
     ]
    },
    {
     "name": "stdout",
     "output_type": "stream",
     "text": [
      "t_cutoff = 1, N_cutoff = 6\n",
      "Converting initial state to vector form\n"
     ]
    },
    {
     "name": "stderr",
     "output_type": "stream",
     "text": [
      "Evolution Superoperator: 100%|██████████| 833/833 [00:01<00:00, 420.19it/s]\n"
     ]
    },
    {
     "name": "stdout",
     "output_type": "stream",
     "text": [
      "t_cutoff = 1, N_cutoff = 7\n",
      "Converting initial state to vector form\n"
     ]
    },
    {
     "name": "stderr",
     "output_type": "stream",
     "text": [
      "Evolution Superoperator: 100%|██████████| 833/833 [00:02<00:00, 402.17it/s]\n"
     ]
    },
    {
     "name": "stdout",
     "output_type": "stream",
     "text": [
      "t_cutoff = 1, N_cutoff = 8\n",
      "Converting initial state to vector form\n"
     ]
    },
    {
     "name": "stderr",
     "output_type": "stream",
     "text": [
      "Evolution Superoperator: 100%|██████████| 833/833 [00:02<00:00, 359.77it/s]\n"
     ]
    },
    {
     "name": "stdout",
     "output_type": "stream",
     "text": [
      "t_cutoff = 1, N_cutoff = 9\n",
      "Converting initial state to vector form\n"
     ]
    },
    {
     "name": "stderr",
     "output_type": "stream",
     "text": [
      "Evolution Superoperator: 100%|██████████| 833/833 [00:02<00:00, 313.58it/s]\n"
     ]
    },
    {
     "name": "stdout",
     "output_type": "stream",
     "text": [
      "t_cutoff = 1, N_cutoff = 10\n",
      "Converting initial state to vector form\n"
     ]
    },
    {
     "name": "stderr",
     "output_type": "stream",
     "text": [
      "Evolution Superoperator: 100%|██████████| 833/833 [00:03<00:00, 274.06it/s]\n"
     ]
    },
    {
     "name": "stdout",
     "output_type": "stream",
     "text": [
      "t_cutoff = 1, N_cutoff = 11\n",
      "Converting initial state to vector form\n"
     ]
    },
    {
     "name": "stderr",
     "output_type": "stream",
     "text": [
      "Evolution Superoperator: 100%|██████████| 833/833 [00:03<00:00, 219.73it/s]\n"
     ]
    },
    {
     "name": "stdout",
     "output_type": "stream",
     "text": [
      "t_cutoff = 1, N_cutoff = 12\n",
      "Converting initial state to vector form\n"
     ]
    },
    {
     "name": "stderr",
     "output_type": "stream",
     "text": [
      "Evolution Superoperator: 100%|██████████| 833/833 [00:05<00:00, 162.58it/s]\n"
     ]
    },
    {
     "name": "stdout",
     "output_type": "stream",
     "text": [
      "t_cutoff = 1, N_cutoff = 13\n",
      "Converting initial state to vector form\n"
     ]
    },
    {
     "name": "stderr",
     "output_type": "stream",
     "text": [
      "Evolution Superoperator: 100%|██████████| 833/833 [00:05<00:00, 139.50it/s]\n"
     ]
    },
    {
     "name": "stdout",
     "output_type": "stream",
     "text": [
      "t_cutoff = 1, N_cutoff = 14\n",
      "Converting initial state to vector form\n"
     ]
    },
    {
     "name": "stderr",
     "output_type": "stream",
     "text": [
      "Evolution Superoperator: 100%|██████████| 833/833 [00:06<00:00, 136.11it/s]\n"
     ]
    },
    {
     "name": "stdout",
     "output_type": "stream",
     "text": [
      "t_cutoff = 2, N_cutoff = 1\n",
      "Converting initial state to vector form\n"
     ]
    },
    {
     "name": "stderr",
     "output_type": "stream",
     "text": [
      "Evolution Superoperator: 100%|██████████| 1666/1666 [00:04<00:00, 346.72it/s]\n"
     ]
    },
    {
     "name": "stdout",
     "output_type": "stream",
     "text": [
      "t_cutoff = 2, N_cutoff = 2\n",
      "Converting initial state to vector form\n"
     ]
    },
    {
     "name": "stderr",
     "output_type": "stream",
     "text": [
      "Evolution Superoperator: 100%|██████████| 1666/1666 [00:04<00:00, 409.26it/s]\n"
     ]
    },
    {
     "name": "stdout",
     "output_type": "stream",
     "text": [
      "t_cutoff = 2, N_cutoff = 3\n",
      "Converting initial state to vector form\n"
     ]
    },
    {
     "name": "stderr",
     "output_type": "stream",
     "text": [
      "Evolution Superoperator: 100%|██████████| 1666/1666 [00:05<00:00, 312.78it/s]\n"
     ]
    },
    {
     "name": "stdout",
     "output_type": "stream",
     "text": [
      "t_cutoff = 2, N_cutoff = 4\n",
      "Converting initial state to vector form\n"
     ]
    },
    {
     "name": "stderr",
     "output_type": "stream",
     "text": [
      "Evolution Superoperator: 100%|██████████| 1666/1666 [00:05<00:00, 293.10it/s]\n"
     ]
    },
    {
     "name": "stdout",
     "output_type": "stream",
     "text": [
      "t_cutoff = 2, N_cutoff = 5\n",
      "Converting initial state to vector form\n"
     ]
    },
    {
     "name": "stderr",
     "output_type": "stream",
     "text": [
      "Evolution Superoperator: 100%|██████████| 1666/1666 [00:04<00:00, 341.35it/s]\n"
     ]
    },
    {
     "name": "stdout",
     "output_type": "stream",
     "text": [
      "t_cutoff = 2, N_cutoff = 6\n",
      "Converting initial state to vector form\n"
     ]
    },
    {
     "name": "stderr",
     "output_type": "stream",
     "text": [
      "Evolution Superoperator: 100%|██████████| 1666/1666 [00:04<00:00, 343.41it/s]\n"
     ]
    },
    {
     "name": "stdout",
     "output_type": "stream",
     "text": [
      "t_cutoff = 2, N_cutoff = 7\n",
      "Converting initial state to vector form\n"
     ]
    },
    {
     "name": "stderr",
     "output_type": "stream",
     "text": [
      "Evolution Superoperator: 100%|██████████| 1666/1666 [00:06<00:00, 270.27it/s]\n"
     ]
    },
    {
     "name": "stdout",
     "output_type": "stream",
     "text": [
      "t_cutoff = 2, N_cutoff = 8\n",
      "Converting initial state to vector form\n"
     ]
    },
    {
     "name": "stderr",
     "output_type": "stream",
     "text": [
      "Evolution Superoperator: 100%|██████████| 1666/1666 [00:06<00:00, 267.03it/s]\n"
     ]
    },
    {
     "name": "stdout",
     "output_type": "stream",
     "text": [
      "t_cutoff = 2, N_cutoff = 9\n",
      "Converting initial state to vector form\n"
     ]
    },
    {
     "name": "stderr",
     "output_type": "stream",
     "text": [
      "Evolution Superoperator: 100%|██████████| 1666/1666 [00:07<00:00, 236.55it/s]\n"
     ]
    },
    {
     "name": "stdout",
     "output_type": "stream",
     "text": [
      "t_cutoff = 2, N_cutoff = 10\n",
      "Converting initial state to vector form\n"
     ]
    },
    {
     "name": "stderr",
     "output_type": "stream",
     "text": [
      "Evolution Superoperator: 100%|██████████| 1666/1666 [00:07<00:00, 210.67it/s]\n"
     ]
    },
    {
     "name": "stdout",
     "output_type": "stream",
     "text": [
      "t_cutoff = 2, N_cutoff = 11\n",
      "Converting initial state to vector form\n"
     ]
    },
    {
     "name": "stderr",
     "output_type": "stream",
     "text": [
      "Evolution Superoperator: 100%|██████████| 1666/1666 [00:08<00:00, 198.98it/s]\n"
     ]
    },
    {
     "name": "stdout",
     "output_type": "stream",
     "text": [
      "t_cutoff = 2, N_cutoff = 12\n",
      "Converting initial state to vector form\n"
     ]
    },
    {
     "name": "stderr",
     "output_type": "stream",
     "text": [
      "Evolution Superoperator: 100%|██████████| 1666/1666 [00:08<00:00, 188.50it/s]\n"
     ]
    },
    {
     "name": "stdout",
     "output_type": "stream",
     "text": [
      "t_cutoff = 2, N_cutoff = 13\n",
      "Converting initial state to vector form\n"
     ]
    },
    {
     "name": "stderr",
     "output_type": "stream",
     "text": [
      "Evolution Superoperator: 100%|██████████| 1666/1666 [00:08<00:00, 187.18it/s]\n"
     ]
    },
    {
     "name": "stdout",
     "output_type": "stream",
     "text": [
      "t_cutoff = 2, N_cutoff = 14\n",
      "Converting initial state to vector form\n"
     ]
    },
    {
     "name": "stderr",
     "output_type": "stream",
     "text": [
      "Evolution Superoperator: 100%|██████████| 1666/1666 [00:12<00:00, 134.93it/s]\n"
     ]
    },
    {
     "name": "stdout",
     "output_type": "stream",
     "text": [
      "t_cutoff = 3, N_cutoff = 1\n",
      "Converting initial state to vector form\n"
     ]
    },
    {
     "name": "stderr",
     "output_type": "stream",
     "text": [
      "Evolution Superoperator: 100%|██████████| 2499/2499 [00:24<00:00, 102.94it/s]\n"
     ]
    },
    {
     "name": "stdout",
     "output_type": "stream",
     "text": [
      "t_cutoff = 3, N_cutoff = 2\n",
      "Converting initial state to vector form\n"
     ]
    },
    {
     "name": "stderr",
     "output_type": "stream",
     "text": [
      "Evolution Superoperator: 100%|██████████| 2499/2499 [00:05<00:00, 453.34it/s]\n"
     ]
    },
    {
     "name": "stdout",
     "output_type": "stream",
     "text": [
      "t_cutoff = 3, N_cutoff = 3\n",
      "Converting initial state to vector form\n"
     ]
    },
    {
     "name": "stderr",
     "output_type": "stream",
     "text": [
      "Evolution Superoperator: 100%|██████████| 2499/2499 [00:06<00:00, 371.95it/s]\n"
     ]
    },
    {
     "name": "stdout",
     "output_type": "stream",
     "text": [
      "t_cutoff = 3, N_cutoff = 4\n",
      "Converting initial state to vector form\n"
     ]
    },
    {
     "name": "stderr",
     "output_type": "stream",
     "text": [
      "Evolution Superoperator: 100%|██████████| 2499/2499 [00:04<00:00, 499.88it/s]\n"
     ]
    },
    {
     "name": "stdout",
     "output_type": "stream",
     "text": [
      "t_cutoff = 3, N_cutoff = 5\n",
      "Converting initial state to vector form\n"
     ]
    },
    {
     "name": "stderr",
     "output_type": "stream",
     "text": [
      "Evolution Superoperator: 100%|██████████| 2499/2499 [00:06<00:00, 370.08it/s]\n"
     ]
    },
    {
     "name": "stdout",
     "output_type": "stream",
     "text": [
      "t_cutoff = 3, N_cutoff = 6\n",
      "Converting initial state to vector form\n"
     ]
    },
    {
     "name": "stderr",
     "output_type": "stream",
     "text": [
      "Evolution Superoperator: 100%|██████████| 2499/2499 [00:08<00:00, 309.87it/s]\n"
     ]
    },
    {
     "name": "stdout",
     "output_type": "stream",
     "text": [
      "t_cutoff = 3, N_cutoff = 7\n",
      "Converting initial state to vector form\n"
     ]
    },
    {
     "name": "stderr",
     "output_type": "stream",
     "text": [
      "Evolution Superoperator: 100%|██████████| 2499/2499 [00:06<00:00, 374.95it/s]\n"
     ]
    },
    {
     "name": "stdout",
     "output_type": "stream",
     "text": [
      "t_cutoff = 3, N_cutoff = 8\n",
      "Converting initial state to vector form\n"
     ]
    },
    {
     "name": "stderr",
     "output_type": "stream",
     "text": [
      "Evolution Superoperator: 100%|██████████| 2499/2499 [00:07<00:00, 328.91it/s]\n"
     ]
    },
    {
     "name": "stdout",
     "output_type": "stream",
     "text": [
      "t_cutoff = 3, N_cutoff = 9\n",
      "Converting initial state to vector form\n"
     ]
    },
    {
     "name": "stderr",
     "output_type": "stream",
     "text": [
      "Evolution Superoperator: 100%|██████████| 2499/2499 [00:08<00:00, 285.47it/s]\n"
     ]
    },
    {
     "name": "stdout",
     "output_type": "stream",
     "text": [
      "t_cutoff = 3, N_cutoff = 10\n",
      "Converting initial state to vector form\n"
     ]
    },
    {
     "name": "stderr",
     "output_type": "stream",
     "text": [
      "Evolution Superoperator: 100%|██████████| 2499/2499 [00:09<00:00, 266.12it/s]\n"
     ]
    },
    {
     "name": "stdout",
     "output_type": "stream",
     "text": [
      "t_cutoff = 3, N_cutoff = 11\n",
      "Converting initial state to vector form\n"
     ]
    },
    {
     "name": "stderr",
     "output_type": "stream",
     "text": [
      "Evolution Superoperator: 100%|██████████| 2499/2499 [00:10<00:00, 239.42it/s]\n"
     ]
    },
    {
     "name": "stdout",
     "output_type": "stream",
     "text": [
      "t_cutoff = 3, N_cutoff = 12\n",
      "Converting initial state to vector form\n"
     ]
    },
    {
     "name": "stderr",
     "output_type": "stream",
     "text": [
      "Evolution Superoperator: 100%|██████████| 2499/2499 [00:15<00:00, 166.35it/s]\n"
     ]
    },
    {
     "name": "stdout",
     "output_type": "stream",
     "text": [
      "t_cutoff = 3, N_cutoff = 13\n",
      "Converting initial state to vector form\n"
     ]
    },
    {
     "name": "stderr",
     "output_type": "stream",
     "text": [
      "Evolution Superoperator: 100%|██████████| 2499/2499 [00:14<00:00, 172.71it/s]\n"
     ]
    },
    {
     "name": "stdout",
     "output_type": "stream",
     "text": [
      "t_cutoff = 3, N_cutoff = 14\n",
      "Converting initial state to vector form\n"
     ]
    },
    {
     "name": "stderr",
     "output_type": "stream",
     "text": [
      "Evolution Superoperator: 100%|██████████| 2499/2499 [00:13<00:00, 186.89it/s]\n"
     ]
    },
    {
     "name": "stdout",
     "output_type": "stream",
     "text": [
      "t_cutoff = 4, N_cutoff = 1\n",
      "Converting initial state to vector form\n"
     ]
    },
    {
     "name": "stderr",
     "output_type": "stream",
     "text": [
      "Evolution Superoperator: 100%|██████████| 3333/3333 [00:04<00:00, 681.69it/s]\n"
     ]
    },
    {
     "name": "stdout",
     "output_type": "stream",
     "text": [
      "t_cutoff = 4, N_cutoff = 2\n",
      "Converting initial state to vector form\n"
     ]
    },
    {
     "name": "stderr",
     "output_type": "stream",
     "text": [
      "Evolution Superoperator: 100%|██████████| 3333/3333 [00:04<00:00, 685.75it/s]\n"
     ]
    },
    {
     "name": "stdout",
     "output_type": "stream",
     "text": [
      "t_cutoff = 4, N_cutoff = 3\n",
      "Converting initial state to vector form\n"
     ]
    },
    {
     "name": "stderr",
     "output_type": "stream",
     "text": [
      "Evolution Superoperator: 100%|██████████| 3333/3333 [00:06<00:00, 553.37it/s]\n"
     ]
    },
    {
     "name": "stdout",
     "output_type": "stream",
     "text": [
      "t_cutoff = 4, N_cutoff = 4\n",
      "Converting initial state to vector form\n"
     ]
    },
    {
     "name": "stderr",
     "output_type": "stream",
     "text": [
      "Evolution Superoperator: 100%|██████████| 3333/3333 [00:08<00:00, 396.22it/s]\n"
     ]
    },
    {
     "name": "stdout",
     "output_type": "stream",
     "text": [
      "t_cutoff = 4, N_cutoff = 5\n",
      "Converting initial state to vector form\n"
     ]
    },
    {
     "name": "stderr",
     "output_type": "stream",
     "text": [
      "Evolution Superoperator: 100%|██████████| 3333/3333 [00:08<00:00, 370.35it/s]\n"
     ]
    },
    {
     "name": "stdout",
     "output_type": "stream",
     "text": [
      "t_cutoff = 4, N_cutoff = 6\n",
      "Converting initial state to vector form\n"
     ]
    },
    {
     "name": "stderr",
     "output_type": "stream",
     "text": [
      "Evolution Superoperator: 100%|██████████| 3333/3333 [00:10<00:00, 320.64it/s]\n"
     ]
    },
    {
     "name": "stdout",
     "output_type": "stream",
     "text": [
      "t_cutoff = 4, N_cutoff = 7\n",
      "Converting initial state to vector form\n"
     ]
    },
    {
     "name": "stderr",
     "output_type": "stream",
     "text": [
      "Evolution Superoperator: 100%|██████████| 3333/3333 [00:10<00:00, 304.29it/s]\n"
     ]
    },
    {
     "name": "stdout",
     "output_type": "stream",
     "text": [
      "t_cutoff = 4, N_cutoff = 8\n",
      "Converting initial state to vector form\n"
     ]
    },
    {
     "name": "stderr",
     "output_type": "stream",
     "text": [
      "Evolution Superoperator: 100%|██████████| 3333/3333 [00:12<00:00, 275.02it/s]\n"
     ]
    },
    {
     "name": "stdout",
     "output_type": "stream",
     "text": [
      "t_cutoff = 4, N_cutoff = 9\n",
      "Converting initial state to vector form\n"
     ]
    },
    {
     "name": "stderr",
     "output_type": "stream",
     "text": [
      "Evolution Superoperator: 100%|██████████| 3333/3333 [00:14<00:00, 228.62it/s]\n"
     ]
    },
    {
     "name": "stdout",
     "output_type": "stream",
     "text": [
      "t_cutoff = 4, N_cutoff = 10\n",
      "Converting initial state to vector form\n"
     ]
    },
    {
     "name": "stderr",
     "output_type": "stream",
     "text": [
      "Evolution Superoperator: 100%|██████████| 3333/3333 [00:14<00:00, 232.32it/s]\n"
     ]
    },
    {
     "name": "stdout",
     "output_type": "stream",
     "text": [
      "t_cutoff = 4, N_cutoff = 11\n",
      "Converting initial state to vector form\n"
     ]
    },
    {
     "name": "stderr",
     "output_type": "stream",
     "text": [
      "Evolution Superoperator: 100%|██████████| 3333/3333 [00:15<00:00, 219.80it/s]\n"
     ]
    },
    {
     "name": "stdout",
     "output_type": "stream",
     "text": [
      "t_cutoff = 4, N_cutoff = 12\n",
      "Converting initial state to vector form\n"
     ]
    },
    {
     "name": "stderr",
     "output_type": "stream",
     "text": [
      "Evolution Superoperator: 100%|██████████| 3333/3333 [00:18<00:00, 185.00it/s]\n"
     ]
    },
    {
     "name": "stdout",
     "output_type": "stream",
     "text": [
      "t_cutoff = 4, N_cutoff = 13\n",
      "Converting initial state to vector form\n"
     ]
    },
    {
     "name": "stderr",
     "output_type": "stream",
     "text": [
      "Evolution Superoperator: 100%|██████████| 3333/3333 [00:22<00:00, 147.44it/s]\n"
     ]
    },
    {
     "name": "stdout",
     "output_type": "stream",
     "text": [
      "t_cutoff = 4, N_cutoff = 14\n",
      "Converting initial state to vector form\n"
     ]
    },
    {
     "name": "stderr",
     "output_type": "stream",
     "text": [
      "Evolution Superoperator: 100%|██████████| 3333/3333 [00:20<00:00, 164.89it/s]\n"
     ]
    },
    {
     "name": "stdout",
     "output_type": "stream",
     "text": [
      "t_cutoff = 5, N_cutoff = 1\n",
      "Converting initial state to vector form\n"
     ]
    },
    {
     "name": "stderr",
     "output_type": "stream",
     "text": [
      "Evolution Superoperator: 100%|██████████| 4166/4166 [00:06<00:00, 671.89it/s]\n"
     ]
    },
    {
     "name": "stdout",
     "output_type": "stream",
     "text": [
      "t_cutoff = 5, N_cutoff = 2\n",
      "Converting initial state to vector form\n"
     ]
    },
    {
     "name": "stderr",
     "output_type": "stream",
     "text": [
      "Evolution Superoperator: 100%|██████████| 4166/4166 [00:08<00:00, 479.93it/s]\n"
     ]
    },
    {
     "name": "stdout",
     "output_type": "stream",
     "text": [
      "t_cutoff = 5, N_cutoff = 3\n",
      "Converting initial state to vector form\n"
     ]
    },
    {
     "name": "stderr",
     "output_type": "stream",
     "text": [
      "Evolution Superoperator: 100%|██████████| 4166/4166 [00:10<00:00, 409.92it/s]\n"
     ]
    },
    {
     "name": "stdout",
     "output_type": "stream",
     "text": [
      "t_cutoff = 5, N_cutoff = 4\n",
      "Converting initial state to vector form\n"
     ]
    },
    {
     "name": "stderr",
     "output_type": "stream",
     "text": [
      "Evolution Superoperator: 100%|██████████| 4166/4166 [00:11<00:00, 364.77it/s]\n"
     ]
    },
    {
     "name": "stdout",
     "output_type": "stream",
     "text": [
      "t_cutoff = 5, N_cutoff = 5\n",
      "Converting initial state to vector form\n"
     ]
    },
    {
     "name": "stderr",
     "output_type": "stream",
     "text": [
      "Evolution Superoperator: 100%|██████████| 4166/4166 [00:19<00:00, 210.94it/s]\n"
     ]
    },
    {
     "name": "stdout",
     "output_type": "stream",
     "text": [
      "t_cutoff = 5, N_cutoff = 6\n",
      "Converting initial state to vector form\n"
     ]
    },
    {
     "name": "stderr",
     "output_type": "stream",
     "text": [
      "Evolution Superoperator: 100%|██████████| 4166/4166 [00:15<00:00, 273.43it/s]\n"
     ]
    },
    {
     "name": "stdout",
     "output_type": "stream",
     "text": [
      "t_cutoff = 5, N_cutoff = 7\n",
      "Converting initial state to vector form\n"
     ]
    },
    {
     "name": "stderr",
     "output_type": "stream",
     "text": [
      "Evolution Superoperator: 100%|██████████| 4166/4166 [00:13<00:00, 301.08it/s]\n"
     ]
    },
    {
     "name": "stdout",
     "output_type": "stream",
     "text": [
      "t_cutoff = 5, N_cutoff = 8\n",
      "Converting initial state to vector form\n"
     ]
    },
    {
     "name": "stderr",
     "output_type": "stream",
     "text": [
      "Evolution Superoperator: 100%|██████████| 4166/4166 [00:12<00:00, 321.77it/s]\n"
     ]
    },
    {
     "name": "stdout",
     "output_type": "stream",
     "text": [
      "t_cutoff = 5, N_cutoff = 9\n",
      "Converting initial state to vector form\n"
     ]
    },
    {
     "name": "stderr",
     "output_type": "stream",
     "text": [
      "Evolution Superoperator: 100%|██████████| 4166/4166 [00:13<00:00, 303.22it/s]\n"
     ]
    },
    {
     "name": "stdout",
     "output_type": "stream",
     "text": [
      "t_cutoff = 5, N_cutoff = 10\n",
      "Converting initial state to vector form\n"
     ]
    },
    {
     "name": "stderr",
     "output_type": "stream",
     "text": [
      "Evolution Superoperator: 100%|██████████| 4166/4166 [00:17<00:00, 239.97it/s]\n"
     ]
    },
    {
     "name": "stdout",
     "output_type": "stream",
     "text": [
      "t_cutoff = 5, N_cutoff = 11\n",
      "Converting initial state to vector form\n"
     ]
    },
    {
     "name": "stderr",
     "output_type": "stream",
     "text": [
      "Evolution Superoperator: 100%|██████████| 4166/4166 [00:18<00:00, 221.18it/s]\n"
     ]
    },
    {
     "name": "stdout",
     "output_type": "stream",
     "text": [
      "t_cutoff = 5, N_cutoff = 12\n",
      "Converting initial state to vector form\n"
     ]
    },
    {
     "name": "stderr",
     "output_type": "stream",
     "text": [
      "Evolution Superoperator: 100%|██████████| 4166/4166 [00:21<00:00, 197.76it/s]\n"
     ]
    },
    {
     "name": "stdout",
     "output_type": "stream",
     "text": [
      "t_cutoff = 5, N_cutoff = 13\n",
      "Converting initial state to vector form\n"
     ]
    },
    {
     "name": "stderr",
     "output_type": "stream",
     "text": [
      "Evolution Superoperator: 100%|██████████| 4166/4166 [00:23<00:00, 177.50it/s]\n"
     ]
    },
    {
     "name": "stdout",
     "output_type": "stream",
     "text": [
      "t_cutoff = 5, N_cutoff = 14\n",
      "Converting initial state to vector form\n"
     ]
    },
    {
     "name": "stderr",
     "output_type": "stream",
     "text": [
      "Evolution Superoperator: 100%|██████████| 4166/4166 [00:28<00:00, 145.91it/s]\n"
     ]
    },
    {
     "name": "stdout",
     "output_type": "stream",
     "text": [
      "t_cutoff = 6, N_cutoff = 1\n",
      "Converting initial state to vector form\n"
     ]
    },
    {
     "name": "stderr",
     "output_type": "stream",
     "text": [
      "Evolution Superoperator: 100%|██████████| 4999/4999 [00:10<00:00, 455.29it/s]\n"
     ]
    },
    {
     "name": "stdout",
     "output_type": "stream",
     "text": [
      "t_cutoff = 6, N_cutoff = 2\n",
      "Converting initial state to vector form\n"
     ]
    },
    {
     "name": "stderr",
     "output_type": "stream",
     "text": [
      "Evolution Superoperator: 100%|██████████| 4999/4999 [00:10<00:00, 474.33it/s]\n"
     ]
    },
    {
     "name": "stdout",
     "output_type": "stream",
     "text": [
      "t_cutoff = 6, N_cutoff = 3\n",
      "Converting initial state to vector form\n"
     ]
    },
    {
     "name": "stderr",
     "output_type": "stream",
     "text": [
      "Evolution Superoperator: 100%|██████████| 4999/4999 [00:12<00:00, 415.23it/s]\n"
     ]
    },
    {
     "name": "stdout",
     "output_type": "stream",
     "text": [
      "t_cutoff = 6, N_cutoff = 4\n",
      "Converting initial state to vector form\n"
     ]
    },
    {
     "name": "stderr",
     "output_type": "stream",
     "text": [
      "Evolution Superoperator: 100%|██████████| 4999/4999 [00:12<00:00, 412.08it/s]\n"
     ]
    },
    {
     "name": "stdout",
     "output_type": "stream",
     "text": [
      "t_cutoff = 6, N_cutoff = 5\n",
      "Converting initial state to vector form\n"
     ]
    },
    {
     "name": "stderr",
     "output_type": "stream",
     "text": [
      "Evolution Superoperator: 100%|██████████| 4999/4999 [00:14<00:00, 345.17it/s]\n"
     ]
    },
    {
     "name": "stdout",
     "output_type": "stream",
     "text": [
      "t_cutoff = 6, N_cutoff = 6\n",
      "Converting initial state to vector form\n"
     ]
    },
    {
     "name": "stderr",
     "output_type": "stream",
     "text": [
      "Evolution Superoperator: 100%|██████████| 4999/4999 [00:15<00:00, 319.77it/s]\n"
     ]
    },
    {
     "name": "stdout",
     "output_type": "stream",
     "text": [
      "t_cutoff = 6, N_cutoff = 7\n",
      "Converting initial state to vector form\n"
     ]
    },
    {
     "name": "stderr",
     "output_type": "stream",
     "text": [
      "Evolution Superoperator: 100%|██████████| 4999/4999 [00:15<00:00, 316.86it/s]\n"
     ]
    },
    {
     "name": "stdout",
     "output_type": "stream",
     "text": [
      "t_cutoff = 6, N_cutoff = 8\n",
      "Converting initial state to vector form\n"
     ]
    },
    {
     "name": "stderr",
     "output_type": "stream",
     "text": [
      "Evolution Superoperator: 100%|██████████| 4999/4999 [00:18<00:00, 276.54it/s]\n"
     ]
    },
    {
     "name": "stdout",
     "output_type": "stream",
     "text": [
      "t_cutoff = 6, N_cutoff = 9\n",
      "Converting initial state to vector form\n"
     ]
    },
    {
     "name": "stderr",
     "output_type": "stream",
     "text": [
      "Evolution Superoperator: 100%|██████████| 4999/4999 [00:20<00:00, 242.63it/s]\n"
     ]
    },
    {
     "name": "stdout",
     "output_type": "stream",
     "text": [
      "t_cutoff = 6, N_cutoff = 10\n",
      "Converting initial state to vector form\n"
     ]
    },
    {
     "name": "stderr",
     "output_type": "stream",
     "text": [
      "Evolution Superoperator: 100%|██████████| 4999/4999 [00:19<00:00, 253.87it/s]\n"
     ]
    },
    {
     "name": "stdout",
     "output_type": "stream",
     "text": [
      "t_cutoff = 6, N_cutoff = 11\n",
      "Converting initial state to vector form\n"
     ]
    },
    {
     "name": "stderr",
     "output_type": "stream",
     "text": [
      "Evolution Superoperator: 100%|██████████| 4999/4999 [00:22<00:00, 225.05it/s]\n"
     ]
    },
    {
     "name": "stdout",
     "output_type": "stream",
     "text": [
      "t_cutoff = 6, N_cutoff = 12\n",
      "Converting initial state to vector form\n"
     ]
    },
    {
     "name": "stderr",
     "output_type": "stream",
     "text": [
      "Evolution Superoperator: 100%|██████████| 4999/4999 [00:24<00:00, 202.55it/s]\n"
     ]
    },
    {
     "name": "stdout",
     "output_type": "stream",
     "text": [
      "t_cutoff = 6, N_cutoff = 13\n",
      "Converting initial state to vector form\n"
     ]
    },
    {
     "name": "stderr",
     "output_type": "stream",
     "text": [
      "Evolution Superoperator: 100%|██████████| 4999/4999 [00:25<00:00, 199.52it/s]\n"
     ]
    },
    {
     "name": "stdout",
     "output_type": "stream",
     "text": [
      "t_cutoff = 6, N_cutoff = 14\n",
      "Converting initial state to vector form\n"
     ]
    },
    {
     "name": "stderr",
     "output_type": "stream",
     "text": [
      "Evolution Superoperator: 100%|██████████| 4999/4999 [00:29<00:00, 169.63it/s]\n"
     ]
    },
    {
     "name": "stdout",
     "output_type": "stream",
     "text": [
      "t_cutoff = 7, N_cutoff = 1\n",
      "Converting initial state to vector form\n"
     ]
    },
    {
     "name": "stderr",
     "output_type": "stream",
     "text": [
      "Evolution Superoperator: 100%|██████████| 5833/5833 [00:10<00:00, 544.11it/s]\n"
     ]
    },
    {
     "name": "stdout",
     "output_type": "stream",
     "text": [
      "t_cutoff = 7, N_cutoff = 2\n",
      "Converting initial state to vector form\n"
     ]
    },
    {
     "name": "stderr",
     "output_type": "stream",
     "text": [
      "Evolution Superoperator: 100%|██████████| 5833/5833 [00:09<00:00, 613.45it/s]\n"
     ]
    },
    {
     "name": "stdout",
     "output_type": "stream",
     "text": [
      "t_cutoff = 7, N_cutoff = 3\n",
      "Converting initial state to vector form\n"
     ]
    },
    {
     "name": "stderr",
     "output_type": "stream",
     "text": [
      "Evolution Superoperator: 100%|██████████| 5833/5833 [00:11<00:00, 489.14it/s]\n"
     ]
    },
    {
     "name": "stdout",
     "output_type": "stream",
     "text": [
      "t_cutoff = 7, N_cutoff = 4\n",
      "Converting initial state to vector form\n"
     ]
    },
    {
     "name": "stderr",
     "output_type": "stream",
     "text": [
      "Evolution Superoperator: 100%|██████████| 5833/5833 [00:14<00:00, 415.89it/s]\n"
     ]
    },
    {
     "name": "stdout",
     "output_type": "stream",
     "text": [
      "t_cutoff = 7, N_cutoff = 5\n",
      "Converting initial state to vector form\n"
     ]
    },
    {
     "name": "stderr",
     "output_type": "stream",
     "text": [
      "Evolution Superoperator: 100%|██████████| 5833/5833 [00:15<00:00, 376.37it/s]\n"
     ]
    },
    {
     "name": "stdout",
     "output_type": "stream",
     "text": [
      "t_cutoff = 7, N_cutoff = 6\n",
      "Converting initial state to vector form\n"
     ]
    },
    {
     "name": "stderr",
     "output_type": "stream",
     "text": [
      "Evolution Superoperator: 100%|██████████| 5833/5833 [00:16<00:00, 361.34it/s]\n"
     ]
    },
    {
     "name": "stdout",
     "output_type": "stream",
     "text": [
      "t_cutoff = 7, N_cutoff = 7\n",
      "Converting initial state to vector form\n"
     ]
    },
    {
     "name": "stderr",
     "output_type": "stream",
     "text": [
      "Evolution Superoperator: 100%|██████████| 5833/5833 [00:18<00:00, 323.17it/s]\n"
     ]
    },
    {
     "name": "stdout",
     "output_type": "stream",
     "text": [
      "t_cutoff = 7, N_cutoff = 8\n",
      "Converting initial state to vector form\n"
     ]
    },
    {
     "name": "stderr",
     "output_type": "stream",
     "text": [
      "Evolution Superoperator: 100%|██████████| 5833/5833 [00:28<00:00, 207.63it/s]\n"
     ]
    },
    {
     "name": "stdout",
     "output_type": "stream",
     "text": [
      "t_cutoff = 7, N_cutoff = 9\n",
      "Converting initial state to vector form\n"
     ]
    },
    {
     "name": "stderr",
     "output_type": "stream",
     "text": [
      "Evolution Superoperator: 100%|██████████| 5833/5833 [00:22<00:00, 263.14it/s]\n"
     ]
    },
    {
     "name": "stdout",
     "output_type": "stream",
     "text": [
      "t_cutoff = 7, N_cutoff = 10\n",
      "Converting initial state to vector form\n"
     ]
    },
    {
     "name": "stderr",
     "output_type": "stream",
     "text": [
      "Evolution Superoperator: 100%|██████████| 5833/5833 [00:26<00:00, 219.14it/s]\n"
     ]
    },
    {
     "name": "stdout",
     "output_type": "stream",
     "text": [
      "t_cutoff = 7, N_cutoff = 11\n",
      "Converting initial state to vector form\n"
     ]
    },
    {
     "name": "stderr",
     "output_type": "stream",
     "text": [
      "Evolution Superoperator: 100%|██████████| 5833/5833 [00:30<00:00, 192.75it/s]\n"
     ]
    },
    {
     "name": "stdout",
     "output_type": "stream",
     "text": [
      "t_cutoff = 7, N_cutoff = 12\n",
      "Converting initial state to vector form\n"
     ]
    },
    {
     "name": "stderr",
     "output_type": "stream",
     "text": [
      "Evolution Superoperator: 100%|██████████| 5833/5833 [00:31<00:00, 182.48it/s]\n"
     ]
    },
    {
     "name": "stdout",
     "output_type": "stream",
     "text": [
      "t_cutoff = 7, N_cutoff = 13\n",
      "Converting initial state to vector form\n"
     ]
    },
    {
     "name": "stderr",
     "output_type": "stream",
     "text": [
      "Evolution Superoperator: 100%|██████████| 5833/5833 [00:39<00:00, 148.63it/s]\n"
     ]
    },
    {
     "name": "stdout",
     "output_type": "stream",
     "text": [
      "t_cutoff = 7, N_cutoff = 14\n",
      "Converting initial state to vector form\n"
     ]
    },
    {
     "name": "stderr",
     "output_type": "stream",
     "text": [
      "Evolution Superoperator: 100%|██████████| 5833/5833 [00:36<00:00, 160.17it/s]\n"
     ]
    },
    {
     "name": "stdout",
     "output_type": "stream",
     "text": [
      "t_cutoff = 8, N_cutoff = 1\n",
      "Converting initial state to vector form\n"
     ]
    },
    {
     "name": "stderr",
     "output_type": "stream",
     "text": [
      "Evolution Superoperator: 100%|██████████| 6666/6666 [00:12<00:00, 527.58it/s]\n"
     ]
    },
    {
     "name": "stdout",
     "output_type": "stream",
     "text": [
      "t_cutoff = 8, N_cutoff = 2\n",
      "Converting initial state to vector form\n"
     ]
    },
    {
     "name": "stderr",
     "output_type": "stream",
     "text": [
      "Evolution Superoperator: 100%|██████████| 6666/6666 [00:13<00:00, 494.14it/s]\n"
     ]
    },
    {
     "name": "stdout",
     "output_type": "stream",
     "text": [
      "t_cutoff = 8, N_cutoff = 3\n",
      "Converting initial state to vector form\n"
     ]
    },
    {
     "name": "stderr",
     "output_type": "stream",
     "text": [
      "Evolution Superoperator: 100%|██████████| 6666/6666 [00:15<00:00, 417.22it/s]\n"
     ]
    },
    {
     "name": "stdout",
     "output_type": "stream",
     "text": [
      "t_cutoff = 8, N_cutoff = 4\n",
      "Converting initial state to vector form\n"
     ]
    },
    {
     "name": "stderr",
     "output_type": "stream",
     "text": [
      "Evolution Superoperator: 100%|██████████| 6666/6666 [00:19<00:00, 338.14it/s]\n"
     ]
    },
    {
     "name": "stdout",
     "output_type": "stream",
     "text": [
      "t_cutoff = 8, N_cutoff = 5\n",
      "Converting initial state to vector form\n"
     ]
    },
    {
     "name": "stderr",
     "output_type": "stream",
     "text": [
      "Evolution Superoperator: 100%|██████████| 6666/6666 [00:20<00:00, 323.44it/s]\n"
     ]
    },
    {
     "name": "stdout",
     "output_type": "stream",
     "text": [
      "t_cutoff = 8, N_cutoff = 6\n",
      "Converting initial state to vector form\n"
     ]
    },
    {
     "name": "stderr",
     "output_type": "stream",
     "text": [
      "Evolution Superoperator: 100%|██████████| 6666/6666 [00:25<00:00, 259.07it/s]\n"
     ]
    },
    {
     "name": "stdout",
     "output_type": "stream",
     "text": [
      "t_cutoff = 8, N_cutoff = 7\n",
      "Converting initial state to vector form\n"
     ]
    },
    {
     "name": "stderr",
     "output_type": "stream",
     "text": [
      "Evolution Superoperator: 100%|██████████| 6666/6666 [00:25<00:00, 263.35it/s]\n"
     ]
    },
    {
     "name": "stdout",
     "output_type": "stream",
     "text": [
      "t_cutoff = 8, N_cutoff = 8\n",
      "Converting initial state to vector form\n"
     ]
    },
    {
     "name": "stderr",
     "output_type": "stream",
     "text": [
      "Evolution Superoperator: 100%|██████████| 6666/6666 [00:27<00:00, 243.43it/s]\n"
     ]
    },
    {
     "name": "stdout",
     "output_type": "stream",
     "text": [
      "t_cutoff = 8, N_cutoff = 9\n",
      "Converting initial state to vector form\n"
     ]
    },
    {
     "name": "stderr",
     "output_type": "stream",
     "text": [
      "Evolution Superoperator: 100%|██████████| 6666/6666 [00:31<00:00, 213.54it/s]\n"
     ]
    },
    {
     "name": "stdout",
     "output_type": "stream",
     "text": [
      "t_cutoff = 8, N_cutoff = 10\n",
      "Converting initial state to vector form\n"
     ]
    },
    {
     "name": "stderr",
     "output_type": "stream",
     "text": [
      "Evolution Superoperator: 100%|██████████| 6666/6666 [00:32<00:00, 204.49it/s]\n"
     ]
    },
    {
     "name": "stdout",
     "output_type": "stream",
     "text": [
      "t_cutoff = 8, N_cutoff = 11\n",
      "Converting initial state to vector form\n"
     ]
    },
    {
     "name": "stderr",
     "output_type": "stream",
     "text": [
      "Evolution Superoperator: 100%|██████████| 6666/6666 [00:32<00:00, 207.64it/s]\n"
     ]
    },
    {
     "name": "stdout",
     "output_type": "stream",
     "text": [
      "t_cutoff = 8, N_cutoff = 12\n",
      "Converting initial state to vector form\n"
     ]
    },
    {
     "name": "stderr",
     "output_type": "stream",
     "text": [
      "Evolution Superoperator: 100%|██████████| 6666/6666 [00:37<00:00, 177.83it/s]\n"
     ]
    },
    {
     "name": "stdout",
     "output_type": "stream",
     "text": [
      "t_cutoff = 8, N_cutoff = 13\n",
      "Converting initial state to vector form\n"
     ]
    },
    {
     "name": "stderr",
     "output_type": "stream",
     "text": [
      "Evolution Superoperator: 100%|██████████| 6666/6666 [00:44<00:00, 149.93it/s]\n"
     ]
    },
    {
     "name": "stdout",
     "output_type": "stream",
     "text": [
      "t_cutoff = 8, N_cutoff = 14\n",
      "Converting initial state to vector form\n"
     ]
    },
    {
     "name": "stderr",
     "output_type": "stream",
     "text": [
      "Evolution Superoperator: 100%|██████████| 6666/6666 [00:45<00:00, 146.16it/s]\n"
     ]
    },
    {
     "name": "stdout",
     "output_type": "stream",
     "text": [
      "t_cutoff = 9, N_cutoff = 1\n",
      "Converting initial state to vector form\n"
     ]
    },
    {
     "name": "stderr",
     "output_type": "stream",
     "text": [
      "Evolution Superoperator: 100%|██████████| 7500/7500 [00:15<00:00, 488.00it/s]\n"
     ]
    },
    {
     "name": "stdout",
     "output_type": "stream",
     "text": [
      "t_cutoff = 9, N_cutoff = 2\n",
      "Converting initial state to vector form\n"
     ]
    },
    {
     "name": "stderr",
     "output_type": "stream",
     "text": [
      "Evolution Superoperator: 100%|██████████| 7500/7500 [00:15<00:00, 478.22it/s]\n"
     ]
    },
    {
     "name": "stdout",
     "output_type": "stream",
     "text": [
      "t_cutoff = 9, N_cutoff = 3\n",
      "Converting initial state to vector form\n"
     ]
    },
    {
     "name": "stderr",
     "output_type": "stream",
     "text": [
      "Evolution Superoperator: 100%|██████████| 7500/7500 [00:18<00:00, 405.62it/s]\n"
     ]
    },
    {
     "name": "stdout",
     "output_type": "stream",
     "text": [
      "t_cutoff = 9, N_cutoff = 4\n",
      "Converting initial state to vector form\n"
     ]
    },
    {
     "name": "stderr",
     "output_type": "stream",
     "text": [
      "Evolution Superoperator: 100%|██████████| 7500/7500 [00:21<00:00, 345.01it/s]\n"
     ]
    },
    {
     "name": "stdout",
     "output_type": "stream",
     "text": [
      "t_cutoff = 9, N_cutoff = 5\n",
      "Converting initial state to vector form\n"
     ]
    },
    {
     "name": "stderr",
     "output_type": "stream",
     "text": [
      "Evolution Superoperator: 100%|██████████| 7500/7500 [00:22<00:00, 333.63it/s]\n"
     ]
    },
    {
     "name": "stdout",
     "output_type": "stream",
     "text": [
      "t_cutoff = 9, N_cutoff = 6\n",
      "Converting initial state to vector form\n"
     ]
    },
    {
     "name": "stderr",
     "output_type": "stream",
     "text": [
      "Evolution Superoperator: 100%|██████████| 7500/7500 [00:28<00:00, 266.12it/s]\n"
     ]
    },
    {
     "name": "stdout",
     "output_type": "stream",
     "text": [
      "t_cutoff = 9, N_cutoff = 7\n",
      "Converting initial state to vector form\n"
     ]
    },
    {
     "name": "stderr",
     "output_type": "stream",
     "text": [
      "Evolution Superoperator: 100%|██████████| 7500/7500 [00:26<00:00, 286.11it/s]\n"
     ]
    },
    {
     "name": "stdout",
     "output_type": "stream",
     "text": [
      "t_cutoff = 9, N_cutoff = 8\n",
      "Converting initial state to vector form\n"
     ]
    },
    {
     "name": "stderr",
     "output_type": "stream",
     "text": [
      "Evolution Superoperator: 100%|██████████| 7500/7500 [00:29<00:00, 251.39it/s]\n"
     ]
    },
    {
     "name": "stdout",
     "output_type": "stream",
     "text": [
      "t_cutoff = 9, N_cutoff = 9\n",
      "Converting initial state to vector form\n"
     ]
    },
    {
     "name": "stderr",
     "output_type": "stream",
     "text": [
      "Evolution Superoperator: 100%|██████████| 7500/7500 [00:32<00:00, 228.64it/s]\n"
     ]
    },
    {
     "name": "stdout",
     "output_type": "stream",
     "text": [
      "t_cutoff = 9, N_cutoff = 10\n",
      "Converting initial state to vector form\n"
     ]
    },
    {
     "name": "stderr",
     "output_type": "stream",
     "text": [
      "Evolution Superoperator: 100%|██████████| 7500/7500 [00:30<00:00, 243.75it/s]\n"
     ]
    },
    {
     "name": "stdout",
     "output_type": "stream",
     "text": [
      "t_cutoff = 9, N_cutoff = 11\n",
      "Converting initial state to vector form\n"
     ]
    },
    {
     "name": "stderr",
     "output_type": "stream",
     "text": [
      "Evolution Superoperator: 100%|██████████| 7500/7500 [00:38<00:00, 194.65it/s]\n"
     ]
    },
    {
     "name": "stdout",
     "output_type": "stream",
     "text": [
      "t_cutoff = 9, N_cutoff = 12\n",
      "Converting initial state to vector form\n"
     ]
    },
    {
     "name": "stderr",
     "output_type": "stream",
     "text": [
      "Evolution Superoperator: 100%|██████████| 7500/7500 [00:38<00:00, 193.05it/s]\n"
     ]
    },
    {
     "name": "stdout",
     "output_type": "stream",
     "text": [
      "t_cutoff = 9, N_cutoff = 13\n",
      "Converting initial state to vector form\n"
     ]
    },
    {
     "name": "stderr",
     "output_type": "stream",
     "text": [
      "Evolution Superoperator: 100%|██████████| 7500/7500 [00:40<00:00, 186.06it/s]\n"
     ]
    },
    {
     "name": "stdout",
     "output_type": "stream",
     "text": [
      "t_cutoff = 9, N_cutoff = 14\n",
      "Converting initial state to vector form\n"
     ]
    },
    {
     "name": "stderr",
     "output_type": "stream",
     "text": [
      "Evolution Superoperator: 100%|██████████| 7500/7500 [00:42<00:00, 175.26it/s]\n"
     ]
    },
    {
     "name": "stdout",
     "output_type": "stream",
     "text": [
      "t_cutoff = 10, N_cutoff = 1\n",
      "Converting initial state to vector form\n"
     ]
    },
    {
     "name": "stderr",
     "output_type": "stream",
     "text": [
      "Evolution Superoperator: 100%|██████████| 8333/8333 [00:15<00:00, 552.56it/s]\n"
     ]
    },
    {
     "name": "stdout",
     "output_type": "stream",
     "text": [
      "t_cutoff = 10, N_cutoff = 2\n",
      "Converting initial state to vector form\n"
     ]
    },
    {
     "name": "stderr",
     "output_type": "stream",
     "text": [
      "Evolution Superoperator: 100%|██████████| 8333/8333 [00:20<00:00, 416.62it/s]\n"
     ]
    },
    {
     "name": "stdout",
     "output_type": "stream",
     "text": [
      "t_cutoff = 10, N_cutoff = 3\n",
      "Converting initial state to vector form\n"
     ]
    },
    {
     "name": "stderr",
     "output_type": "stream",
     "text": [
      "Evolution Superoperator: 100%|██████████| 8333/8333 [00:19<00:00, 419.20it/s]\n"
     ]
    },
    {
     "name": "stdout",
     "output_type": "stream",
     "text": [
      "t_cutoff = 10, N_cutoff = 4\n",
      "Converting initial state to vector form\n"
     ]
    },
    {
     "name": "stderr",
     "output_type": "stream",
     "text": [
      "Evolution Superoperator: 100%|██████████| 8333/8333 [00:25<00:00, 324.59it/s]\n"
     ]
    },
    {
     "name": "stdout",
     "output_type": "stream",
     "text": [
      "t_cutoff = 10, N_cutoff = 5\n",
      "Converting initial state to vector form\n"
     ]
    },
    {
     "name": "stderr",
     "output_type": "stream",
     "text": [
      "Evolution Superoperator: 100%|██████████| 8333/8333 [00:25<00:00, 325.53it/s]\n"
     ]
    },
    {
     "name": "stdout",
     "output_type": "stream",
     "text": [
      "t_cutoff = 10, N_cutoff = 6\n",
      "Converting initial state to vector form\n"
     ]
    },
    {
     "name": "stderr",
     "output_type": "stream",
     "text": [
      "Evolution Superoperator: 100%|██████████| 8333/8333 [00:21<00:00, 388.81it/s]\n"
     ]
    },
    {
     "name": "stdout",
     "output_type": "stream",
     "text": [
      "t_cutoff = 10, N_cutoff = 7\n",
      "Converting initial state to vector form\n"
     ]
    },
    {
     "name": "stderr",
     "output_type": "stream",
     "text": [
      "Evolution Superoperator: 100%|██████████| 8333/8333 [00:34<00:00, 238.45it/s]\n"
     ]
    },
    {
     "name": "stdout",
     "output_type": "stream",
     "text": [
      "t_cutoff = 10, N_cutoff = 8\n",
      "Converting initial state to vector form\n"
     ]
    },
    {
     "name": "stderr",
     "output_type": "stream",
     "text": [
      "Evolution Superoperator: 100%|██████████| 8333/8333 [00:42<00:00, 194.41it/s]\n"
     ]
    },
    {
     "name": "stdout",
     "output_type": "stream",
     "text": [
      "t_cutoff = 10, N_cutoff = 9\n",
      "Converting initial state to vector form\n"
     ]
    },
    {
     "name": "stderr",
     "output_type": "stream",
     "text": [
      "Evolution Superoperator: 100%|██████████| 8333/8333 [00:33<00:00, 250.40it/s]\n"
     ]
    },
    {
     "name": "stdout",
     "output_type": "stream",
     "text": [
      "t_cutoff = 10, N_cutoff = 10\n",
      "Converting initial state to vector form\n"
     ]
    },
    {
     "name": "stderr",
     "output_type": "stream",
     "text": [
      "Evolution Superoperator: 100%|██████████| 8333/8333 [00:37<00:00, 219.76it/s]\n"
     ]
    },
    {
     "name": "stdout",
     "output_type": "stream",
     "text": [
      "t_cutoff = 10, N_cutoff = 11\n",
      "Converting initial state to vector form\n"
     ]
    },
    {
     "name": "stderr",
     "output_type": "stream",
     "text": [
      "Evolution Superoperator: 100%|██████████| 8333/8333 [00:42<00:00, 195.32it/s]\n"
     ]
    },
    {
     "name": "stdout",
     "output_type": "stream",
     "text": [
      "t_cutoff = 10, N_cutoff = 12\n",
      "Converting initial state to vector form\n"
     ]
    },
    {
     "name": "stderr",
     "output_type": "stream",
     "text": [
      "Evolution Superoperator: 100%|██████████| 8333/8333 [00:42<00:00, 194.12it/s]\n"
     ]
    },
    {
     "name": "stdout",
     "output_type": "stream",
     "text": [
      "t_cutoff = 10, N_cutoff = 13\n",
      "Converting initial state to vector form\n"
     ]
    },
    {
     "name": "stderr",
     "output_type": "stream",
     "text": [
      "Evolution Superoperator: 100%|██████████| 8333/8333 [00:44<00:00, 188.02it/s]\n"
     ]
    },
    {
     "name": "stdout",
     "output_type": "stream",
     "text": [
      "t_cutoff = 10, N_cutoff = 14\n",
      "Converting initial state to vector form\n"
     ]
    },
    {
     "name": "stderr",
     "output_type": "stream",
     "text": [
      "Evolution Superoperator: 100%|██████████| 8333/8333 [00:42<00:00, 195.56it/s]\n"
     ]
    },
    {
     "name": "stdout",
     "output_type": "stream",
     "text": [
      "t_cutoff = 11, N_cutoff = 1\n",
      "Converting initial state to vector form\n"
     ]
    },
    {
     "name": "stderr",
     "output_type": "stream",
     "text": [
      "Evolution Superoperator: 100%|██████████| 9166/9166 [00:13<00:00, 680.66it/s]\n"
     ]
    },
    {
     "name": "stdout",
     "output_type": "stream",
     "text": [
      "t_cutoff = 11, N_cutoff = 2\n",
      "Converting initial state to vector form\n"
     ]
    },
    {
     "name": "stderr",
     "output_type": "stream",
     "text": [
      "Evolution Superoperator: 100%|██████████| 9166/9166 [00:13<00:00, 666.18it/s]\n"
     ]
    },
    {
     "name": "stdout",
     "output_type": "stream",
     "text": [
      "t_cutoff = 11, N_cutoff = 3\n",
      "Converting initial state to vector form\n"
     ]
    },
    {
     "name": "stderr",
     "output_type": "stream",
     "text": [
      "Evolution Superoperator: 100%|██████████| 9166/9166 [00:15<00:00, 606.91it/s]\n"
     ]
    },
    {
     "name": "stdout",
     "output_type": "stream",
     "text": [
      "t_cutoff = 11, N_cutoff = 4\n",
      "Converting initial state to vector form\n"
     ]
    },
    {
     "name": "stderr",
     "output_type": "stream",
     "text": [
      "Evolution Superoperator: 100%|██████████| 9166/9166 [00:21<00:00, 433.69it/s]\n"
     ]
    },
    {
     "name": "stdout",
     "output_type": "stream",
     "text": [
      "t_cutoff = 11, N_cutoff = 5\n",
      "Converting initial state to vector form\n"
     ]
    },
    {
     "name": "stderr",
     "output_type": "stream",
     "text": [
      "Evolution Superoperator: 100%|██████████| 9166/9166 [00:27<00:00, 335.98it/s]\n"
     ]
    },
    {
     "name": "stdout",
     "output_type": "stream",
     "text": [
      "t_cutoff = 11, N_cutoff = 6\n",
      "Converting initial state to vector form\n"
     ]
    },
    {
     "name": "stderr",
     "output_type": "stream",
     "text": [
      "Evolution Superoperator: 100%|██████████| 9166/9166 [00:28<00:00, 318.81it/s]\n"
     ]
    },
    {
     "name": "stdout",
     "output_type": "stream",
     "text": [
      "t_cutoff = 11, N_cutoff = 7\n",
      "Converting initial state to vector form\n"
     ]
    },
    {
     "name": "stderr",
     "output_type": "stream",
     "text": [
      "Evolution Superoperator: 100%|██████████| 9166/9166 [00:26<00:00, 341.99it/s]\n"
     ]
    },
    {
     "name": "stdout",
     "output_type": "stream",
     "text": [
      "t_cutoff = 11, N_cutoff = 8\n",
      "Converting initial state to vector form\n"
     ]
    },
    {
     "name": "stderr",
     "output_type": "stream",
     "text": [
      "Evolution Superoperator: 100%|██████████| 9166/9166 [00:27<00:00, 330.31it/s]\n"
     ]
    },
    {
     "name": "stdout",
     "output_type": "stream",
     "text": [
      "t_cutoff = 11, N_cutoff = 9\n",
      "Converting initial state to vector form\n"
     ]
    },
    {
     "name": "stderr",
     "output_type": "stream",
     "text": [
      "Evolution Superoperator: 100%|██████████| 9166/9166 [00:32<00:00, 278.95it/s]\n"
     ]
    },
    {
     "name": "stdout",
     "output_type": "stream",
     "text": [
      "t_cutoff = 11, N_cutoff = 10\n",
      "Converting initial state to vector form\n"
     ]
    },
    {
     "name": "stderr",
     "output_type": "stream",
     "text": [
      "Evolution Superoperator: 100%|██████████| 9166/9166 [00:36<00:00, 249.01it/s]\n"
     ]
    },
    {
     "name": "stdout",
     "output_type": "stream",
     "text": [
      "t_cutoff = 11, N_cutoff = 11\n",
      "Converting initial state to vector form\n"
     ]
    },
    {
     "name": "stderr",
     "output_type": "stream",
     "text": [
      "Evolution Superoperator: 100%|██████████| 9166/9166 [00:35<00:00, 254.63it/s]\n"
     ]
    },
    {
     "name": "stdout",
     "output_type": "stream",
     "text": [
      "t_cutoff = 11, N_cutoff = 12\n",
      "Converting initial state to vector form\n"
     ]
    },
    {
     "name": "stderr",
     "output_type": "stream",
     "text": [
      "Evolution Superoperator: 100%|██████████| 9166/9166 [00:40<00:00, 224.32it/s]\n"
     ]
    },
    {
     "name": "stdout",
     "output_type": "stream",
     "text": [
      "t_cutoff = 11, N_cutoff = 13\n",
      "Converting initial state to vector form\n"
     ]
    },
    {
     "name": "stderr",
     "output_type": "stream",
     "text": [
      "Evolution Superoperator: 100%|██████████| 9166/9166 [00:42<00:00, 217.39it/s]\n"
     ]
    },
    {
     "name": "stdout",
     "output_type": "stream",
     "text": [
      "t_cutoff = 11, N_cutoff = 14\n",
      "Converting initial state to vector form\n"
     ]
    },
    {
     "name": "stderr",
     "output_type": "stream",
     "text": [
      "Evolution Superoperator: 100%|██████████| 9166/9166 [00:44<00:00, 206.31it/s]\n"
     ]
    },
    {
     "name": "stdout",
     "output_type": "stream",
     "text": [
      "t_cutoff = 12, N_cutoff = 1\n",
      "Converting initial state to vector form\n"
     ]
    },
    {
     "name": "stderr",
     "output_type": "stream",
     "text": [
      "Evolution Superoperator: 100%|██████████| 9999/9999 [00:14<00:00, 699.17it/s]\n"
     ]
    },
    {
     "name": "stdout",
     "output_type": "stream",
     "text": [
      "t_cutoff = 12, N_cutoff = 2\n",
      "Converting initial state to vector form\n"
     ]
    },
    {
     "name": "stderr",
     "output_type": "stream",
     "text": [
      "Evolution Superoperator: 100%|██████████| 9999/9999 [00:18<00:00, 527.05it/s]\n"
     ]
    },
    {
     "name": "stdout",
     "output_type": "stream",
     "text": [
      "t_cutoff = 12, N_cutoff = 3\n",
      "Converting initial state to vector form\n"
     ]
    },
    {
     "name": "stderr",
     "output_type": "stream",
     "text": [
      "Evolution Superoperator: 100%|██████████| 9999/9999 [00:21<00:00, 472.22it/s]\n"
     ]
    },
    {
     "name": "stdout",
     "output_type": "stream",
     "text": [
      "t_cutoff = 12, N_cutoff = 4\n",
      "Converting initial state to vector form\n"
     ]
    },
    {
     "name": "stderr",
     "output_type": "stream",
     "text": [
      "Evolution Superoperator: 100%|██████████| 9999/9999 [00:22<00:00, 452.44it/s]\n"
     ]
    },
    {
     "name": "stdout",
     "output_type": "stream",
     "text": [
      "t_cutoff = 12, N_cutoff = 5\n",
      "Converting initial state to vector form\n"
     ]
    },
    {
     "name": "stderr",
     "output_type": "stream",
     "text": [
      "Evolution Superoperator: 100%|██████████| 9999/9999 [00:23<00:00, 428.84it/s]\n"
     ]
    },
    {
     "name": "stdout",
     "output_type": "stream",
     "text": [
      "t_cutoff = 12, N_cutoff = 6\n",
      "Converting initial state to vector form\n"
     ]
    },
    {
     "name": "stderr",
     "output_type": "stream",
     "text": [
      "Evolution Superoperator: 100%|██████████| 9999/9999 [00:29<00:00, 339.95it/s]\n"
     ]
    },
    {
     "name": "stdout",
     "output_type": "stream",
     "text": [
      "t_cutoff = 12, N_cutoff = 7\n",
      "Converting initial state to vector form\n"
     ]
    },
    {
     "name": "stderr",
     "output_type": "stream",
     "text": [
      "Evolution Superoperator: 100%|██████████| 9999/9999 [00:29<00:00, 339.43it/s]\n"
     ]
    },
    {
     "name": "stdout",
     "output_type": "stream",
     "text": [
      "t_cutoff = 12, N_cutoff = 8\n",
      "Converting initial state to vector form\n"
     ]
    },
    {
     "name": "stderr",
     "output_type": "stream",
     "text": [
      "Evolution Superoperator: 100%|██████████| 9999/9999 [00:30<00:00, 323.63it/s]\n"
     ]
    },
    {
     "name": "stdout",
     "output_type": "stream",
     "text": [
      "t_cutoff = 12, N_cutoff = 9\n",
      "Converting initial state to vector form\n"
     ]
    },
    {
     "name": "stderr",
     "output_type": "stream",
     "text": [
      "Evolution Superoperator: 100%|██████████| 9999/9999 [00:31<00:00, 322.27it/s]\n"
     ]
    },
    {
     "name": "stdout",
     "output_type": "stream",
     "text": [
      "t_cutoff = 12, N_cutoff = 10\n",
      "Converting initial state to vector form\n"
     ]
    },
    {
     "name": "stderr",
     "output_type": "stream",
     "text": [
      "Evolution Superoperator: 100%|██████████| 9999/9999 [00:35<00:00, 280.99it/s]\n"
     ]
    },
    {
     "name": "stdout",
     "output_type": "stream",
     "text": [
      "t_cutoff = 12, N_cutoff = 11\n",
      "Converting initial state to vector form\n"
     ]
    },
    {
     "name": "stderr",
     "output_type": "stream",
     "text": [
      "Evolution Superoperator: 100%|██████████| 9999/9999 [00:39<00:00, 253.77it/s]\n"
     ]
    },
    {
     "name": "stdout",
     "output_type": "stream",
     "text": [
      "t_cutoff = 12, N_cutoff = 12\n",
      "Converting initial state to vector form\n"
     ]
    },
    {
     "name": "stderr",
     "output_type": "stream",
     "text": [
      "Evolution Superoperator: 100%|██████████| 9999/9999 [00:41<00:00, 241.01it/s]\n"
     ]
    },
    {
     "name": "stdout",
     "output_type": "stream",
     "text": [
      "t_cutoff = 12, N_cutoff = 13\n",
      "Converting initial state to vector form\n"
     ]
    },
    {
     "name": "stderr",
     "output_type": "stream",
     "text": [
      "Evolution Superoperator: 100%|██████████| 9999/9999 [00:51<00:00, 194.32it/s]\n"
     ]
    },
    {
     "name": "stdout",
     "output_type": "stream",
     "text": [
      "t_cutoff = 12, N_cutoff = 14\n",
      "Converting initial state to vector form\n"
     ]
    },
    {
     "name": "stderr",
     "output_type": "stream",
     "text": [
      "Evolution Superoperator: 100%|██████████| 9999/9999 [00:45<00:00, 220.88it/s]\n"
     ]
    },
    {
     "name": "stdout",
     "output_type": "stream",
     "text": [
      "t_cutoff = 13, N_cutoff = 1\n",
      "Converting initial state to vector form\n"
     ]
    },
    {
     "name": "stderr",
     "output_type": "stream",
     "text": [
      "Evolution Superoperator: 100%|██████████| 10833/10833 [00:14<00:00, 766.56it/s]\n"
     ]
    },
    {
     "name": "stdout",
     "output_type": "stream",
     "text": [
      "t_cutoff = 13, N_cutoff = 2\n",
      "Converting initial state to vector form\n"
     ]
    },
    {
     "name": "stderr",
     "output_type": "stream",
     "text": [
      "Evolution Superoperator: 100%|██████████| 10833/10833 [00:15<00:00, 721.17it/s]\n"
     ]
    },
    {
     "name": "stdout",
     "output_type": "stream",
     "text": [
      "t_cutoff = 13, N_cutoff = 3\n",
      "Converting initial state to vector form\n"
     ]
    },
    {
     "name": "stderr",
     "output_type": "stream",
     "text": [
      "Evolution Superoperator: 100%|██████████| 10833/10833 [00:16<00:00, 667.87it/s]\n"
     ]
    },
    {
     "name": "stdout",
     "output_type": "stream",
     "text": [
      "t_cutoff = 13, N_cutoff = 4\n",
      "Converting initial state to vector form\n"
     ]
    },
    {
     "name": "stderr",
     "output_type": "stream",
     "text": [
      "Evolution Superoperator: 100%|██████████| 10833/10833 [00:18<00:00, 577.72it/s]\n"
     ]
    },
    {
     "name": "stdout",
     "output_type": "stream",
     "text": [
      "t_cutoff = 13, N_cutoff = 5\n",
      "Converting initial state to vector form\n"
     ]
    },
    {
     "name": "stderr",
     "output_type": "stream",
     "text": [
      "Evolution Superoperator: 100%|██████████| 10833/10833 [00:20<00:00, 522.69it/s]\n"
     ]
    },
    {
     "name": "stdout",
     "output_type": "stream",
     "text": [
      "t_cutoff = 13, N_cutoff = 6\n",
      "Converting initial state to vector form\n"
     ]
    },
    {
     "name": "stderr",
     "output_type": "stream",
     "text": [
      "Evolution Superoperator: 100%|██████████| 10833/10833 [00:23<00:00, 469.51it/s]\n"
     ]
    },
    {
     "name": "stdout",
     "output_type": "stream",
     "text": [
      "t_cutoff = 13, N_cutoff = 7\n",
      "Converting initial state to vector form\n"
     ]
    },
    {
     "name": "stderr",
     "output_type": "stream",
     "text": [
      "Evolution Superoperator: 100%|██████████| 10833/10833 [00:25<00:00, 430.78it/s]\n"
     ]
    },
    {
     "name": "stdout",
     "output_type": "stream",
     "text": [
      "t_cutoff = 13, N_cutoff = 8\n",
      "Converting initial state to vector form\n"
     ]
    },
    {
     "name": "stderr",
     "output_type": "stream",
     "text": [
      "Evolution Superoperator: 100%|██████████| 10833/10833 [00:28<00:00, 384.09it/s]\n"
     ]
    },
    {
     "name": "stdout",
     "output_type": "stream",
     "text": [
      "t_cutoff = 13, N_cutoff = 9\n",
      "Converting initial state to vector form\n"
     ]
    },
    {
     "name": "stderr",
     "output_type": "stream",
     "text": [
      "Evolution Superoperator: 100%|██████████| 10833/10833 [00:30<00:00, 355.51it/s]\n"
     ]
    },
    {
     "name": "stdout",
     "output_type": "stream",
     "text": [
      "t_cutoff = 13, N_cutoff = 10\n",
      "Converting initial state to vector form\n"
     ]
    },
    {
     "name": "stderr",
     "output_type": "stream",
     "text": [
      "Evolution Superoperator: 100%|██████████| 10833/10833 [00:33<00:00, 327.03it/s]\n"
     ]
    },
    {
     "name": "stdout",
     "output_type": "stream",
     "text": [
      "t_cutoff = 13, N_cutoff = 11\n",
      "Converting initial state to vector form\n"
     ]
    },
    {
     "name": "stderr",
     "output_type": "stream",
     "text": [
      "Evolution Superoperator: 100%|██████████| 10833/10833 [00:35<00:00, 304.23it/s]\n"
     ]
    },
    {
     "name": "stdout",
     "output_type": "stream",
     "text": [
      "t_cutoff = 13, N_cutoff = 12\n",
      "Converting initial state to vector form\n"
     ]
    },
    {
     "name": "stderr",
     "output_type": "stream",
     "text": [
      "Evolution Superoperator: 100%|██████████| 10833/10833 [00:37<00:00, 285.93it/s]\n"
     ]
    },
    {
     "name": "stdout",
     "output_type": "stream",
     "text": [
      "t_cutoff = 13, N_cutoff = 13\n",
      "Converting initial state to vector form\n"
     ]
    },
    {
     "name": "stderr",
     "output_type": "stream",
     "text": [
      "Evolution Superoperator: 100%|██████████| 10833/10833 [00:42<00:00, 256.02it/s]\n"
     ]
    },
    {
     "name": "stdout",
     "output_type": "stream",
     "text": [
      "t_cutoff = 13, N_cutoff = 14\n",
      "Converting initial state to vector form\n"
     ]
    },
    {
     "name": "stderr",
     "output_type": "stream",
     "text": [
      "Evolution Superoperator: 100%|██████████| 10833/10833 [00:46<00:00, 235.05it/s]\n"
     ]
    },
    {
     "name": "stdout",
     "output_type": "stream",
     "text": [
      "t_cutoff = 14, N_cutoff = 1\n",
      "Converting initial state to vector form\n"
     ]
    },
    {
     "name": "stderr",
     "output_type": "stream",
     "text": [
      "Evolution Superoperator: 100%|██████████| 11666/11666 [00:14<00:00, 806.19it/s]\n"
     ]
    },
    {
     "name": "stdout",
     "output_type": "stream",
     "text": [
      "t_cutoff = 14, N_cutoff = 2\n",
      "Converting initial state to vector form\n"
     ]
    },
    {
     "name": "stderr",
     "output_type": "stream",
     "text": [
      "Evolution Superoperator: 100%|██████████| 11666/11666 [00:16<00:00, 701.78it/s]\n"
     ]
    },
    {
     "name": "stdout",
     "output_type": "stream",
     "text": [
      "t_cutoff = 14, N_cutoff = 3\n",
      "Converting initial state to vector form\n"
     ]
    },
    {
     "name": "stderr",
     "output_type": "stream",
     "text": [
      "Evolution Superoperator: 100%|██████████| 11666/11666 [00:18<00:00, 615.29it/s]\n"
     ]
    },
    {
     "name": "stdout",
     "output_type": "stream",
     "text": [
      "t_cutoff = 14, N_cutoff = 4\n",
      "Converting initial state to vector form\n"
     ]
    },
    {
     "name": "stderr",
     "output_type": "stream",
     "text": [
      "Evolution Superoperator: 100%|██████████| 11666/11666 [00:20<00:00, 572.12it/s]\n"
     ]
    },
    {
     "name": "stdout",
     "output_type": "stream",
     "text": [
      "t_cutoff = 14, N_cutoff = 5\n",
      "Converting initial state to vector form\n"
     ]
    },
    {
     "name": "stderr",
     "output_type": "stream",
     "text": [
      "Evolution Superoperator: 100%|██████████| 11666/11666 [00:22<00:00, 521.99it/s]\n"
     ]
    },
    {
     "name": "stdout",
     "output_type": "stream",
     "text": [
      "t_cutoff = 14, N_cutoff = 6\n",
      "Converting initial state to vector form\n"
     ]
    },
    {
     "name": "stderr",
     "output_type": "stream",
     "text": [
      "Evolution Superoperator: 100%|██████████| 11666/11666 [00:25<00:00, 463.96it/s]\n"
     ]
    },
    {
     "name": "stdout",
     "output_type": "stream",
     "text": [
      "t_cutoff = 14, N_cutoff = 7\n",
      "Converting initial state to vector form\n"
     ]
    },
    {
     "name": "stderr",
     "output_type": "stream",
     "text": [
      "Evolution Superoperator: 100%|██████████| 11666/11666 [00:27<00:00, 421.41it/s]\n"
     ]
    },
    {
     "name": "stdout",
     "output_type": "stream",
     "text": [
      "t_cutoff = 14, N_cutoff = 8\n",
      "Converting initial state to vector form\n"
     ]
    },
    {
     "name": "stderr",
     "output_type": "stream",
     "text": [
      "Evolution Superoperator: 100%|██████████| 11666/11666 [00:30<00:00, 385.42it/s]\n"
     ]
    },
    {
     "name": "stdout",
     "output_type": "stream",
     "text": [
      "t_cutoff = 14, N_cutoff = 9\n",
      "Converting initial state to vector form\n"
     ]
    },
    {
     "name": "stderr",
     "output_type": "stream",
     "text": [
      "Evolution Superoperator: 100%|██████████| 11666/11666 [00:32<00:00, 359.74it/s]\n"
     ]
    },
    {
     "name": "stdout",
     "output_type": "stream",
     "text": [
      "t_cutoff = 14, N_cutoff = 10\n",
      "Converting initial state to vector form\n"
     ]
    },
    {
     "name": "stderr",
     "output_type": "stream",
     "text": [
      "Evolution Superoperator: 100%|██████████| 11666/11666 [00:35<00:00, 324.31it/s]\n"
     ]
    },
    {
     "name": "stdout",
     "output_type": "stream",
     "text": [
      "t_cutoff = 14, N_cutoff = 11\n",
      "Converting initial state to vector form\n"
     ]
    },
    {
     "name": "stderr",
     "output_type": "stream",
     "text": [
      "Evolution Superoperator: 100%|██████████| 11666/11666 [00:39<00:00, 297.33it/s]\n"
     ]
    },
    {
     "name": "stdout",
     "output_type": "stream",
     "text": [
      "t_cutoff = 14, N_cutoff = 12\n",
      "Converting initial state to vector form\n"
     ]
    },
    {
     "name": "stderr",
     "output_type": "stream",
     "text": [
      "Evolution Superoperator: 100%|██████████| 11666/11666 [00:48<00:00, 238.53it/s]\n"
     ]
    },
    {
     "name": "stdout",
     "output_type": "stream",
     "text": [
      "t_cutoff = 14, N_cutoff = 13\n",
      "Converting initial state to vector form\n"
     ]
    },
    {
     "name": "stderr",
     "output_type": "stream",
     "text": [
      "Evolution Superoperator: 100%|██████████| 11666/11666 [00:50<00:00, 231.15it/s]\n"
     ]
    },
    {
     "name": "stdout",
     "output_type": "stream",
     "text": [
      "t_cutoff = 14, N_cutoff = 14\n",
      "Converting initial state to vector form\n"
     ]
    },
    {
     "name": "stderr",
     "output_type": "stream",
     "text": [
      "Evolution Superoperator: 100%|██████████| 11666/11666 [00:52<00:00, 222.37it/s]\n"
     ]
    }
   ],
   "source": [
    "# Define system operators\n",
    "sp = sigmap()\n",
    "sm = sigmam()\n",
    "sx = sigmax()\n",
    "sz = sigmaz()\n",
    "sy = sigmay()\n",
    "g = sm*sp\n",
    "H = Omega*sx\n",
    "\n",
    "# Parameters\n",
    "Gamma = 1\n",
    "Omega = 1\n",
    "\n",
    "# define dissipator and Hamiltonian\n",
    "c_ops = [1j*np.sqrt(Gamma) * sm]    \n",
    "\n",
    "# steadystate\n",
    "rho0 = fock(2, 0)\n",
    "rhoss = steadystate(H, c_ops)\n",
    "\n",
    "\n",
    "# Loop over different values of N_cutoff and t_cutoff\n",
    "dt = 0.0012\n",
    "\n",
    "t_cutoffs = np.arange(1, 15, 1)\n",
    "N_cutoffs = np.arange(1, 15, 1)\n",
    "W_Ts = np.zeros((len(t_cutoffs), len(N_cutoffs)))\n",
    "\n",
    "\n",
    "for i, t_cutoff in enumerate(t_cutoffs):\n",
    "    for j, N_cutoff in enumerate(N_cutoffs):\n",
    "\n",
    "        print('t_cutoff = {}, N_cutoff = {}'.format(t_cutoff, N_cutoff))\n",
    "\n",
    "        t = np.arange(0, t_cutoff, dt)\n",
    "\n",
    "        # number of chargers to truncate at \n",
    "        Nm = 20\n",
    "        dN = 0.06\n",
    "        N = np.arange(-10, Nm, dN)\n",
    "\n",
    "        # ------ Solve n-resolved method with absorbing boundary conditions ------ #\n",
    "        diff = DiffusiveEvolutionPntAbsorb(H, c_ops, 1, t, N, N_cutoff, kind='single')\n",
    "        Pn_vec = diff.solve(rho0)\n",
    "\n",
    "        # Compute survival probability from analytic solution\n",
    "        P0 = np.sum(Pn_vec, axis=0)\n",
    "        dGt = -np.gradient(P0, dt)\n",
    "\n",
    "        # Integrate first hitting time distribution to t_cutoff\n",
    "        PT = np.sum(dGt)*dt\n",
    "        N_min = np.argmin(np.abs(N-N_cutoff))\n",
    "\n",
    "        Wbar = np.sum(N[:N_min]*Pn_vec[:N_min, -1])\n",
    "        W_Ts[i, j] = N_cutoff * PT + (1-PT) * Wbar"
   ]
  },
  {
   "cell_type": "code",
   "execution_count": 163,
   "metadata": {},
   "outputs": [
    {
     "data": {
      "image/png": "[encoded data removed]",
      "text/plain": [
       "<Figure size 500x300 with 2 Axes>"
      ]
     },
     "metadata": {},
     "output_type": "display_data"
    }
   ],
   "source": [
    "# Make contour plot of W_T\n",
    "fig = plt.figure(figsize=(5, 3))\n",
    "plt.contourf(t_cutoffs, N_cutoffs, W_Ts, 100, cmap='PRGn_r')\n",
    "# plt.imshow(W_Ts, cmap='PRGn_r', origin='lower', extent=[1, 14, 1, 14], aspect='auto')\n",
    "\n",
    "plt.xlabel(r'$\\gamma T$', fontsize=fs)\n",
    "plt.ylabel(r'$\\mathcal{W}_{\\rm th}$', fontsize=fs)\n",
    "plt.grid(False)\n",
    "\n",
    "plt.xticks(np.arange(1, 15, 2), fontsize=fs)\n",
    "plt.yticks(np.arange(1, 15, 2), fontsize=fs)\n",
    "\n",
    "# set colourbar ticksize with integer ticks \n",
    "cbar = plt.colorbar()\n",
    "cbar.ax.tick_params(labelsize=fs)\n",
    "cbar.ax.set_yticks(np.arange(0, 6, 1))\n",
    "\n",
    "plt.show()\n",
    "\n",
    "fig.savefig('Figures/Gambling_demon_mean_contour.png', bbox_inches='tight', dpi=200)\n"
   ]
  },
  {
   "cell_type": "code",
   "execution_count": null,
   "metadata": {},
   "outputs": [],
   "source": [
    "# pickle the data of W_Ts\n",
    "import pickle\n",
    "\n",
    "with open('./Data/W_Ts.pkl', 'wb') as f:\n",
    "    pickle.dump(W_Ts, f)"
   ]
  },
  {
   "cell_type": "code",
   "execution_count": null,
   "metadata": {},
   "outputs": [],
   "source": [
    "test = smesolve(H, rhoss, t, sc_ops = c_ops, e_ops=[sy])"
   ]
  },
  {
   "cell_type": "code",
   "execution_count": null,
   "metadata": {},
   "outputs": [],
   "source": [
    "plt.plot(t, np.cumsum(result.expect[0])*dt)\n",
    "plt.plot(t, np.cumsum(np.mean(Iy, axis=0))*dt)\n",
    "plt.show()"
   ]
  },
  {
   "cell_type": "code",
   "execution_count": 144,
   "metadata": {},
   "outputs": [
    {
     "data": {
      "text/plain": [
       "0.3645886836044492"
      ]
     },
     "execution_count": 144,
     "metadata": {},
     "output_type": "execute_result"
    }
   ],
   "source": [
    "Wbar"
   ]
  },
  {
   "cell_type": "code",
   "execution_count": 138,
   "metadata": {},
   "outputs": [
    {
     "data": {
      "text/plain": [
       "array([[0.77790939, 1.24364636],\n",
       "       [0.77790939, 1.24364636]])"
      ]
     },
     "execution_count": 138,
     "metadata": {},
     "output_type": "execute_result"
    }
   ],
   "source": [
    "W_Ts"
   ]
  },
  {
   "cell_type": "code",
   "execution_count": null,
   "metadata": {},
   "outputs": [],
   "source": []
  }
 ],
 "metadata": {
  "kernelspec": {
   "display_name": "base",
   "language": "python",
   "name": "python3"
  },
  "language_info": {
   "codemirror_mode": {
    "name": "ipython",
    "version": 3
   },
   "file_extension": ".py",
   "mimetype": "text/x-python",
   "name": "python",
   "nbconvert_exporter": "python",
   "pygments_lexer": "ipython3",
   "version": "3.10.9"
  },
  "orig_nbformat": 4
 },
 "nbformat": 4,
 "nbformat_minor": 2
}
