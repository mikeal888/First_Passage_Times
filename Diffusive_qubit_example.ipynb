{
 "cells": [
  {
   "cell_type": "markdown",
   "id": "4ee27858",
   "metadata": {},
   "source": [
    "## FHT with qubit\n",
    "\n",
    "We will use this example to better understand how we can compute the FPT. The idea is simple, under either homodyne or photon counting, can we compute the FHT for the system to undergo some kind of evolution. We will not focus on the clock example initially, but will come back to it in detail.\n",
    "\n",
    "Here we will assume that the system is evolving under some Lindblad equation \n",
    "\\begin{equation}\n",
    "    \\frac{d\\rho}{dt} = \\mathcal{L}(\\rho)\\,.\n",
    "\\end{equation}\n",
    "When computing the first hitting time, we want to define a subspace of the Hilbert space that is an absorbing boundary condition. In this sense, whenever the state $\\rho$ has a non-zero overlap with this subspace, some probability is lost. This is very similar to having absorbing boundary conditions in say the heat equation.\n",
    "Let us define a projector onto this subspace as $\\mathcal{M}(\\rho) = \\Lambda \\rho \\Lambda^{\\dagger}$ which satisfies $\\sum_{i} \\Lambda^{\\dagger}\\Lambda = \\mathbb{I}$.\n",
    "The probability at any given time that the state is in this subspace is given by $P(\\Lambda) = {\\rm Tr} [\\Lambda^{\\dagger}\\Lambda\\rho]$.\n",
    "Thus, at each time-step, if the wave function has any non-zero overlap with this subspace we want to remove it from the subspace. \n",
    "To to this, we can define the unnormalised density matrix \n",
    "\\begin{equation}\n",
    "    \\frac{d\\tilde{\\rho}}{dt} = \\mathcal{L}(\\tilde{\\rho}) - \\mathcal{M}(\\tilde{\\rho})\\,,\n",
    "\\end{equation}\n",
    "where the probability that at time $t$, the state is still hasn't \"hit\" the subspace is given by $P(\\sim\\Lambda) = {\\rm Tr}[\\tilde{\\rho}]$, where we have used the notation $\\sim \\Lambda$ to indicate not in the subspace. \n",
    "Clearly, this probability evolves according to the differential equation\n",
    "\\begin{equation}\n",
    "    \\frac{d P(\\sim \\Lambda)}{dt} = - {\\rm Tr}[\\mathcal{M}(\\tilde{\\rho})]\\,,\n",
    "\\end{equation}\n",
    "Thererfore, we know that what Gardiner calls $G(x,t)$ in his notes is equivalent to our $P(\\sim \\Lambda)$, and what he calls $\\partial_{t} G(x,t)$ is equivalent to $\\dot{P}(\\sim \\Lambda)$.\n",
    "Moreover, the the FHT is therefore given by $\\bar{t} = -\\int_{0}^{\\infty}dt \\partial_{t}G(x, t) t$ which in our case is given by \n",
    "\\begin{equation}\n",
    "    \\bar{t} = \\int_{0}^{\\infty} dt {\\rm Tr}[\\mathcal{M}(\\tilde{\\rho})] t \n",
    "\\end{equation}"
   ]
  },
  {
   "cell_type": "code",
   "execution_count": null,
   "id": "6bb31f0e",
   "metadata": {},
   "outputs": [],
   "source": [
    "import numpy as np\n",
    "import matplotlib.pyplot as plt\n",
    "from qutip import *\n",
    "from scipy.integrate import trapz\n",
    "from time import time\n",
    "from tqdm import tqdm\n",
    "\n",
    "plt.style.use('default')\n",
    "plt.rcParams.update({\n",
    "    \"text.usetex\": True,\n",
    "    \"font.family\": \"sans-serif\",\n",
    "    \"font.sans-serif\": [\"Helvetica\"]})\n",
    "\n",
    "plt.rcParams.update({'font.size': 24})\n",
    "\n",
    "from jupyterthemes import jtplot\n",
    "# jtplot.style()\n",
    "jtplot.style(theme='grade3')\n",
    "\n",
    "\n",
    "def tilted_liouvillian(H, L, chi, v):\n",
    "    '''\n",
    "    Compute the tilted liouvillian for a single jump operator\n",
    "\n",
    "    Parameters\n",
    "    ----------\n",
    "    H : qobj\n",
    "        The Hamiltonian of the system\n",
    "    L : qobj\n",
    "        The jump operator\n",
    "    chi : float \n",
    "        The value of the counting field\n",
    "    v : float\n",
    "        The value of the counting field\n",
    "\n",
    "    Returns\n",
    "    -------\n",
    "    L_tilt : qobj\n",
    "        The tilted liouvillian\n",
    "    '''\n",
    "    \n",
    "    # Only works for one jump operator\n",
    "    L_vec = liouvillian(H, [L])\n",
    "    L_tilt = L_vec + 1j*chi * ( spre(L) + spost(L.dag()) ) - (chi**2 / (2))\n",
    "    \n",
    "    return L_tilt\n",
    "\n",
    "# We can pass this tilted liouvillian to the mesolve function\n",
    "def solve_tilted_liouvillian(H, L, chi_list, rho0, t, dt):\n",
    "    '''\n",
    "\n",
    "    Solve the Titlted Liouvillian for a single operator using mesolve\n",
    "\n",
    "    Parameters\n",
    "    ----------\n",
    "    H : qobj\n",
    "        The Hamiltonian of the system\n",
    "    L : qobj\n",
    "        The jump operator\n",
    "    chi_list : list\n",
    "        The list of chi values for the counting field\n",
    "    v : float\n",
    "        The value of the counting field\n",
    "    rho0 : qobj\n",
    "        The initial state of the system\n",
    "    t : list\n",
    "        The time list   \n",
    "    \n",
    "    Returns\n",
    "    -------\n",
    "    pchis : list\n",
    "        The list of pchi values for each chi value as a function of time \n",
    "    '''\n",
    "    \n",
    "    # Vectorize the initial state\n",
    "    rho_ss_vec = operator_to_vector(rho0)\n",
    "\n",
    "    # Initialize the list of pchi values\n",
    "    pchis = np.zeros((len(chi_list), len(t)), dtype=complex)\n",
    "\n",
    "    # Loop over the chi values\n",
    "    liouvs = [tilted_liouvillian(H, L, i, 1) for i in tqdm(chi_list, desc=\"Computing tilted liouvillians\")]\n",
    "\n",
    "    # Loop over the chi values and times \n",
    "    for i in tqdm(range(len(chi_list)), desc=\"Computing pchi values\"):\n",
    "\n",
    "        L_i = (liouvs[i]*dt).expm()\n",
    "        rho_temp = rho_ss_vec\n",
    "        for j, t_j in enumerate(t):\n",
    "\n",
    "            rho_new = L_i * rho_temp\n",
    "            pchis[i, j] = vector_to_operator(rho_new).tr()\n",
    "            rho_temp = rho_new\n",
    "\n",
    "    return pchis"
   ]
  },
  {
   "cell_type": "code",
   "execution_count": null,
   "id": "5d37a696",
   "metadata": {},
   "outputs": [],
   "source": [
    "# Create some useful fuctions\n",
    "def catch(xei, xr):\n",
    "    \n",
    "    # Catch instances where min isn't met\n",
    "    \n",
    "    try:\n",
    "        return np.min(np.where(np.real(xei)>=xr))\n",
    "    except ValueError:\n",
    "        return -1\n",
    "\n",
    "# Define function for jumpy operators\n",
    "def jump_ops(m_ops, method='PD'):\n",
    "\n",
    "    if method == 'PD':\n",
    "        L1 = [to_super(m_op) for m_op in m_ops]\n",
    "        \n",
    "    elif method == 'Homodyne':\n",
    "         L1 = [spre(m_op) + spost(m_op.dag()) for m_op in m_ops]\n",
    "    else:\n",
    "        raise NameError(\"Check method. It should be 'PD' or 'Homodyne', not: {} \".format(method))\n",
    "\n",
    "    return L1\n",
    "    "
   ]
  },
  {
   "cell_type": "code",
   "execution_count": null,
   "id": "1327b03e-9a26-4bbb-8e07-4448862dd7e3",
   "metadata": {},
   "outputs": [],
   "source": [
    "# Define system parameters\n",
    "k = 0.5\n",
    "Ω = 1\n",
    "\n",
    "# useful operators\n",
    "sz = sigmaz()\n",
    "sx = sigmax()\n",
    "sy = sigmay()\n",
    "sm = sigmam()\n",
    "sp = sigmap()\n",
    "\n",
    "# ground state and excited states\n",
    "ground = fock_dm(2, 0)\n",
    "excited = fock_dm(2, 1)\n",
    "\n",
    "ground_vec = operator_to_vector(ground)\n",
    "excited_vec = operator_to_vector(excited)\n",
    "\n",
    "# Create time list for average and stochastic\n",
    "t0 = 0\n",
    "t1 = 25\n",
    "dt = 0.005\n",
    "t1s = 25\n",
    "dts = 0.005\n",
    "t = np.arange(t0, t1, dt)\n",
    "ts = np.arange(t0, t1s, dts)"
   ]
  },
  {
   "cell_type": "markdown",
   "id": "49abe85a",
   "metadata": {},
   "source": [
    "## As a start, focus on the Waiting time distribution for jumps\n",
    "\n",
    "Let's first consider a simple example of a driven qubit given by the Hamiltonian \n",
    "\\begin{equation}\n",
    "    H = \\frac{\\Omega}{2}\\sigma_{x}\n",
    "\\end{equation}\n",
    "which is subject to spontaneous emission $L = \\sqrt{\\gamma} \\sigma_{-}$. Let us define the subspace as the first time that the particle undergoes a jump, that is $\\mathcal{M}(\\rho) = \\sigma_{-}\\rho \\sigma_{+}$. \n",
    "In this model we can define the following quantities:\n",
    "1. The probability that at a time $t$ they system hasn't undergone a jump is $P(\\sim jump, t) = {\\rm Tr}[\\tilde{\\rho}]$.\n",
    "2. The probability that at the given time $t$ the the a jump will occur $P(jump|t) =\\gamma {\\rm Tr}[\\sigma_{+} \\sigma_{-}\\tilde{\\rho}]$, sometimes called the waiting time distribution.\n",
    "\n",
    "Note these two are very different. The first asks the probability that after time $t$ has not occured. It's negation states, that what is the probability that at time $t$ what is the probability that a jump has occured, is not the same as the waiting time distribution because we do not care when the jump occured, only that it did occur. \n",
    "Moreover, it is clear that $-P(jump | t) = \\dot{P}(\\sim jump, t)$ from the definition given at the start, which means that $G(jump, t) = -P(jump | t)$, which is the well known result."
   ]
  },
  {
   "cell_type": "code",
   "execution_count": null,
   "id": "a329d207-7d37-4fa4-8a54-0bb18a029c94",
   "metadata": {},
   "outputs": [],
   "source": [
    "# Define dissipator\n",
    "L = np.sqrt(k)*sm\n",
    "c_ops = [L]\n",
    "\n",
    "# Define system Hamiltonian\n",
    "H = (Ω/2)*sx\n",
    "\n",
    "# Define steadystate and convert to vector\n",
    "rho_ss = steadystate(H, c_ops)\n",
    "rho_ss_vec = operator_to_vector(rho_ss)\n",
    "\n",
    "def H_eff_super(H, G):\n",
    "    # Effective Hamiltonian in super form\n",
    "    return -1j*(spre(H) - spost(H)) - 0.5*(spre(G) + spost(G)) \n",
    "\n",
    "J0 = jump_ops(c_ops)[0]\n",
    "L0 = liouvillian(H, c_ops) - J0\n",
    "rho0t = mesolve(L0, rho_ss, t, [], []).states"
   ]
  },
  {
   "cell_type": "code",
   "execution_count": null,
   "id": "9b38d468-aa5a-41a2-8f0b-14a4d65a8781",
   "metadata": {},
   "outputs": [],
   "source": [
    "# Compute Pxt distribution as a function of time\n",
    "P0t = np.array([np.abs(rhoi.tr()) for rhoi in rho0t])\n",
    "\n",
    "# Waiting time distribution (Gabriel)\n",
    "waiting = np.array([expect(L.dag()*L, rhoi) for rhoi in rho0t])\n",
    "P1t_d = np.array([expect(excited, rhoi) for rhoi in rho0t])\n",
    "\n",
    "# Following Gardiners description compute G0t\n",
    "G0t = -np.gradient(P0t)/dt\n",
    "\n",
    "# Compute mean jump time \n",
    "tbar = sum(G0t * t)*dt\n",
    "\n",
    "# This seems right\n",
    "print('integral of G(jump, t) =', np.sum(G0t)*dt)"
   ]
  },
  {
   "cell_type": "code",
   "execution_count": null,
   "id": "9a26efea-c8b0-4dbd-906c-5c29432be686",
   "metadata": {},
   "outputs": [],
   "source": [
    "plt.plot(t, P0t, 'r', label=r'${\\rm Tr}[\\tilde{\\rho}]$')\n",
    "plt.plot(t, waiting, 'g', label=r'$\\gamma {\\rm Tr}[\\sigma_{+}\\sigma_{-}\\tilde{\\rho}]$')\n",
    "plt.fill_between(t, G0t, alpha=0.2, color='g', label=r'$\\frac{d{\\rm Tr}[\\tilde{\\rho}]}{dt}$')\n",
    "plt.vlines(tbar, 0, 1, color='b', linestyle='--', label=r'$\\bar{T}$')\n",
    "plt.xlabel(r'$t$')\n",
    "plt.legend()\n",
    "plt.show()"
   ]
  },
  {
   "cell_type": "code",
   "execution_count": null,
   "id": "f70a4d9d-135a-43d8-91a3-2f4d7bd45e1e",
   "metadata": {},
   "outputs": [],
   "source": [
    "# opts_stoch = Options(store_all_expect=True)\n",
    "ntraj = 1000\n",
    "results = photocurrent_mesolve(H, rho_ss, ts, sc_ops=[L], e_ops=[excited], ntraj=ntraj, store_measurement=True)\n",
    "\n",
    "# Get photocurrent signal\n",
    "measurments = (np.array(results.measurement)*dts).astype('int').T[0]"
   ]
  },
  {
   "cell_type": "code",
   "execution_count": null,
   "id": "268a1ab3",
   "metadata": {},
   "outputs": [],
   "source": [
    "def get_first_hit(array, x):\n",
    "    # create a function that returs first hitting time of array >= x\n",
    "    try: \n",
    "        return np.min(np.where(array>=x))\n",
    "    except ValueError:\n",
    "        return None\n",
    "    \n",
    "\n",
    "# Get first hitting indices    \n",
    "inds = np.array([get_first_hit(mi, 1) for mi in measurments.T])\n",
    "inds = inds[inds != None]\n",
    "\n",
    "# Get first hitting times\n",
    "hitting_times = ts[list(inds)]"
   ]
  },
  {
   "cell_type": "code",
   "execution_count": null,
   "id": "596e05e4",
   "metadata": {},
   "outputs": [],
   "source": [
    "fig = plt.figure()\n",
    "\n",
    "plt.hist(hitting_times, density=True, bins=100, color='g', alpha=0.5, edgecolor='k', label=r'$N$')\n",
    "plt.plot(t, P0t, 'r', label=r'${\\rm Tr}[\\tilde{\\rho}]$')\n",
    "plt.plot(t, waiting, 'g', label=r'$\\gamma {\\rm Tr}[\\sigma_{+}\\sigma_{-}\\tilde{\\rho}]$')\n",
    "plt.vlines(np.mean(hitting_times), 0, 1, color='b', linestyle='--', label=r'$\\bar{T}$')\n",
    "plt.xlabel(r'$t$')\n",
    "plt.legend()\n",
    "plt.show()\n",
    "\n",
    "plt.show()\n",
    "\n",
    "# fig.savefig('Waiting_time.png', dpi=200, bbox_inches='tight')"
   ]
  },
  {
   "cell_type": "markdown",
   "id": "ded398a1",
   "metadata": {},
   "source": [
    "## Now study Homodyne current\n",
    "\n",
    "So the waiting time distribution is a relatively easy concept to define, but what about something from the homodyne current? "
   ]
  },
  {
   "cell_type": "code",
   "execution_count": null,
   "id": "43d641be",
   "metadata": {},
   "outputs": [],
   "source": [
    "# opts_stoch = Options(store_all_expect=True)\n",
    "ntraj = 2000\n",
    "results_homodyne = smesolve(H, rho_ss, ts, sc_ops=[1j*L], e_ops=[excited, sx, sy], ntraj=ntraj, store_all_expect=True, store_measurement=True)"
   ]
  },
  {
   "cell_type": "code",
   "execution_count": null,
   "id": "81d7c7f9",
   "metadata": {},
   "outputs": [],
   "source": [
    "# Study the integrated current over time of sy \n",
    "sy_expect = np.real(np.array(results_homodyne.runs_expect))[:, 2, :]\n",
    "sy_integrate = np.cumsum(sy_expect, axis=1)*dts\n",
    "\n",
    "# Get Homodyne signal\n",
    "homodyne =  np.real(np.array(results_homodyne.measurement)).astype('float32').T[0]\n",
    "homodyne_integrate = np.cumsum(homodyne, axis=0)*dts"
   ]
  },
  {
   "attachments": {},
   "cell_type": "markdown",
   "id": "eeea7f33",
   "metadata": {},
   "source": [
    "So we can clearly see that there is a fininte probability that the signal can decrease in time, which means this is not a time-homogenous process.\n",
    "\n",
    "It further indicates that this time process can decrease in time. This means, that if we naievely take $\\mathcal{L} - \\mathcal{H}$, then we will get negative values in $G(t)$"
   ]
  },
  {
   "cell_type": "code",
   "execution_count": null,
   "id": "07abfb83",
   "metadata": {},
   "outputs": [],
   "source": [
    "fig = plt.figure()\n",
    "plt.plot(ts, homodyne_integrate[:, :20], color='g', alpha=0.2)\n",
    "plt.plot(ts, np.mean(homodyne_integrate, axis=1), color='r', label=r'$\\langle \\sigma_{y} \\rangle_{H}$')\n",
    "plt.plot(t, np.sqrt(k)*np.mean(sy_integrate, axis=0), color='b', label=r'$\\langle \\sigma_{y} \\rangle_{I}$')\n",
    "plt.xlabel(r'$t$')\n",
    "plt.ylabel(r'$ \\int_{0}^{t} I(\\tau)d\\tau $')\n",
    "\n",
    "plt.show()\n",
    "# fig.savefig('Integrated_current.png', dpi=200, bbox_inches='tight')"
   ]
  },
  {
   "cell_type": "code",
   "execution_count": null,
   "id": "bb0b4abb",
   "metadata": {},
   "outputs": [],
   "source": [
    "# Get hitting times of homodyne dynamics\n",
    "nmin = 1\n",
    "inds_homodyne = np.array([get_first_hit(mi, nmin) for mi in homodyne_integrate.T])\n",
    "inds_homodyne = inds_homodyne[inds_homodyne != None]\n",
    "\n",
    "# Get first hitting times for homodyne\n",
    "hitting_times_homodyne = ts[list(inds_homodyne)]\n",
    "mean_hitting_time_homodyne_sim = np.mean(hitting_times_homodyne)"
   ]
  },
  {
   "attachments": {},
   "cell_type": "markdown",
   "id": "14c35052",
   "metadata": {},
   "source": [
    "# Here we will study the tilted Liouvillian"
   ]
  },
  {
   "cell_type": "code",
   "execution_count": 97,
   "id": "1454c940",
   "metadata": {},
   "outputs": [],
   "source": [
    "# Create chi space and compute tilted Liouvillians\n",
    "dchi = 0.005\n",
    "chi = np.arange(-30, 30, dchi)\n",
    "\n",
    "# Creatte time space\n",
    "dtimes = 0.01\n",
    "times = np.arange(0.0, 20, dtimes)\n",
    "\n",
    "# Compute tilted Liouvillians\n",
    "pchis = solve_tilted_liouvillian(H, 1j*L, chi, rho_ss, times, dtimes)"
   ]
  },
  {
   "cell_type": "code",
   "execution_count": null,
   "id": "a0a9094a",
   "metadata": {},
   "outputs": [],
   "source": [
    "# Now compute integral over n = 1\n",
    "dn = 0.1\n",
    "nvals = np.arange(-20, 20, dn)\n",
    "Pnt = np.real(np.array([trapz(np.exp(-1j*ni*chi)*pchis.T, chi, dx=dchi, axis=1)/(2*np.pi) for ni in nvals]))*dn"
   ]
  },
  {
   "cell_type": "code",
   "execution_count": null,
   "id": "3dc15465",
   "metadata": {},
   "outputs": [],
   "source": [
    "plt.plot(nvals, Pnt, color='r', alpha=0.1)\n",
    "\n",
    "# plt.ylim(-0.5,0.5)\n",
    "plt.show()"
   ]
  },
  {
   "cell_type": "code",
   "execution_count": null,
   "id": "d566a832",
   "metadata": {},
   "outputs": [],
   "source": [
    "Pnt_less_1 = Pnt.copy()\n",
    "Pnt_less_1[nvals > 1] = 0\n",
    "P1t = np.sum(Pnt_less_1, axis=0)\n",
    "\n",
    "# Compute G0t and mean hitting time\n",
    "dG0t_hom_tilted = -np.gradient(P1t)/dtimes\n",
    "\n",
    "mean_hitting_time_homodyne_tilted = np.sum(times*dG0t_hom_tilted)*dtimes"
   ]
  },
  {
   "cell_type": "code",
   "execution_count": null,
   "id": "9f15c29a",
   "metadata": {},
   "outputs": [],
   "source": [
    "# Plot the results of Pnt vs nvals\n",
    "\n",
    "fig = plt.figure(figsize=(13, 5))\n",
    "\n",
    "plt.subplot(1, 2, 1)\n",
    "for Pnt_fill in Pnt_less_1.T:\n",
    "    plt.fill_between(nvals, Pnt_fill, color='r', alpha=0.2)\n",
    "\n",
    "plt.plot(nvals, Pnt, color='k', linewidth=0.5)\n",
    "plt.ylim(0, 0.13)\n",
    "plt.xlim(-10, 10)\n",
    "\n",
    "plt.xlabel(r'$n$')\n",
    "plt.ylabel(r'$P(N, t)$')\n",
    "\n",
    "plt.subplot(1, 2, 2)\n",
    "plt.plot(times, P1t, color='b', label=r'$P(N=1, t)$')\n",
    "plt.plot(times, dG0t_hom_tilted, color='r', label=r'$G(N,t)$')\n",
    "plt.hist(hitting_times_homodyne, bins=100, density=True, alpha=0.5, edgecolor='k', color='g', label=r'trajectories')\n",
    "\n",
    "plt.vlines(mean_hitting_time_homodyne_sim, 0, 1, color='k', linestyle='--', linewidth=2, label =r'$\\bar{T}_{traj}$')\n",
    "plt.vlines(mean_hitting_time_homodyne_tilted, 0, 1, color='r', linestyle='--', linewidth=2, label=r'$\\bar{T}$')\n",
    "\n",
    "plt.xlabel(r'$t$')\n",
    "plt.ylim(-0.05, 0.5)\n",
    "plt.legend()\n",
    "\n",
    "plt.show()\n",
    "\n",
    "# fig.savefig('Pnt_vs_nvals_hom.png', dpi=300, bbox_inches='tight')"
   ]
  },
  {
   "cell_type": "code",
   "execution_count": null,
   "id": "8ebc2b44",
   "metadata": {},
   "outputs": [],
   "source": [
    "mean_hitting_time_homodyne_sim"
   ]
  },
  {
   "cell_type": "code",
   "execution_count": null,
   "id": "a652306b",
   "metadata": {},
   "outputs": [],
   "source": [
    "np.sum(P1t)*dtimes"
   ]
  },
  {
   "cell_type": "code",
   "execution_count": null,
   "id": "010b6055",
   "metadata": {},
   "outputs": [],
   "source": [
    "sy"
   ]
  },
  {
   "cell_type": "code",
   "execution_count": null,
   "id": "8e0a31dd",
   "metadata": {},
   "outputs": [],
   "source": [
    "sp"
   ]
  },
  {
   "cell_type": "code",
   "execution_count": null,
   "id": "e93a24c4",
   "metadata": {},
   "outputs": [],
   "source": []
  }
 ],
 "metadata": {
  "kernelspec": {
   "display_name": "base",
   "language": "python",
   "name": "python3"
  },
  "language_info": {
   "codemirror_mode": {
    "name": "ipython",
    "version": 3
   },
   "file_extension": ".py",
   "mimetype": "text/x-python",
   "name": "python",
   "nbconvert_exporter": "python",
   "pygments_lexer": "ipython3",
   "version": "3.10.9"
  },
  "vscode": {
   "interpreter": {
    "hash": "033e9a9ec91bcc4e13847a3a49460902be0d27ef42562e236d63618c6aca313e"
   }
  }
 },
 "nbformat": 4,
 "nbformat_minor": 5
}
