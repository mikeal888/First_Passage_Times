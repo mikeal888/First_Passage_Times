{
 "cells": [
  {
   "attachments": {},
   "cell_type": "markdown",
   "metadata": {},
   "source": [
    "# KUR for counting observables\n",
    "\n",
    "Here we will study the example given by Juan P Garrahan on fluctuations in counting observables. The idea is quite simple. Suppose we have some classical jump process where we have some counting observable $A$ (i.e particle current). We also have an associate dynamical activity with this quantity $K_{A}$. We can also define the time (which is a random variable) for which this stochastic process takes to hit the value $A$, which we will denote $\\tau_{A}$. What Garrahan shows, is that the signal to noise ratio of the First hitting time (FHT) of the counting observable $A$ is given by \n",
    "$$\n",
    "\\frac{{\\rm E} [\\tau_{A}]^{2}}{{\\rm Var}[\\tau_{A}]} \\leq {\\rm E}[\\tau_{A}] K_{A}\n",
    "$$\n",
    "Those familiar with Tan Van Vu's paper on the similar topic will immediately recognise the similarities between the two. The main difference is that in Garrahan's paper, the counting observable is for a classical, whereas in Tan Van Vu's paper is for a quantum system.\n",
    "\n",
    "He we will model the classcial process via the classical rate equation\n",
    "$$\n",
    "\\frac{d\\rho_{t}}{dt} = \\gamma_{+}\\mathcal{D}[c^{\\dagger}]\\rho + \\gamma_{-}\\mathcal{D}[c]\\rho\n",
    "$$\n",
    "which we can make quantum mechanical by adding a Rabi drive along $\\sigma_{x}$ direction \n",
    "$$\n",
    "\\frac{d\\rho_{t}}{dt} = -i[\\Omega \\sigma_{x}, \\rho] + \\gamma_{+}\\mathcal{D}[c^{\\dagger}]\\rho + \\gamma_{-}\\mathcal{D}[c]\\rho \n",
    "$$\n",
    "We expect Garrahan's inequality to be violated in this case but satisified in the former. Tan Van Vu's should offer the correct bound in both cases. Here $\\gamma_{+} = \\gamma (n + 1)$ and $\\gamma_{-} = \\gamma n$.\n",
    "\n",
    "We can compute the dynamical activity using \n",
    "$$\n",
    "K_{A} = \\sum_{i=1}^{2}{\\rm tr}[L_{k}^{\\dagger}L_{k}\\rho_{ss}] = \\frac{2 \\gamma  (2 n+1) \\left(\\gamma ^2 n (n+1)+2 \\Omega ^2\\right)}{(\\gamma +2 \\gamma  n)^2+8 \\Omega ^2}\n",
    "$$\n",
    "where $\\rho_{ss}$ is the steadystate.\n",
    "Van Vu's inequality is a modification of Garrahans inequality. It is given by\n",
    "$$\n",
    "\\frac{{\\rm E}[\\tau_{A}]^{2}}{{\\rm Var}[\\tau_{A}]} \\leq {\\rm E}[\\tau_{A}] \\left(K_{A} + \\mathcal{Q}\\right)\n",
    "$$\n",
    "where \n",
    "$$\n",
    "\\mathcal{Q} = -4\\left( \\bra{I} \\mathcal{K}_{1}\\mathcal{L}^{+}\\mathcal{K}_{2}\\ket{\\rho_{ss}} + \\bra{I} \\mathcal{K}_{2}\\mathcal{L}^{+}\\mathcal{K}_{1}\\ket{\\rho_{ss}}\\right) = \\frac{64 \\Omega ^2 \\left(\\gamma ^2 n (n+1)+2 \\Omega ^2\\right)}{8 \\gamma  (2 n+1) \\Omega ^2+(\\gamma +2 \\gamma  n)^3}\\,.\n",
    "$$\n",
    "Clearly when $\\Omega=0$ we recover Garrahan's inequality."
   ]
  },
  {
   "cell_type": "code",
   "execution_count": 10,
   "metadata": {},
   "outputs": [],
   "source": [
    "import numpy as np\n",
    "from qutip import *\n",
    "import matplotlib.pyplot as plt\n",
    "from _funcs import *\n",
    "\n",
    "import seaborn as sns\n",
    "plt.rc('text', usetex=True)\n",
    "sns.set()\n",
    "\n",
    "def get_first_hit(array, x):\n",
    "    # create a function that returs first hitting time of array >= x\n",
    "    try: \n",
    "        return np.min(np.where(array>=x))\n",
    "    except ValueError:\n",
    "        return None\n",
    "    \n",
    "\n",
    "def dynamical_activity(n, gamma, omega):\n",
    "    numerator = 2 * (1 + 2 * n) * gamma * (n * (1 + n) * gamma**2 + 2 * omega**2)\n",
    "    denominator = ((gamma + 2 * n * gamma)**2 + 8 * omega**2)\n",
    "    return numerator / denominator\n",
    "\n",
    "def quantum_dynamical_activity(n, gamma, Omega):\n",
    "    numerator = 64 * Omega**2 * (gamma**2 * n * (n+1) + 2 * Omega**2)\n",
    "    denominator = 8 * gamma * (2*n+1) * Omega**2 + (gamma + 2*gamma*n)**3\n",
    "    return numerator / denominator\n"
   ]
  },
  {
   "cell_type": "code",
   "execution_count": 55,
   "metadata": {},
   "outputs": [],
   "source": [
    "# Parameters\n",
    "gamma = 1\n",
    "nbar = 0.2\n",
    "Omega = 0.5\n",
    "dt = 0.0005\n",
    "dts = 0.01\n",
    "tf = 30\n",
    "t = np.arange(0, tf, dt)\n",
    "ts = np.arange(0, tf, dts)\n",
    "\n",
    "# Define system operators\n",
    "sp = sigmap()\n",
    "sm = sigmam()\n",
    "sx = sigmax()\n",
    "sz = sigmaz()\n",
    "H = Omega*sx\n",
    "\n",
    "# define dissipator and Hamiltonian\n",
    "c_ops = [np.sqrt(gamma * (1+nbar)) * sm, np.sqrt(gamma * nbar) * sp]    \n",
    "H_eff = H - 0.5j * sum([c_op.dag() * c_op for c_op in c_ops])\n",
    "\n",
    "# steadystate\n",
    "rho_ss = steadystate(H, c_ops)\n",
    "\n",
    "# Compute dynamical activity per unity time\n",
    "K = sum([expect(c_op.dag() * c_op, rho_ss) for c_op in c_ops])\n",
    "Q = quantum_dynamical_activity(nbar, gamma, Omega)"
   ]
  },
  {
   "cell_type": "code",
   "execution_count": 56,
   "metadata": {},
   "outputs": [
    {
     "name": "stdout",
     "output_type": "stream",
     "text": [
      "Initial state is already in vector form\n"
     ]
    },
    {
     "name": "stderr",
     "output_type": "stream",
     "text": [
      "Evolution Superoperator: 100%|██████████| 199999/199999 [00:08<00:00, 22327.05it/s]\n"
     ]
    }
   ],
   "source": [
    "# number of chargers to truncate at \n",
    "Nm = 50\n",
    "dN = 1\n",
    "N_cutoff = 5\n",
    "N = np.arange(-10, Nm, dN)\n",
    "# Compute initial state\n",
    "rho0 = operator_to_vector(steadystate(H, c_ops))\n",
    "nu_k = [0, -1, 0]\n",
    "\n",
    "#----------------- Solve -----------------#\n",
    "proj = ProjectiveEvolutionPntAbsorb(H_eff, c_ops, t, N, N_cutoff-1)\n",
    "Pn_vec = proj.solve(rho0, nu_k)\n",
    "\n",
    "# Compute survival probability\n",
    "P0 = np.sum(Pn_vec, axis=0)\n",
    "dGt = -np.gradient(P0, dt)"
   ]
  },
  {
   "cell_type": "code",
   "execution_count": 5,
   "metadata": {},
   "outputs": [
    {
     "name": "stdout",
     "output_type": "stream",
     "text": [
      "10.0%. Run time:   1.51s. Est. time left: 00:00:00:13\n",
      "20.0%. Run time:   3.11s. Est. time left: 00:00:00:12\n",
      "30.0%. Run time:   4.63s. Est. time left: 00:00:00:10\n",
      "40.0%. Run time:   6.16s. Est. time left: 00:00:00:09\n",
      "50.0%. Run time:   7.69s. Est. time left: 00:00:00:07\n",
      "60.0%. Run time:   9.21s. Est. time left: 00:00:00:06\n",
      "70.0%. Run time:  10.72s. Est. time left: 00:00:00:04\n",
      "80.0%. Run time:  12.23s. Est. time left: 00:00:00:03\n",
      "90.0%. Run time:  13.74s. Est. time left: 00:00:00:01\n",
      "Total run time:  15.25s\n"
     ]
    }
   ],
   "source": [
    "# qutip evolution\n",
    "result = photocurrent_mesolve(H, rho_ss, ts, sc_ops=c_ops, e_ops=[sz], store_measurement=True, ntraj=1000)"
   ]
  },
  {
   "cell_type": "code",
   "execution_count": 6,
   "metadata": {},
   "outputs": [],
   "source": [
    "# Get measurement trajectories\n",
    "dNm = np.real(np.array(result.measurement)[:, :, 0])*dts\n",
    "dNp = np.real(np.array(result.measurement)[:, :, 1])*dts\n",
    "\n",
    "# Compute photocurrent\n",
    "J = np.cumsum(dNm, axis=1)"
   ]
  },
  {
   "cell_type": "code",
   "execution_count": 7,
   "metadata": {},
   "outputs": [],
   "source": [
    "# Get first hitting times\n",
    "inds = np.array([get_first_hit(mi, N_cutoff) for mi in J])\n",
    "inds = inds[inds != None]\n",
    "\n",
    "# Get first hitting times\n",
    "hitting_times = ts[list(inds)]"
   ]
  },
  {
   "cell_type": "code",
   "execution_count": 58,
   "metadata": {},
   "outputs": [
    {
     "name": "stdout",
     "output_type": "stream",
     "text": [
      "0.9689064907952785 1\n",
      "0.22500672061122579 1\n"
     ]
    }
   ],
   "source": [
    "# Compute mean and variance of distribution\n",
    "Et = np.sum(dGt * t)*dt\n",
    "Var = np.sum(dGt * t**2 )*dt - Et**2\n",
    "\n",
    "SNR = Et**2 / Var\n",
    "\n",
    "print(SNR/(Et*K), 1)\n",
    "print(SNR/(Et*(K+Q)), 1)"
   ]
  },
  {
   "cell_type": "code",
   "execution_count": 45,
   "metadata": {},
   "outputs": [
    {
     "ename": "ValueError",
     "evalue": "x and y must have same first dimension, but have shapes (10000,) and (3000, 1000)",
     "output_type": "error",
     "traceback": [
      "\u001b[0;31m---------------------------------------------------------------------------\u001b[0m",
      "\u001b[0;31mValueError\u001b[0m                                Traceback (most recent call last)",
      "Cell \u001b[0;32mIn[45], line 20\u001b[0m\n\u001b[1;32m     16\u001b[0m plt\u001b[39m.\u001b[39mylabel(\u001b[39mr\u001b[39m\u001b[39m'\u001b[39m\u001b[39m$f(t)$\u001b[39m\u001b[39m'\u001b[39m, fontsize\u001b[39m=\u001b[39m\u001b[39m20\u001b[39m)\n\u001b[1;32m     19\u001b[0m plt\u001b[39m.\u001b[39msubplot(\u001b[39m2\u001b[39m, \u001b[39m1\u001b[39m, \u001b[39m2\u001b[39m)\n\u001b[0;32m---> 20\u001b[0m plt\u001b[39m.\u001b[39;49mplot(ts, J\u001b[39m.\u001b[39;49mT, color\u001b[39m=\u001b[39;49mcolor, linestyle\u001b[39m=\u001b[39;49m\u001b[39m'\u001b[39;49m\u001b[39m-\u001b[39;49m\u001b[39m'\u001b[39;49m, linewidth\u001b[39m=\u001b[39;49m\u001b[39m1\u001b[39;49m, alpha\u001b[39m=\u001b[39;49m\u001b[39m0.5\u001b[39;49m)\n\u001b[1;32m     22\u001b[0m plt\u001b[39m.\u001b[39myticks(fontsize\u001b[39m=\u001b[39m\u001b[39m20\u001b[39m)\n\u001b[1;32m     23\u001b[0m plt\u001b[39m.\u001b[39mxticks(np\u001b[39m.\u001b[39marange(\u001b[39m0\u001b[39m, tf\u001b[39m+\u001b[39m\u001b[39m5\u001b[39m, \u001b[39m5\u001b[39m), fontsize\u001b[39m=\u001b[39m\u001b[39m20\u001b[39m)\n",
      "File \u001b[0;32m~/miniconda3/lib/python3.10/site-packages/matplotlib/pyplot.py:2740\u001b[0m, in \u001b[0;36mplot\u001b[0;34m(scalex, scaley, data, *args, **kwargs)\u001b[0m\n\u001b[1;32m   2738\u001b[0m \u001b[39m@_copy_docstring_and_deprecators\u001b[39m(Axes\u001b[39m.\u001b[39mplot)\n\u001b[1;32m   2739\u001b[0m \u001b[39mdef\u001b[39;00m \u001b[39mplot\u001b[39m(\u001b[39m*\u001b[39margs, scalex\u001b[39m=\u001b[39m\u001b[39mTrue\u001b[39;00m, scaley\u001b[39m=\u001b[39m\u001b[39mTrue\u001b[39;00m, data\u001b[39m=\u001b[39m\u001b[39mNone\u001b[39;00m, \u001b[39m*\u001b[39m\u001b[39m*\u001b[39mkwargs):\n\u001b[0;32m-> 2740\u001b[0m     \u001b[39mreturn\u001b[39;00m gca()\u001b[39m.\u001b[39;49mplot(\n\u001b[1;32m   2741\u001b[0m         \u001b[39m*\u001b[39;49margs, scalex\u001b[39m=\u001b[39;49mscalex, scaley\u001b[39m=\u001b[39;49mscaley,\n\u001b[1;32m   2742\u001b[0m         \u001b[39m*\u001b[39;49m\u001b[39m*\u001b[39;49m({\u001b[39m\"\u001b[39;49m\u001b[39mdata\u001b[39;49m\u001b[39m\"\u001b[39;49m: data} \u001b[39mif\u001b[39;49;00m data \u001b[39mis\u001b[39;49;00m \u001b[39mnot\u001b[39;49;00m \u001b[39mNone\u001b[39;49;00m \u001b[39melse\u001b[39;49;00m {}), \u001b[39m*\u001b[39;49m\u001b[39m*\u001b[39;49mkwargs)\n",
      "File \u001b[0;32m~/miniconda3/lib/python3.10/site-packages/matplotlib/axes/_axes.py:1662\u001b[0m, in \u001b[0;36mAxes.plot\u001b[0;34m(self, scalex, scaley, data, *args, **kwargs)\u001b[0m\n\u001b[1;32m   1419\u001b[0m \u001b[39m\"\"\"\u001b[39;00m\n\u001b[1;32m   1420\u001b[0m \u001b[39mPlot y versus x as lines and/or markers.\u001b[39;00m\n\u001b[1;32m   1421\u001b[0m \n\u001b[0;32m   (...)\u001b[0m\n\u001b[1;32m   1659\u001b[0m \u001b[39m(``'green'``) or hex strings (``'#008000'``).\u001b[39;00m\n\u001b[1;32m   1660\u001b[0m \u001b[39m\"\"\"\u001b[39;00m\n\u001b[1;32m   1661\u001b[0m kwargs \u001b[39m=\u001b[39m cbook\u001b[39m.\u001b[39mnormalize_kwargs(kwargs, mlines\u001b[39m.\u001b[39mLine2D)\n\u001b[0;32m-> 1662\u001b[0m lines \u001b[39m=\u001b[39m [\u001b[39m*\u001b[39m\u001b[39mself\u001b[39m\u001b[39m.\u001b[39m_get_lines(\u001b[39m*\u001b[39margs, data\u001b[39m=\u001b[39mdata, \u001b[39m*\u001b[39m\u001b[39m*\u001b[39mkwargs)]\n\u001b[1;32m   1663\u001b[0m \u001b[39mfor\u001b[39;00m line \u001b[39min\u001b[39;00m lines:\n\u001b[1;32m   1664\u001b[0m     \u001b[39mself\u001b[39m\u001b[39m.\u001b[39madd_line(line)\n",
      "File \u001b[0;32m~/miniconda3/lib/python3.10/site-packages/matplotlib/axes/_base.py:311\u001b[0m, in \u001b[0;36m_process_plot_var_args.__call__\u001b[0;34m(self, data, *args, **kwargs)\u001b[0m\n\u001b[1;32m    309\u001b[0m     this \u001b[39m+\u001b[39m\u001b[39m=\u001b[39m args[\u001b[39m0\u001b[39m],\n\u001b[1;32m    310\u001b[0m     args \u001b[39m=\u001b[39m args[\u001b[39m1\u001b[39m:]\n\u001b[0;32m--> 311\u001b[0m \u001b[39myield from\u001b[39;00m \u001b[39mself\u001b[39;49m\u001b[39m.\u001b[39;49m_plot_args(\n\u001b[1;32m    312\u001b[0m     this, kwargs, ambiguous_fmt_datakey\u001b[39m=\u001b[39;49mambiguous_fmt_datakey)\n",
      "File \u001b[0;32m~/miniconda3/lib/python3.10/site-packages/matplotlib/axes/_base.py:504\u001b[0m, in \u001b[0;36m_process_plot_var_args._plot_args\u001b[0;34m(self, tup, kwargs, return_kwargs, ambiguous_fmt_datakey)\u001b[0m\n\u001b[1;32m    501\u001b[0m     \u001b[39mself\u001b[39m\u001b[39m.\u001b[39maxes\u001b[39m.\u001b[39myaxis\u001b[39m.\u001b[39mupdate_units(y)\n\u001b[1;32m    503\u001b[0m \u001b[39mif\u001b[39;00m x\u001b[39m.\u001b[39mshape[\u001b[39m0\u001b[39m] \u001b[39m!=\u001b[39m y\u001b[39m.\u001b[39mshape[\u001b[39m0\u001b[39m]:\n\u001b[0;32m--> 504\u001b[0m     \u001b[39mraise\u001b[39;00m \u001b[39mValueError\u001b[39;00m(\u001b[39mf\u001b[39m\u001b[39m\"\u001b[39m\u001b[39mx and y must have same first dimension, but \u001b[39m\u001b[39m\"\u001b[39m\n\u001b[1;32m    505\u001b[0m                      \u001b[39mf\u001b[39m\u001b[39m\"\u001b[39m\u001b[39mhave shapes \u001b[39m\u001b[39m{\u001b[39;00mx\u001b[39m.\u001b[39mshape\u001b[39m}\u001b[39;00m\u001b[39m and \u001b[39m\u001b[39m{\u001b[39;00my\u001b[39m.\u001b[39mshape\u001b[39m}\u001b[39;00m\u001b[39m\"\u001b[39m)\n\u001b[1;32m    506\u001b[0m \u001b[39mif\u001b[39;00m x\u001b[39m.\u001b[39mndim \u001b[39m>\u001b[39m \u001b[39m2\u001b[39m \u001b[39mor\u001b[39;00m y\u001b[39m.\u001b[39mndim \u001b[39m>\u001b[39m \u001b[39m2\u001b[39m:\n\u001b[1;32m    507\u001b[0m     \u001b[39mraise\u001b[39;00m \u001b[39mValueError\u001b[39;00m(\u001b[39mf\u001b[39m\u001b[39m\"\u001b[39m\u001b[39mx and y can be no greater than 2D, but have \u001b[39m\u001b[39m\"\u001b[39m\n\u001b[1;32m    508\u001b[0m                      \u001b[39mf\u001b[39m\u001b[39m\"\u001b[39m\u001b[39mshapes \u001b[39m\u001b[39m{\u001b[39;00mx\u001b[39m.\u001b[39mshape\u001b[39m}\u001b[39;00m\u001b[39m and \u001b[39m\u001b[39m{\u001b[39;00my\u001b[39m.\u001b[39mshape\u001b[39m}\u001b[39;00m\u001b[39m\"\u001b[39m)\n",
      "\u001b[0;31mValueError\u001b[0m: x and y must have same first dimension, but have shapes (10000,) and (3000, 1000)"
     ]
    },
    {
     "data": {
      "image/png": "[encoded data removed]",
      "text/plain": [
       "<Figure size 800x500 with 2 Axes>"
      ]
     },
     "metadata": {},
     "output_type": "display_data"
    }
   ],
   "source": [
    "#----------------- Plotting -----------------#\n",
    "\n",
    "fig = plt.figure(figsize=(8, 5))\n",
    "\n",
    "color = [0.6, 0.3, 0.5]\n",
    "\n",
    "plt.subplot(2, 1, 1)\n",
    "plt.plot(t, dGt+0.002, color=color, linestyle='--', linewidth=3, alpha=1)\n",
    "plt.hist(hitting_times, density=True, bins=50, color=color, alpha=0.5, edgecolor='k', linewidth=0.3)\n",
    "# plt.vlines(Et, 0, dGt[np.argmin(np.abs(t-Et))], color='k', linestyle='--', linewidth=2, alpha=1)\n",
    "\n",
    "plt.xticks(np.arange(0, tf+5, 5), [], fontsize=20)\n",
    "plt.yticks(np.arange(0.02, 0.16, 0.02), fontsize=20)\n",
    "plt.ylim(0.0, 0.15)\n",
    "plt.xlim(0, tf)\n",
    "plt.ylabel(r'$f(t)$', fontsize=20)\n",
    "\n",
    "\n",
    "plt.subplot(2, 1, 2)\n",
    "plt.plot(ts, J.T, color=color, linestyle='-', linewidth=1, alpha=0.5)\n",
    "\n",
    "plt.yticks(fontsize=20)\n",
    "plt.xticks(np.arange(0, tf+5, 5), fontsize=20)\n",
    "plt.ylim(0, N_cutoff)\n",
    "plt.xlim(0, tf)\n",
    "\n",
    "plt.xlabel(r'$\\gamma t$', fontsize=20)\n",
    "plt.ylabel(r'$J(t)$', fontsize=20)\n",
    "\n",
    "plt.subplots_adjust(hspace=0.0)\n",
    "\n",
    "plt.show()"
   ]
  },
  {
   "attachments": {},
   "cell_type": "markdown",
   "metadata": {},
   "source": [
    "# Repeat analysis but loop over different values of $\\bar{n}$ and $\\Omega$ creating a surface plot of the SNR"
   ]
  },
  {
   "cell_type": "code",
   "execution_count": 63,
   "metadata": {},
   "outputs": [
    {
     "name": "stdout",
     "output_type": "stream",
     "text": [
      "nbar =  0.1 Omega =  0.0\n",
      "1 out of 300 iterations\n",
      "Initial state is already in vector form\n"
     ]
    },
    {
     "name": "stderr",
     "output_type": "stream",
     "text": [
      "Evolution Superoperator: 100%|██████████| 199999/199999 [00:08<00:00, 22639.56it/s]\n"
     ]
    },
    {
     "name": "stdout",
     "output_type": "stream",
     "text": [
      "nbar =  0.1 Omega =  0.01\n",
      "2 out of 300 iterations\n",
      "Initial state is already in vector form\n"
     ]
    },
    {
     "name": "stderr",
     "output_type": "stream",
     "text": [
      "Evolution Superoperator: 100%|██████████| 199999/199999 [00:08<00:00, 22737.88it/s]\n"
     ]
    },
    {
     "name": "stdout",
     "output_type": "stream",
     "text": [
      "nbar =  0.1 Omega =  0.02\n",
      "3 out of 300 iterations\n",
      "Initial state is already in vector form\n"
     ]
    },
    {
     "name": "stderr",
     "output_type": "stream",
     "text": [
      "Evolution Superoperator:  78%|███████▊  | 155235/199999 [00:06<00:01, 22388.72it/s]"
     ]
    }
   ],
   "source": [
    "# parameters\n",
    "# nbars = np.array([0.1, 0.3, 0.5, 0.7, 0.9])\n",
    "# Omegas = np.arange(0.1, 1.1, 0.1)\n",
    "nbars = [0.1, 0.5, 1]\n",
    "Omegas = np.arange(0, 1, 0.01)\n",
    "gamma = 1\n",
    "\n",
    "# time parameters\n",
    "dt = 0.0005\n",
    "tf = 100\n",
    "t = np.arange(0, tf, dt)\n",
    "\n",
    "# Define system operators\n",
    "sp = sigmap()\n",
    "sm = sigmam()\n",
    "sx = sigmax()\n",
    "sz = sigmaz()\n",
    "\n",
    "# counting params\n",
    "nu_k = [0, -1, 0]\n",
    "# number of chargers to truncate at \n",
    "Nm = 50\n",
    "dN = 1\n",
    "N_cutoff = 5\n",
    "N = np.arange(-10, Nm, dN)\n",
    "\n",
    "# initialise matrices\n",
    "Et_vals = np.zeros((len(nbars), len(Omegas)))\n",
    "Var_vals = np.zeros((len(nbars), len(Omegas)))\n",
    "SNR_vals = np.zeros((len(nbars), len(Omegas)))\n",
    "K_vals = np.zeros((len(nbars), len(Omegas)))\n",
    "Q_vals = np.zeros((len(nbars), len(Omegas)))\n",
    "\n",
    "count = 1\n",
    "\n",
    "for i, nbar in enumerate(nbars):\n",
    "    for j, Omega in enumerate(Omegas):\n",
    "        \n",
    "        print('nbar = ', nbar, 'Omega = ', Omega)\n",
    "        print(count, 'out of', len(nbars)*len(Omegas), 'iterations')\n",
    "        count += 1\n",
    "        \n",
    "        # Define Hamiltonian\n",
    "        H = Omega*sx\n",
    "\n",
    "        # define dissipator and Hamiltonian\n",
    "        c_ops = [np.sqrt(gamma * (1+nbar)) * sm, np.sqrt(gamma * nbar) * sp]    \n",
    "        H_eff = H - 0.5j * sum([c_op.dag() * c_op for c_op in c_ops])\n",
    "\n",
    "        # steadystate\n",
    "        rho_ss = steadystate(H, c_ops)\n",
    "\n",
    "        # Compute dynamical activity per unity time\n",
    "        K_vals[i, j] = sum([expect(c_op.dag() * c_op, rho_ss) for c_op in c_ops])\n",
    "        Q_vals[i, j] = quantum_dynamical_activity(nbar, gamma, Omega)\n",
    "\n",
    "        # Compute initial state\n",
    "        rho0 = operator_to_vector(steadystate(H, c_ops))\n",
    "\n",
    "        #----------------- Solve -----------------#\n",
    "        proj = ProjectiveEvolutionPntAbsorb(H_eff, c_ops, t, N, N_cutoff-1)\n",
    "        Pn_vec = proj.solve(rho0, nu_k)\n",
    "\n",
    "        # Compute survival probability\n",
    "        P0 = np.sum(Pn_vec, axis=0)\n",
    "        dGt = -np.gradient(P0, dt)\n",
    "\n",
    "        # Compute mean and variance of distribution\n",
    "        Et_vals[i, j] = np.sum(dGt * t)*dt\n",
    "        Var_vals[i, j] = np.sum(dGt * t**2 )*dt - Et**2\n",
    "\n",
    "        SNR_vals[i, j] = Et_vals[i, j]**2 / Var_vals[i, j]"
   ]
  },
  {
   "cell_type": "code",
   "execution_count": 62,
   "metadata": {},
   "outputs": [
    {
     "data": {
      "image/png": "[encoded data removed]",
      "text/plain": [
       "<Figure size 800x600 with 1 Axes>"
      ]
     },
     "metadata": {},
     "output_type": "display_data"
    }
   ],
   "source": [
    "# compute both inequalitys\n",
    "ineq1 = SNR_vals / (Et_vals*K_vals)\n",
    "ineq2 = SNR_vals / (Et_vals*(K_vals+Q_vals))\n",
    "\n",
    "# plot as a function of Omega\n",
    "fig = plt.figure(figsize=(8, 6))\n",
    "plt.plot(Omegas, ineq1, 'o-', color='r')\n",
    "plt.plot(Omegas, ineq2, 'o-', color='b')\n",
    "\n",
    "plt.hlines(1, 0, Omegas[-1], color='k', linestyle='--', linewidth=2, alpha=1)\n",
    "\n",
    "plt.show()"
   ]
  },
  {
   "cell_type": "code",
   "execution_count": 60,
   "metadata": {},
   "outputs": [
    {
     "data": {
      "text/plain": [
       "array([[6.59976319, 6.59976319],\n",
       "       [6.59976319, 6.59976319]])"
      ]
     },
     "execution_count": 60,
     "metadata": {},
     "output_type": "execute_result"
    }
   ],
   "source": [
    "SNR_vals"
   ]
  },
  {
   "cell_type": "code",
   "execution_count": null,
   "metadata": {},
   "outputs": [],
   "source": []
  }
 ],
 "metadata": {
  "kernelspec": {
   "display_name": "base",
   "language": "python",
   "name": "python3"
  },
  "language_info": {
   "codemirror_mode": {
    "name": "ipython",
    "version": 3
   },
   "file_extension": ".py",
   "mimetype": "text/x-python",
   "name": "python",
   "nbconvert_exporter": "python",
   "pygments_lexer": "ipython3",
   "version": "3.10.9"
  },
  "orig_nbformat": 4
 },
 "nbformat": 4,
 "nbformat_minor": 2
}
