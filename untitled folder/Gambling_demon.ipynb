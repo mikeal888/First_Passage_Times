{
 "cells": [
  {
   "attachments": {},
   "cell_type": "markdown",
   "metadata": {},
   "source": [
    "In this example, there is a Demon that monitors the amount of work that is being done on the system.\n",
    "The Demon has some protocol in which it will interact with the system, but this protocol is reliant on whether the measured work exceeds some threshold $b=W_{\\rm th}$ \\emph{or} some threshold time is reached $T$.\n",
    "The Demon will then interact with the system and stop the process and the system will be reset to its initial state.\n",
    "Therefore the Demon will need to know the both probability distributions of the FHT at the threshold work $W_{\\rm th}$ and the work distribution $P(W, T)$ at the threshold time $T$ to make informed betting strategy---for more details please read \\cite{Manzano_thermodynamics_2021}.\n",
    "\n",
    "In this example, we will set the temperature to zero such that $\\bar{n}=0$.\n",
    "One can then compute the power into the system by taking the time derivative of the Hamiltonian Eq.~(\\ref{eq:sup_ham})\n",
    "\\begin{equation}\n",
    "    \\left<\\frac{\\partial H(t)}{\\partial t}\\right> = \\omega \\Omega \\hbar\\left<e^{-i\\omega t}\\sigma_{+} + e^{i \\omega t}\\sigma_{-}\\right>\\,,\n",
    "\\end{equation}\n",
    "which one can then transform into the interaction picture yields and integrate with respect to time to get the average work\n",
    "\\begin{equation}\n",
    "    \\langle W(t) \\rangle = \\omega \\Omega \\hbar\\int_{0}^{t}\\langle \\sigma_{y}(t')\\rangle dt'\\,.\n",
    "\\end{equation}\n",
    "We can also define the stochastic work done over a single quantum trajectory where $\\langle W(t) \\rangle_{c}$ is computed using the stochastic evolution of $\\langle \\sigma_{y}(t) \\rangle_{c}$. \n",
    "Furthermore the homodyne current can be written as \n",
    "\\begin{equation}\n",
    "    I(t) = \\sqrt{\\gamma}\\langle \\sigma_{y}\\rangle_{c}dt + \\xi(t)\\,,\n",
    "\\end{equation}\n",
    "where $xi(t) = dW/dt$ is the delta-correlated white noise. \n",
    "Therefore we can see that one can obtain an estimate of of the work $W(t)$ by integrating the homodyne current $N(t) {= \\sqrt{\\gamma}\\int_{0}^{t} \\langle \\sigma_{y}(t')\\rangle_{c}dt' + \\int_{0}^{t}dW}$ yielding \n",
    "\\begin{equation}\n",
    "    W(t) = \\frac{\\Omega \\omega \\hbar}{\\sqrt{\\gamma}}N(t)\\,.\n",
    "\\end{equation}\n",
    "Clearly, compute the statistics of the estimated work $W(t)$ by computing the statistics of $N(t)$. \n",
    "We therefore need to solve the the $N$-resolve density matrix for this the diffusion equation Eq.~(\\ref{eq:ndiff_sup}), which we can do using finite difference methods \n",
    "\\begin{equation}\n",
    "    \\frac{\\partial \\rho_{N}}{\\partial t} = \\frac{\\rho_{N}(t+dt) - \\rho_{N}(t)}{dt}\\qquad {\\rm and} \\qquad \n",
    "    \\frac{\\partial \\rho_{N}}{\\partial N} = \\frac{\\rho_{N+\\Delta N} - \\rho_{N-\\Delta N}}{2\\Delta N}\\qquad {\\rm and} \\qquad \n",
    "    \\frac{\\partial^{2} \\rho_{N}}{\\partial N^{2}} = \\frac{\\rho_{N+\\Delta N} - 2\\rho_{N} + \\rho_{N-\\Delta N}}{(\\Delta N)^{2}}\\,,\n",
    "\\end{equation}\n",
    "where $N$ is now continuous and $\\Delta N$ is a small real increment in $N$.\n",
    "Written as a matrix equation, this becomes\n",
    "\\begin{equation}\n",
    "    \\left(\n",
    "\\begin{array}{c}\n",
    "\\rho_{N}(t+dt)\\\\\n",
    "\\rho_{N-\\Delta N}(t+dt)\\\\\n",
    "\\vdots\\\\\n",
    "\\rho_{-N}(t+dt)\n",
    "\\end{array}\n",
    "\\right) =\n",
    "\\left(\n",
    "\\begin{array}{ccccc}\n",
    "\\mathbb{I}+dt\\mathcal{L} - \\frac{dt K_{D}}{\\Delta N^{2}}  & \\frac{dt \\mathcal{H}}{2\\Delta N} + \\frac{dt K_{D}}{2\\Delta N^{2}}, &0 & \\dots & 0\\\\\n",
    "-\\frac{dt \\mathcal{H}}{2\\Delta N} + \\frac{dt K_{D}}{2\\Delta N^{2}}& \\mathbb{I}+dt\\mathcal{L} - \\frac{dt K_{D}}{\\Delta N^{2}} &\\frac{dt \\mathcal{H}}{2\\Delta N} + \\frac{dt K_{D}}{2\\Delta N^{2}}&\\dots & 0 \\\\\n",
    "0 &-\\frac{dt \\mathcal{H}}{2\\Delta N}+ \\frac{dt K_{D}}{2\\Delta N^{2}} & \\ddots & \\dots& 0\\\\\n",
    "\\vdots & \\vdots & \\vdots & \\ddots & \\vdots\\\\\n",
    "0 & & \\dots & &\\mathbb{I}+dt\\mathcal{L} - \\frac{dt K_{D}}{\\Delta N^{2}} \n",
    "\\end{array}\n",
    "\\right)\n",
    "\\left(\n",
    "\\begin{array}{c}\n",
    "\\rho_{N}(t)\\\\\n",
    "\\rho_{N-\\Delta N}(t)\\\\\n",
    "\\vdots\\\\\n",
    "\\rho_{-N}(t)\n",
    "\\end{array}\n",
    "\\right)\n",
    "\\end{equation}\n",
    "To compute the work distribution at the threshold time $T$, we simply evolve this equation up to time $T$ then compute the trace of each of the elements $P(W, T) = P(N, T) = {\\rm tr}[\\rho_{N}(T)]$.\n",
    "\n",
    "Now we want to introduce an absorbing boundary condition corresponding to the threshold work $W_{\\rm th}$. This corresponds to the case that say when we hit some threshold value say $N_{\\rm th}$ then probability is lost which we can again do by setting all values along this boundary equal to zero and terminating the array at this value\n",
    "\\begin{equation}\n",
    "    \\left(\n",
    "\\begin{array}{c}\n",
    "\\rho_{N_{\\rm th}}(t+dt)\\\\\n",
    "\\rho_{N_{\\rm th}-\\Delta N}(t+dt)\\\\\n",
    "\\vdots\\\\\n",
    "\\rho_{-N}(t+dt)\n",
    "\\end{array}\n",
    "\\right) =\n",
    "\\left(\n",
    "\\begin{array}{ccccc}\n",
    "0 & 0 &0 & \\dots & 0\\\\\n",
    "-\\frac{dt \\mathcal{H}}{2\\Delta N} + \\frac{dt K_{D}}{2\\Delta N^{2}}& \\mathbb{I}+dt\\mathcal{L} - \\frac{dt K_{D}}{\\Delta N^{2}} &\\frac{dt \\mathcal{H}}{2\\Delta N} + \\frac{dt K_{D}}{2\\Delta N^{2}}&\\dots & 0 \\\\\n",
    "0 &-\\frac{dt \\mathcal{H}}{2\\Delta N}+ \\frac{dt K_{D}}{2\\Delta N^{2}} & \\ddots & \\dots& 0\\\\\n",
    "\\vdots & \\vdots & \\vdots & \\ddots & \\vdots\\\\\n",
    "0 & & \\dots & &\\mathbb{I}+dt\\mathcal{L} - \\frac{dt K_{D}}{\\Delta N^{2}} \n",
    "\\end{array}\n",
    "\\right)\n",
    "\\left(\n",
    "\\begin{array}{c}\n",
    "\\rho_{N_{\\rm th}}(t)\\\\\n",
    "\\rho_{N_{\\rm th}-\\Delta N}(t)\\\\\n",
    "\\vdots\\\\\n",
    "\\rho_{-N}(t)\n",
    "\\end{array}\n",
    "\\right)\n",
    "\\end{equation}\n",
    "which can now be used to compute the FHT distribution. "
   ]
  },
  {
   "cell_type": "code",
   "execution_count": 82,
   "metadata": {},
   "outputs": [],
   "source": [
    "import numpy as np\n",
    "from qutip import *\n",
    "import matplotlib.pyplot as plt\n",
    "from _funcs import *\n",
    "\n",
    "import seaborn as sns\n",
    "plt.rc('text', usetex=True)\n",
    "sns.set()\n",
    "\n",
    "def get_first_hit(array, x):\n",
    "    # create a function that returs first hitting time of array >= x\n",
    "    try: \n",
    "        return np.min(np.where(array>=x))\n",
    "    except ValueError:\n",
    "        return -1\n"
   ]
  },
  {
   "cell_type": "code",
   "execution_count": 334,
   "metadata": {},
   "outputs": [],
   "source": [
    "# Parameters\n",
    "Gamma = 1\n",
    "Omega = 1\n",
    "Rabi = np.sqrt((Gamma)**2 + Omega**2)\n",
    "dt = 0.0012\n",
    "tf = 5*np.pi/(2*Omega)\n",
    "t_cutoff = 6\n",
    "t = np.arange(0, tf, dt)\n",
    "\n",
    "# Define system operators\n",
    "sp = sigmap()\n",
    "sm = sigmam()\n",
    "sx = sigmax()\n",
    "sz = sigmaz()\n",
    "sy = sigmay()\n",
    "g = sm*sp\n",
    "H = Omega*sx\n",
    "\n",
    "# define dissipator and Hamiltonian\n",
    "c_ops = [1j*np.sqrt(Gamma) * sm]    \n",
    "\n",
    "# steadystate\n",
    "rho0 = fock(2, 0)\n",
    "rhoss = steadystate(H, c_ops)\n",
    "\n",
    "unconditional_result = mesolve(H, rho0, t, c_ops=c_ops, e_ops=[sy, sz, g])\n",
    "ez_un = unconditional_result.expect[1]\n",
    "ey_un = unconditional_result.expect[0]\n",
    "g_un = unconditional_result.expect[2]\n",
    "\n",
    "N_cutoff = 1"
   ]
  },
  {
   "cell_type": "code",
   "execution_count": 337,
   "metadata": {},
   "outputs": [
    {
     "name": "stdout",
     "output_type": "stream",
     "text": [
      "Converting initial state to vector form\n"
     ]
    },
    {
     "name": "stderr",
     "output_type": "stream",
     "text": [
      "Evolution Superoperator: 100%|██████████| 6544/6544 [00:15<00:00, 429.47it/s]\n"
     ]
    }
   ],
   "source": [
    "# number of chargers to truncate at \n",
    "Nm = 20\n",
    "dN = 0.06\n",
    "N = np.arange(-10, Nm, dN)\n",
    "\n",
    "# ------ Solve n-resolved method with absorbing boundary conditions ------ #\n",
    "diff = DiffusiveEvolutionPntAbsorb(H, c_ops, 1, t, N, N_cutoff, kind='single')\n",
    "Pn_vec = diff.solve(rho0)"
   ]
  },
  {
   "cell_type": "code",
   "execution_count": 338,
   "metadata": {},
   "outputs": [
    {
     "data": {
      "text/plain": [
       "0.8770806675198743"
      ]
     },
     "execution_count": 338,
     "metadata": {},
     "output_type": "execute_result"
    }
   ],
   "source": [
    "# Compute survival probability from analytic solution\n",
    "P0 = np.sum(Pn_vec, axis=0)\n",
    "dGt = -np.gradient(P0, dt)\n",
    "\n",
    "# Compute mean and variance of distribution\n",
    "Et = np.sum(dGt * t)*dt\n",
    "Var = np.sum(dGt * t**2)*dt - Et**2\n",
    "\n",
    "np.sum(dGt)*dt"
   ]
  },
  {
   "cell_type": "code",
   "execution_count": 315,
   "metadata": {},
   "outputs": [
    {
     "name": "stdout",
     "output_type": "stream",
     "text": [
      "10.0%. Run time:  14.44s. Est. time left: 00:00:02:09\n",
      "20.0%. Run time:  28.73s. Est. time left: 00:00:01:54\n",
      "30.0%. Run time:  43.09s. Est. time left: 00:00:01:40\n",
      "40.0%. Run time:  57.38s. Est. time left: 00:00:01:26\n",
      "50.0%. Run time:  71.61s. Est. time left: 00:00:01:11\n",
      "60.0%. Run time:  86.04s. Est. time left: 00:00:00:57\n",
      "70.0%. Run time: 100.33s. Est. time left: 00:00:00:42\n",
      "80.0%. Run time: 114.43s. Est. time left: 00:00:00:28\n",
      "90.0%. Run time: 128.55s. Est. time left: 00:00:00:14\n",
      "Total run time: 142.68s\n"
     ]
    }
   ],
   "source": [
    "ntraj = 2000\n",
    "result = ssesolve(H, rho0, t, sc_ops=c_ops, e_ops=[sy, g], store_measurement=True, ntraj=ntraj)"
   ]
  },
  {
   "cell_type": "code",
   "execution_count": 368,
   "metadata": {},
   "outputs": [],
   "source": [
    "# get measurement results\n",
    "\n",
    "Iy = np.real(np.array(result.measurement).reshape(ntraj, len(t)))\n",
    "\n",
    "meas = np.real(result.measurement[0].T)[0]\n",
    "meas_average = np.mean(result.measurement, axis=0).T[0]\n",
    "ey = np.real(result.expect[0])\n",
    "ez = np.real(result.expect[1])\n",
    "\n",
    "int_meas = dt*np.cumsum(meas)\n",
    "W = Omega*dt*np.cumsum(Iy, axis=1)/np.sqrt(Gamma)\n",
    "int_ey = dt*np.cumsum(ey)\n",
    "\n",
    "# get first hitting time of measurement\n",
    "indx = get_first_hit(int_meas, N_cutoff)\n",
    "if indx is None:\n",
    "    first_hit = tf\n",
    "else:\n",
    "    first_hit = t[indx]\n",
    "\n",
    "# Get first hitting times\n",
    "\n",
    "inds = np.array([get_first_hit(mi, N_cutoff) for mi in -W])\n",
    "inds_f = inds[inds != None]\n",
    "\n",
    "# Get first hitting times\n",
    "hitting_times = t[list(inds_f)]\n",
    "\n",
    "Iy_copy = Iy.copy()\n",
    "W_final = []\n",
    "\n",
    "for i in range(ntraj):\n",
    "    if inds[i] is None:\n",
    "        W_final.append(-Omega*dt*np.sum(Iy[i, :])/np.sqrt(Gamma))\n",
    "    else:\n",
    "        Iy_copy[i, :inds[i]] = Iy_copy[i, inds[i]]\n",
    "\n"
   ]
  },
  {
   "cell_type": "code",
   "execution_count": 373,
   "metadata": {},
   "outputs": [
    {
     "data": {
      "text/plain": [
       "0.17165300075797263"
      ]
     },
     "execution_count": 373,
     "metadata": {},
     "output_type": "execute_result"
    }
   ],
   "source": [
    "idx_W = np.argmin(np.abs(t - tf/5))\n",
    "\n",
    "# Integrate first hitting time distribution to t_cutoff\n",
    "PT = np.sum(dGt[t<t_cutoff])*dt\n",
    "N_min = np.argmin(np.abs(N-N_cutoff))\n",
    "Wbar = -np.sum(N[N<1]*Pn_vec[N_min:, idx_W])\n",
    "W_T = N_cutoff * PT +(1-PT) * Wbar"
   ]
  },
  {
   "cell_type": "code",
   "execution_count": 370,
   "metadata": {},
   "outputs": [],
   "source": [
    "# plt.plot(N[N<1], Pn_vec[:, idx_W]/dN,)\n",
    "# plt.hist(W, bins=50)"
   ]
  },
  {
   "cell_type": "code",
   "execution_count": 371,
   "metadata": {},
   "outputs": [
    {
     "data": {
      "image/png": "[encoded data removed]",
      "text/plain": [
       "<Figure size 500x500 with 3 Axes>"
      ]
     },
     "metadata": {},
     "output_type": "display_data"
    }
   ],
   "source": [
    "fig = plt.figure(figsize=(5, 5))\n",
    "gs = fig.add_gridspec(5, 5)\n",
    "\n",
    "color = [0.6, 0.3, 0.5]\n",
    "fs = 18\n",
    "\n",
    "ax1 = fig.add_subplot(gs[0, :4])\n",
    "ax1.plot(t, dGt, color=color, linewidth=3)\n",
    "ax1.fill_between(t, dGt, color=color, alpha=0.2)\n",
    "ax1.hist(hitting_times, bins=50, color=color, alpha=0.5, density=True, edgecolor='k')\n",
    "\n",
    "plt.xticks(np.arange(0, tf, 0.2), [])\n",
    "plt.xlim(0, t_cutoff)\n",
    "plt.yticks(np.arange(0.2, 0.7, 0.2), fontsize=fs)\n",
    "plt.ylabel(r'$f_{\\mathcal{W}_{\\rm th}}(t)$', fontsize=fs)\n",
    "\n",
    "ax2 = fig.add_subplot(gs[1:5, :4])\n",
    "ax2.plot(t, -W[:3000].T, color=color, linewidth=0.1, alpha=0.2)\n",
    "plt.hlines(W_T, 0, t_cutoff, color='k', linewidth=2, linestyle='--')\n",
    "\n",
    "plt.ylim(-5, N_cutoff+0.05)\n",
    "plt.yticks(np.arange(-5, N_cutoff+1, 1), fontsize=fs)\n",
    "plt.xticks(np.arange(0, t_cutoff, 1), fontsize=fs)\n",
    "plt.xlim(0, t_cutoff+0.01)\n",
    "plt.ylabel(r'$\\mathcal{W}(t)$', fontsize=fs)\n",
    "plt.xlabel(r'$\\gamma t$', fontsize=fs)\n",
    "\n",
    "ax3 = fig.add_subplot(gs[1:, 4])\n",
    "ax3.plot(Pn_vec[:, idx_W]/dN, N[N<1], color=color, linewidth=3)\n",
    "ax3.hist(W_final, bins=50, orientation='horizontal', color=color, alpha=0.5, density=True, edgecolor='k')\n",
    "plt.yticks(np.arange(-5, N_cutoff+1, 1),[])\n",
    "plt.ylim(-5, N_cutoff)\n",
    "plt.xticks(np.arange(0.0, 1, 0.5), fontsize=fs)\n",
    "\n",
    "plt.xlabel(r'$P(\\mathcal{W}, T)$', fontsize=fs)\n",
    "plt.subplots_adjust(wspace=0, hspace=0)\n",
    "\n",
    "plt.show()\n",
    "\n",
    "# fig.savefig('Figures/Gambling_demon_mean.png', bbox_inches='tight', dpi=200)\n"
   ]
  },
  {
   "cell_type": "code",
   "execution_count": 38,
   "metadata": {},
   "outputs": [
    {
     "name": "stdout",
     "output_type": "stream",
     "text": [
      "t_cutoff = 1, N_cutoff = 1\n",
      "Converting initial state to vector form\n"
     ]
    },
    {
     "name": "stderr",
     "output_type": "stream",
     "text": [
      "Evolution Superoperator: 100%|██████████| 6544/6544 [00:29<00:00, 223.05it/s]\n"
     ]
    },
    {
     "name": "stdout",
     "output_type": "stream",
     "text": [
      "t_cutoff = 1, N_cutoff = 2\n",
      "Converting initial state to vector form\n"
     ]
    },
    {
     "name": "stderr",
     "output_type": "stream",
     "text": [
      "Evolution Superoperator: 100%|██████████| 6544/6544 [00:24<00:00, 270.77it/s]\n"
     ]
    },
    {
     "name": "stdout",
     "output_type": "stream",
     "text": [
      "t_cutoff = 1, N_cutoff = 3\n",
      "Converting initial state to vector form\n"
     ]
    },
    {
     "name": "stderr",
     "output_type": "stream",
     "text": [
      "Evolution Superoperator: 100%|██████████| 6544/6544 [00:29<00:00, 219.49it/s]\n"
     ]
    },
    {
     "name": "stdout",
     "output_type": "stream",
     "text": [
      "t_cutoff = 1, N_cutoff = 4\n",
      "Converting initial state to vector form\n"
     ]
    },
    {
     "name": "stderr",
     "output_type": "stream",
     "text": [
      "Evolution Superoperator: 100%|██████████| 6544/6544 [00:14<00:00, 455.92it/s]\n"
     ]
    },
    {
     "name": "stdout",
     "output_type": "stream",
     "text": [
      "t_cutoff = 1, N_cutoff = 5\n",
      "Converting initial state to vector form\n"
     ]
    },
    {
     "name": "stderr",
     "output_type": "stream",
     "text": [
      "Evolution Superoperator: 100%|██████████| 6544/6544 [00:17<00:00, 368.50it/s]\n"
     ]
    },
    {
     "name": "stdout",
     "output_type": "stream",
     "text": [
      "t_cutoff = 1, N_cutoff = 6\n",
      "Converting initial state to vector form\n"
     ]
    },
    {
     "name": "stderr",
     "output_type": "stream",
     "text": [
      "Evolution Superoperator: 100%|██████████| 6544/6544 [00:21<00:00, 310.61it/s]\n"
     ]
    },
    {
     "name": "stdout",
     "output_type": "stream",
     "text": [
      "t_cutoff = 1, N_cutoff = 7\n",
      "Converting initial state to vector form\n"
     ]
    },
    {
     "name": "stderr",
     "output_type": "stream",
     "text": [
      "Evolution Superoperator: 100%|██████████| 6544/6544 [00:22<00:00, 295.73it/s]\n"
     ]
    },
    {
     "name": "stdout",
     "output_type": "stream",
     "text": [
      "t_cutoff = 1, N_cutoff = 8\n",
      "Converting initial state to vector form\n"
     ]
    },
    {
     "name": "stderr",
     "output_type": "stream",
     "text": [
      "Evolution Superoperator: 100%|██████████| 6544/6544 [00:20<00:00, 318.18it/s]\n"
     ]
    },
    {
     "name": "stdout",
     "output_type": "stream",
     "text": [
      "t_cutoff = 1, N_cutoff = 9\n",
      "Converting initial state to vector form\n"
     ]
    },
    {
     "name": "stderr",
     "output_type": "stream",
     "text": [
      "Evolution Superoperator: 100%|██████████| 6544/6544 [00:22<00:00, 292.32it/s]\n"
     ]
    },
    {
     "name": "stdout",
     "output_type": "stream",
     "text": [
      "t_cutoff = 1, N_cutoff = 10\n",
      "Converting initial state to vector form\n"
     ]
    },
    {
     "name": "stderr",
     "output_type": "stream",
     "text": [
      "Evolution Superoperator: 100%|██████████| 6544/6544 [00:24<00:00, 270.17it/s]\n"
     ]
    },
    {
     "name": "stdout",
     "output_type": "stream",
     "text": [
      "t_cutoff = 1, N_cutoff = 11\n",
      "Converting initial state to vector form\n"
     ]
    },
    {
     "name": "stderr",
     "output_type": "stream",
     "text": [
      "Evolution Superoperator: 100%|██████████| 6544/6544 [00:27<00:00, 236.23it/s]\n"
     ]
    },
    {
     "name": "stdout",
     "output_type": "stream",
     "text": [
      "t_cutoff = 1, N_cutoff = 12\n",
      "Converting initial state to vector form\n"
     ]
    },
    {
     "name": "stderr",
     "output_type": "stream",
     "text": [
      "Evolution Superoperator: 100%|██████████| 6544/6544 [00:30<00:00, 214.49it/s]\n"
     ]
    },
    {
     "name": "stdout",
     "output_type": "stream",
     "text": [
      "t_cutoff = 1, N_cutoff = 13\n",
      "Converting initial state to vector form\n"
     ]
    },
    {
     "name": "stderr",
     "output_type": "stream",
     "text": [
      "Evolution Superoperator: 100%|██████████| 6544/6544 [00:31<00:00, 206.92it/s]\n"
     ]
    },
    {
     "name": "stdout",
     "output_type": "stream",
     "text": [
      "t_cutoff = 1, N_cutoff = 14\n",
      "Converting initial state to vector form\n"
     ]
    },
    {
     "name": "stderr",
     "output_type": "stream",
     "text": [
      "Evolution Superoperator: 100%|██████████| 6544/6544 [00:33<00:00, 195.97it/s]\n"
     ]
    },
    {
     "name": "stdout",
     "output_type": "stream",
     "text": [
      "t_cutoff = 2, N_cutoff = 1\n",
      "Converting initial state to vector form\n"
     ]
    },
    {
     "name": "stderr",
     "output_type": "stream",
     "text": [
      "Evolution Superoperator: 100%|██████████| 6544/6544 [00:09<00:00, 700.23it/s]\n"
     ]
    },
    {
     "name": "stdout",
     "output_type": "stream",
     "text": [
      "t_cutoff = 2, N_cutoff = 2\n",
      "Converting initial state to vector form\n"
     ]
    },
    {
     "name": "stderr",
     "output_type": "stream",
     "text": [
      "Evolution Superoperator: 100%|██████████| 6544/6544 [00:10<00:00, 622.13it/s]\n"
     ]
    },
    {
     "name": "stdout",
     "output_type": "stream",
     "text": [
      "t_cutoff = 2, N_cutoff = 3\n",
      "Converting initial state to vector form\n"
     ]
    },
    {
     "name": "stderr",
     "output_type": "stream",
     "text": [
      "Evolution Superoperator: 100%|██████████| 6544/6544 [00:11<00:00, 563.21it/s]\n"
     ]
    },
    {
     "name": "stdout",
     "output_type": "stream",
     "text": [
      "t_cutoff = 2, N_cutoff = 4\n",
      "Converting initial state to vector form\n"
     ]
    },
    {
     "name": "stderr",
     "output_type": "stream",
     "text": [
      "Evolution Superoperator: 100%|██████████| 6544/6544 [00:13<00:00, 477.65it/s]\n"
     ]
    },
    {
     "name": "stdout",
     "output_type": "stream",
     "text": [
      "t_cutoff = 2, N_cutoff = 5\n",
      "Converting initial state to vector form\n"
     ]
    },
    {
     "name": "stderr",
     "output_type": "stream",
     "text": [
      "Evolution Superoperator: 100%|██████████| 6544/6544 [00:15<00:00, 428.34it/s]\n"
     ]
    },
    {
     "name": "stdout",
     "output_type": "stream",
     "text": [
      "t_cutoff = 2, N_cutoff = 6\n",
      "Converting initial state to vector form\n"
     ]
    },
    {
     "name": "stderr",
     "output_type": "stream",
     "text": [
      "Evolution Superoperator: 100%|██████████| 6544/6544 [00:17<00:00, 382.47it/s]\n"
     ]
    },
    {
     "name": "stdout",
     "output_type": "stream",
     "text": [
      "t_cutoff = 2, N_cutoff = 7\n",
      "Converting initial state to vector form\n"
     ]
    },
    {
     "name": "stderr",
     "output_type": "stream",
     "text": [
      "Evolution Superoperator: 100%|██████████| 6544/6544 [00:18<00:00, 358.38it/s]\n"
     ]
    },
    {
     "name": "stdout",
     "output_type": "stream",
     "text": [
      "t_cutoff = 2, N_cutoff = 8\n",
      "Converting initial state to vector form\n"
     ]
    },
    {
     "name": "stderr",
     "output_type": "stream",
     "text": [
      "Evolution Superoperator: 100%|██████████| 6544/6544 [00:20<00:00, 313.60it/s]\n"
     ]
    },
    {
     "name": "stdout",
     "output_type": "stream",
     "text": [
      "t_cutoff = 2, N_cutoff = 9\n",
      "Converting initial state to vector form\n"
     ]
    },
    {
     "name": "stderr",
     "output_type": "stream",
     "text": [
      "Evolution Superoperator: 100%|██████████| 6544/6544 [00:22<00:00, 297.15it/s]\n"
     ]
    },
    {
     "name": "stdout",
     "output_type": "stream",
     "text": [
      "t_cutoff = 2, N_cutoff = 10\n",
      "Converting initial state to vector form\n"
     ]
    },
    {
     "name": "stderr",
     "output_type": "stream",
     "text": [
      "Evolution Superoperator: 100%|██████████| 6544/6544 [00:24<00:00, 264.77it/s]\n"
     ]
    },
    {
     "name": "stdout",
     "output_type": "stream",
     "text": [
      "t_cutoff = 2, N_cutoff = 11\n",
      "Converting initial state to vector form\n"
     ]
    },
    {
     "name": "stderr",
     "output_type": "stream",
     "text": [
      "Evolution Superoperator: 100%|██████████| 6544/6544 [00:26<00:00, 247.28it/s]\n"
     ]
    },
    {
     "name": "stdout",
     "output_type": "stream",
     "text": [
      "t_cutoff = 2, N_cutoff = 12\n",
      "Converting initial state to vector form\n"
     ]
    },
    {
     "name": "stderr",
     "output_type": "stream",
     "text": [
      "Evolution Superoperator: 100%|██████████| 6544/6544 [00:29<00:00, 225.64it/s]\n"
     ]
    },
    {
     "name": "stdout",
     "output_type": "stream",
     "text": [
      "t_cutoff = 2, N_cutoff = 13\n",
      "Converting initial state to vector form\n"
     ]
    },
    {
     "name": "stderr",
     "output_type": "stream",
     "text": [
      "Evolution Superoperator: 100%|██████████| 6544/6544 [00:31<00:00, 208.81it/s]\n"
     ]
    },
    {
     "name": "stdout",
     "output_type": "stream",
     "text": [
      "t_cutoff = 2, N_cutoff = 14\n",
      "Converting initial state to vector form\n"
     ]
    },
    {
     "name": "stderr",
     "output_type": "stream",
     "text": [
      "Evolution Superoperator: 100%|██████████| 6544/6544 [00:33<00:00, 195.79it/s]\n"
     ]
    },
    {
     "name": "stdout",
     "output_type": "stream",
     "text": [
      "t_cutoff = 3, N_cutoff = 1\n",
      "Converting initial state to vector form\n"
     ]
    },
    {
     "name": "stderr",
     "output_type": "stream",
     "text": [
      "Evolution Superoperator: 100%|██████████| 6544/6544 [00:09<00:00, 699.82it/s]\n"
     ]
    },
    {
     "name": "stdout",
     "output_type": "stream",
     "text": [
      "t_cutoff = 3, N_cutoff = 2\n",
      "Converting initial state to vector form\n"
     ]
    },
    {
     "name": "stderr",
     "output_type": "stream",
     "text": [
      "Evolution Superoperator: 100%|██████████| 6544/6544 [00:10<00:00, 601.75it/s]\n"
     ]
    },
    {
     "name": "stdout",
     "output_type": "stream",
     "text": [
      "t_cutoff = 3, N_cutoff = 3\n",
      "Converting initial state to vector form\n"
     ]
    },
    {
     "name": "stderr",
     "output_type": "stream",
     "text": [
      "Evolution Superoperator: 100%|██████████| 6544/6544 [00:11<00:00, 555.30it/s]\n"
     ]
    },
    {
     "name": "stdout",
     "output_type": "stream",
     "text": [
      "t_cutoff = 3, N_cutoff = 4\n",
      "Converting initial state to vector form\n"
     ]
    },
    {
     "name": "stderr",
     "output_type": "stream",
     "text": [
      "Evolution Superoperator: 100%|██████████| 6544/6544 [00:13<00:00, 497.13it/s]\n"
     ]
    },
    {
     "name": "stdout",
     "output_type": "stream",
     "text": [
      "t_cutoff = 3, N_cutoff = 5\n",
      "Converting initial state to vector form\n"
     ]
    },
    {
     "name": "stderr",
     "output_type": "stream",
     "text": [
      "Evolution Superoperator: 100%|██████████| 6544/6544 [00:15<00:00, 430.98it/s]\n"
     ]
    },
    {
     "name": "stdout",
     "output_type": "stream",
     "text": [
      "t_cutoff = 3, N_cutoff = 6\n",
      "Converting initial state to vector form\n"
     ]
    },
    {
     "name": "stderr",
     "output_type": "stream",
     "text": [
      "Evolution Superoperator: 100%|██████████| 6544/6544 [00:16<00:00, 389.33it/s]\n"
     ]
    },
    {
     "name": "stdout",
     "output_type": "stream",
     "text": [
      "t_cutoff = 3, N_cutoff = 7\n",
      "Converting initial state to vector form\n"
     ]
    },
    {
     "name": "stderr",
     "output_type": "stream",
     "text": [
      "Evolution Superoperator: 100%|██████████| 6544/6544 [00:18<00:00, 351.12it/s]\n"
     ]
    },
    {
     "name": "stdout",
     "output_type": "stream",
     "text": [
      "t_cutoff = 3, N_cutoff = 8\n",
      "Converting initial state to vector form\n"
     ]
    },
    {
     "name": "stderr",
     "output_type": "stream",
     "text": [
      "Evolution Superoperator: 100%|██████████| 6544/6544 [00:20<00:00, 325.32it/s]\n"
     ]
    },
    {
     "name": "stdout",
     "output_type": "stream",
     "text": [
      "t_cutoff = 3, N_cutoff = 9\n",
      "Converting initial state to vector form\n"
     ]
    },
    {
     "name": "stderr",
     "output_type": "stream",
     "text": [
      "Evolution Superoperator: 100%|██████████| 6544/6544 [00:22<00:00, 293.07it/s]\n"
     ]
    },
    {
     "name": "stdout",
     "output_type": "stream",
     "text": [
      "t_cutoff = 3, N_cutoff = 10\n",
      "Converting initial state to vector form\n"
     ]
    },
    {
     "name": "stderr",
     "output_type": "stream",
     "text": [
      "Evolution Superoperator: 100%|██████████| 6544/6544 [00:20<00:00, 315.09it/s]\n"
     ]
    },
    {
     "name": "stdout",
     "output_type": "stream",
     "text": [
      "t_cutoff = 3, N_cutoff = 11\n",
      "Converting initial state to vector form\n"
     ]
    },
    {
     "name": "stderr",
     "output_type": "stream",
     "text": [
      "Evolution Superoperator: 100%|██████████| 6544/6544 [00:24<00:00, 271.00it/s]\n"
     ]
    },
    {
     "name": "stdout",
     "output_type": "stream",
     "text": [
      "t_cutoff = 3, N_cutoff = 12\n",
      "Converting initial state to vector form\n"
     ]
    },
    {
     "name": "stderr",
     "output_type": "stream",
     "text": [
      "Evolution Superoperator: 100%|██████████| 6544/6544 [00:23<00:00, 284.42it/s]\n"
     ]
    },
    {
     "name": "stdout",
     "output_type": "stream",
     "text": [
      "t_cutoff = 3, N_cutoff = 13\n",
      "Converting initial state to vector form\n"
     ]
    },
    {
     "name": "stderr",
     "output_type": "stream",
     "text": [
      "Evolution Superoperator: 100%|██████████| 6544/6544 [16:11<00:00,  6.74it/s]  \n"
     ]
    },
    {
     "name": "stdout",
     "output_type": "stream",
     "text": [
      "t_cutoff = 3, N_cutoff = 14\n",
      "Converting initial state to vector form\n"
     ]
    },
    {
     "name": "stderr",
     "output_type": "stream",
     "text": [
      "Evolution Superoperator: 100%|██████████| 6544/6544 [17:49<00:00,  6.12it/s]  \n"
     ]
    },
    {
     "name": "stdout",
     "output_type": "stream",
     "text": [
      "t_cutoff = 4, N_cutoff = 1\n",
      "Converting initial state to vector form\n"
     ]
    },
    {
     "name": "stderr",
     "output_type": "stream",
     "text": [
      "Evolution Superoperator: 100%|██████████| 6544/6544 [00:08<00:00, 761.24it/s]\n"
     ]
    },
    {
     "name": "stdout",
     "output_type": "stream",
     "text": [
      "t_cutoff = 4, N_cutoff = 2\n",
      "Converting initial state to vector form\n"
     ]
    },
    {
     "name": "stderr",
     "output_type": "stream",
     "text": [
      "Evolution Superoperator: 100%|██████████| 6544/6544 [00:09<00:00, 670.09it/s]\n"
     ]
    },
    {
     "name": "stdout",
     "output_type": "stream",
     "text": [
      "t_cutoff = 4, N_cutoff = 3\n",
      "Converting initial state to vector form\n"
     ]
    },
    {
     "name": "stderr",
     "output_type": "stream",
     "text": [
      "Evolution Superoperator: 100%|██████████| 6544/6544 [15:56<00:00,  6.84it/s]  \n"
     ]
    },
    {
     "name": "stdout",
     "output_type": "stream",
     "text": [
      "t_cutoff = 4, N_cutoff = 4\n",
      "Converting initial state to vector form\n"
     ]
    },
    {
     "name": "stderr",
     "output_type": "stream",
     "text": [
      "Evolution Superoperator: 100%|██████████| 6544/6544 [00:11<00:00, 565.83it/s]\n"
     ]
    },
    {
     "name": "stdout",
     "output_type": "stream",
     "text": [
      "t_cutoff = 4, N_cutoff = 5\n",
      "Converting initial state to vector form\n"
     ]
    },
    {
     "name": "stderr",
     "output_type": "stream",
     "text": [
      "Evolution Superoperator: 100%|██████████| 6544/6544 [00:54<00:00, 119.30it/s]\n"
     ]
    },
    {
     "name": "stdout",
     "output_type": "stream",
     "text": [
      "t_cutoff = 4, N_cutoff = 6\n",
      "Converting initial state to vector form\n"
     ]
    },
    {
     "name": "stderr",
     "output_type": "stream",
     "text": [
      "Evolution Superoperator: 100%|██████████| 6544/6544 [00:25<00:00, 252.24it/s]\n"
     ]
    },
    {
     "name": "stdout",
     "output_type": "stream",
     "text": [
      "t_cutoff = 4, N_cutoff = 7\n",
      "Converting initial state to vector form\n"
     ]
    },
    {
     "name": "stderr",
     "output_type": "stream",
     "text": [
      "Evolution Superoperator: 100%|██████████| 6544/6544 [00:26<00:00, 251.40it/s]\n"
     ]
    },
    {
     "name": "stdout",
     "output_type": "stream",
     "text": [
      "t_cutoff = 4, N_cutoff = 8\n",
      "Converting initial state to vector form\n"
     ]
    },
    {
     "name": "stderr",
     "output_type": "stream",
     "text": [
      "Evolution Superoperator: 100%|██████████| 6544/6544 [00:29<00:00, 219.70it/s]\n"
     ]
    },
    {
     "name": "stdout",
     "output_type": "stream",
     "text": [
      "t_cutoff = 4, N_cutoff = 9\n",
      "Converting initial state to vector form\n"
     ]
    },
    {
     "name": "stderr",
     "output_type": "stream",
     "text": [
      "Evolution Superoperator: 100%|██████████| 6544/6544 [00:32<00:00, 200.00it/s]\n"
     ]
    },
    {
     "name": "stdout",
     "output_type": "stream",
     "text": [
      "t_cutoff = 4, N_cutoff = 10\n",
      "Converting initial state to vector form\n"
     ]
    },
    {
     "name": "stderr",
     "output_type": "stream",
     "text": [
      "Evolution Superoperator: 100%|██████████| 6544/6544 [00:38<00:00, 171.07it/s]\n"
     ]
    },
    {
     "name": "stdout",
     "output_type": "stream",
     "text": [
      "t_cutoff = 4, N_cutoff = 11\n",
      "Converting initial state to vector form\n"
     ]
    },
    {
     "name": "stderr",
     "output_type": "stream",
     "text": [
      "Evolution Superoperator: 100%|██████████| 6544/6544 [00:34<00:00, 189.48it/s]\n"
     ]
    },
    {
     "name": "stdout",
     "output_type": "stream",
     "text": [
      "t_cutoff = 4, N_cutoff = 12\n",
      "Converting initial state to vector form\n"
     ]
    },
    {
     "name": "stderr",
     "output_type": "stream",
     "text": [
      "Evolution Superoperator: 100%|██████████| 6544/6544 [00:31<00:00, 205.23it/s]\n"
     ]
    },
    {
     "name": "stdout",
     "output_type": "stream",
     "text": [
      "t_cutoff = 4, N_cutoff = 13\n",
      "Converting initial state to vector form\n"
     ]
    },
    {
     "name": "stderr",
     "output_type": "stream",
     "text": [
      "Evolution Superoperator: 100%|██████████| 6544/6544 [00:33<00:00, 197.04it/s]\n"
     ]
    },
    {
     "name": "stdout",
     "output_type": "stream",
     "text": [
      "t_cutoff = 4, N_cutoff = 14\n",
      "Converting initial state to vector form\n"
     ]
    },
    {
     "name": "stderr",
     "output_type": "stream",
     "text": [
      "Evolution Superoperator: 100%|██████████| 6544/6544 [00:34<00:00, 190.23it/s]\n"
     ]
    },
    {
     "name": "stdout",
     "output_type": "stream",
     "text": [
      "t_cutoff = 5, N_cutoff = 1\n",
      "Converting initial state to vector form\n"
     ]
    },
    {
     "name": "stderr",
     "output_type": "stream",
     "text": [
      "Evolution Superoperator: 100%|██████████| 6544/6544 [00:10<00:00, 639.19it/s]\n"
     ]
    },
    {
     "name": "stdout",
     "output_type": "stream",
     "text": [
      "t_cutoff = 5, N_cutoff = 2\n",
      "Converting initial state to vector form\n"
     ]
    },
    {
     "name": "stderr",
     "output_type": "stream",
     "text": [
      "Evolution Superoperator: 100%|██████████| 6544/6544 [00:11<00:00, 577.39it/s]\n"
     ]
    },
    {
     "name": "stdout",
     "output_type": "stream",
     "text": [
      "t_cutoff = 5, N_cutoff = 3\n",
      "Converting initial state to vector form\n"
     ]
    },
    {
     "name": "stderr",
     "output_type": "stream",
     "text": [
      "Evolution Superoperator: 100%|██████████| 6544/6544 [00:12<00:00, 510.49it/s]\n"
     ]
    },
    {
     "name": "stdout",
     "output_type": "stream",
     "text": [
      "t_cutoff = 5, N_cutoff = 4\n",
      "Converting initial state to vector form\n"
     ]
    },
    {
     "name": "stderr",
     "output_type": "stream",
     "text": [
      "Evolution Superoperator: 100%|██████████| 6544/6544 [00:14<00:00, 463.39it/s]\n"
     ]
    },
    {
     "name": "stdout",
     "output_type": "stream",
     "text": [
      "t_cutoff = 5, N_cutoff = 5\n",
      "Converting initial state to vector form\n"
     ]
    },
    {
     "name": "stderr",
     "output_type": "stream",
     "text": [
      "Evolution Superoperator: 100%|██████████| 6544/6544 [00:16<00:00, 389.80it/s]\n"
     ]
    },
    {
     "name": "stdout",
     "output_type": "stream",
     "text": [
      "t_cutoff = 5, N_cutoff = 6\n",
      "Converting initial state to vector form\n"
     ]
    },
    {
     "name": "stderr",
     "output_type": "stream",
     "text": [
      "Evolution Superoperator: 100%|██████████| 6544/6544 [00:17<00:00, 366.12it/s]\n"
     ]
    },
    {
     "name": "stdout",
     "output_type": "stream",
     "text": [
      "t_cutoff = 5, N_cutoff = 7\n",
      "Converting initial state to vector form\n"
     ]
    },
    {
     "name": "stderr",
     "output_type": "stream",
     "text": [
      "Evolution Superoperator: 100%|██████████| 6544/6544 [00:19<00:00, 336.82it/s]\n"
     ]
    },
    {
     "name": "stdout",
     "output_type": "stream",
     "text": [
      "t_cutoff = 5, N_cutoff = 8\n",
      "Converting initial state to vector form\n"
     ]
    },
    {
     "name": "stderr",
     "output_type": "stream",
     "text": [
      "Evolution Superoperator: 100%|██████████| 6544/6544 [00:20<00:00, 313.15it/s]\n"
     ]
    },
    {
     "name": "stdout",
     "output_type": "stream",
     "text": [
      "t_cutoff = 5, N_cutoff = 9\n",
      "Converting initial state to vector form\n"
     ]
    },
    {
     "name": "stderr",
     "output_type": "stream",
     "text": [
      "Evolution Superoperator: 100%|██████████| 6544/6544 [00:23<00:00, 279.99it/s]\n"
     ]
    },
    {
     "name": "stdout",
     "output_type": "stream",
     "text": [
      "t_cutoff = 5, N_cutoff = 10\n",
      "Converting initial state to vector form\n"
     ]
    },
    {
     "name": "stderr",
     "output_type": "stream",
     "text": [
      "Evolution Superoperator: 100%|██████████| 6544/6544 [00:26<00:00, 248.51it/s]\n"
     ]
    },
    {
     "name": "stdout",
     "output_type": "stream",
     "text": [
      "t_cutoff = 5, N_cutoff = 11\n",
      "Converting initial state to vector form\n"
     ]
    },
    {
     "name": "stderr",
     "output_type": "stream",
     "text": [
      "Evolution Superoperator: 100%|██████████| 6544/6544 [00:27<00:00, 239.77it/s]\n"
     ]
    },
    {
     "name": "stdout",
     "output_type": "stream",
     "text": [
      "t_cutoff = 5, N_cutoff = 12\n",
      "Converting initial state to vector form\n"
     ]
    },
    {
     "name": "stderr",
     "output_type": "stream",
     "text": [
      "Evolution Superoperator: 100%|██████████| 6544/6544 [00:30<00:00, 216.18it/s]\n"
     ]
    },
    {
     "name": "stdout",
     "output_type": "stream",
     "text": [
      "t_cutoff = 5, N_cutoff = 13\n",
      "Converting initial state to vector form\n"
     ]
    },
    {
     "name": "stderr",
     "output_type": "stream",
     "text": [
      "Evolution Superoperator: 100%|██████████| 6544/6544 [00:32<00:00, 204.03it/s]\n"
     ]
    },
    {
     "name": "stdout",
     "output_type": "stream",
     "text": [
      "t_cutoff = 5, N_cutoff = 14\n",
      "Converting initial state to vector form\n"
     ]
    },
    {
     "name": "stderr",
     "output_type": "stream",
     "text": [
      "Evolution Superoperator: 100%|██████████| 6544/6544 [00:34<00:00, 189.34it/s]\n"
     ]
    },
    {
     "name": "stdout",
     "output_type": "stream",
     "text": [
      "t_cutoff = 6, N_cutoff = 1\n",
      "Converting initial state to vector form\n"
     ]
    },
    {
     "name": "stderr",
     "output_type": "stream",
     "text": [
      "Evolution Superoperator: 100%|██████████| 6544/6544 [00:09<00:00, 679.62it/s]\n"
     ]
    },
    {
     "name": "stdout",
     "output_type": "stream",
     "text": [
      "t_cutoff = 6, N_cutoff = 2\n",
      "Converting initial state to vector form\n"
     ]
    },
    {
     "name": "stderr",
     "output_type": "stream",
     "text": [
      "Evolution Superoperator: 100%|██████████| 6544/6544 [00:13<00:00, 490.53it/s]\n"
     ]
    },
    {
     "name": "stdout",
     "output_type": "stream",
     "text": [
      "t_cutoff = 6, N_cutoff = 3\n",
      "Converting initial state to vector form\n"
     ]
    },
    {
     "name": "stderr",
     "output_type": "stream",
     "text": [
      "Evolution Superoperator: 100%|██████████| 6544/6544 [00:12<00:00, 504.45it/s]\n"
     ]
    },
    {
     "name": "stdout",
     "output_type": "stream",
     "text": [
      "t_cutoff = 6, N_cutoff = 4\n",
      "Converting initial state to vector form\n"
     ]
    },
    {
     "name": "stderr",
     "output_type": "stream",
     "text": [
      "Evolution Superoperator: 100%|██████████| 6544/6544 [00:14<00:00, 462.22it/s]\n"
     ]
    },
    {
     "name": "stdout",
     "output_type": "stream",
     "text": [
      "t_cutoff = 6, N_cutoff = 5\n",
      "Converting initial state to vector form\n"
     ]
    },
    {
     "name": "stderr",
     "output_type": "stream",
     "text": [
      "Evolution Superoperator: 100%|██████████| 6544/6544 [00:16<00:00, 401.74it/s]\n"
     ]
    },
    {
     "name": "stdout",
     "output_type": "stream",
     "text": [
      "t_cutoff = 6, N_cutoff = 6\n",
      "Converting initial state to vector form\n"
     ]
    },
    {
     "name": "stderr",
     "output_type": "stream",
     "text": [
      "Evolution Superoperator: 100%|██████████| 6544/6544 [00:17<00:00, 369.90it/s]\n"
     ]
    },
    {
     "name": "stdout",
     "output_type": "stream",
     "text": [
      "t_cutoff = 6, N_cutoff = 7\n",
      "Converting initial state to vector form\n"
     ]
    },
    {
     "name": "stderr",
     "output_type": "stream",
     "text": [
      "Evolution Superoperator: 100%|██████████| 6544/6544 [00:19<00:00, 337.44it/s]\n"
     ]
    },
    {
     "name": "stdout",
     "output_type": "stream",
     "text": [
      "t_cutoff = 6, N_cutoff = 8\n",
      "Converting initial state to vector form\n"
     ]
    },
    {
     "name": "stderr",
     "output_type": "stream",
     "text": [
      "Evolution Superoperator: 100%|██████████| 6544/6544 [00:20<00:00, 312.87it/s]\n"
     ]
    },
    {
     "name": "stdout",
     "output_type": "stream",
     "text": [
      "t_cutoff = 6, N_cutoff = 9\n",
      "Converting initial state to vector form\n"
     ]
    },
    {
     "name": "stderr",
     "output_type": "stream",
     "text": [
      "Evolution Superoperator: 100%|██████████| 6544/6544 [00:23<00:00, 280.22it/s]\n"
     ]
    },
    {
     "name": "stdout",
     "output_type": "stream",
     "text": [
      "t_cutoff = 6, N_cutoff = 10\n",
      "Converting initial state to vector form\n"
     ]
    },
    {
     "name": "stderr",
     "output_type": "stream",
     "text": [
      "Evolution Superoperator: 100%|██████████| 6544/6544 [00:26<00:00, 246.66it/s]\n"
     ]
    },
    {
     "name": "stdout",
     "output_type": "stream",
     "text": [
      "t_cutoff = 6, N_cutoff = 11\n",
      "Converting initial state to vector form\n"
     ]
    },
    {
     "name": "stderr",
     "output_type": "stream",
     "text": [
      "Evolution Superoperator: 100%|██████████| 6544/6544 [00:27<00:00, 235.96it/s]\n"
     ]
    },
    {
     "name": "stdout",
     "output_type": "stream",
     "text": [
      "t_cutoff = 6, N_cutoff = 12\n",
      "Converting initial state to vector form\n"
     ]
    },
    {
     "name": "stderr",
     "output_type": "stream",
     "text": [
      "Evolution Superoperator: 100%|██████████| 6544/6544 [00:33<00:00, 197.68it/s]\n"
     ]
    },
    {
     "name": "stdout",
     "output_type": "stream",
     "text": [
      "t_cutoff = 6, N_cutoff = 13\n",
      "Converting initial state to vector form\n"
     ]
    },
    {
     "name": "stderr",
     "output_type": "stream",
     "text": [
      "Evolution Superoperator: 100%|██████████| 6544/6544 [00:33<00:00, 193.06it/s]\n"
     ]
    },
    {
     "name": "stdout",
     "output_type": "stream",
     "text": [
      "t_cutoff = 6, N_cutoff = 14\n",
      "Converting initial state to vector form\n"
     ]
    },
    {
     "name": "stderr",
     "output_type": "stream",
     "text": [
      "Evolution Superoperator: 100%|██████████| 6544/6544 [00:36<00:00, 180.95it/s]\n"
     ]
    },
    {
     "name": "stdout",
     "output_type": "stream",
     "text": [
      "t_cutoff = 7, N_cutoff = 1\n",
      "Converting initial state to vector form\n"
     ]
    },
    {
     "name": "stderr",
     "output_type": "stream",
     "text": [
      "Evolution Superoperator: 100%|██████████| 6544/6544 [00:11<00:00, 589.94it/s]\n"
     ]
    },
    {
     "name": "stdout",
     "output_type": "stream",
     "text": [
      "t_cutoff = 7, N_cutoff = 2\n",
      "Converting initial state to vector form\n"
     ]
    },
    {
     "name": "stderr",
     "output_type": "stream",
     "text": [
      "Evolution Superoperator: 100%|██████████| 6544/6544 [00:11<00:00, 548.38it/s]\n"
     ]
    },
    {
     "name": "stdout",
     "output_type": "stream",
     "text": [
      "t_cutoff = 7, N_cutoff = 3\n",
      "Converting initial state to vector form\n"
     ]
    },
    {
     "name": "stderr",
     "output_type": "stream",
     "text": [
      "Evolution Superoperator: 100%|██████████| 6544/6544 [00:12<00:00, 520.21it/s]\n"
     ]
    },
    {
     "name": "stdout",
     "output_type": "stream",
     "text": [
      "t_cutoff = 7, N_cutoff = 4\n",
      "Converting initial state to vector form\n"
     ]
    },
    {
     "name": "stderr",
     "output_type": "stream",
     "text": [
      "Evolution Superoperator: 100%|██████████| 6544/6544 [00:18<00:00, 360.50it/s]\n"
     ]
    },
    {
     "name": "stdout",
     "output_type": "stream",
     "text": [
      "t_cutoff = 7, N_cutoff = 5\n",
      "Converting initial state to vector form\n"
     ]
    },
    {
     "name": "stderr",
     "output_type": "stream",
     "text": [
      "Evolution Superoperator: 100%|██████████| 6544/6544 [00:15<00:00, 409.16it/s]\n"
     ]
    },
    {
     "name": "stdout",
     "output_type": "stream",
     "text": [
      "t_cutoff = 7, N_cutoff = 6\n",
      "Converting initial state to vector form\n"
     ]
    },
    {
     "name": "stderr",
     "output_type": "stream",
     "text": [
      "Evolution Superoperator: 100%|██████████| 6544/6544 [00:17<00:00, 373.59it/s]\n"
     ]
    },
    {
     "name": "stdout",
     "output_type": "stream",
     "text": [
      "t_cutoff = 7, N_cutoff = 7\n",
      "Converting initial state to vector form\n"
     ]
    },
    {
     "name": "stderr",
     "output_type": "stream",
     "text": [
      "Evolution Superoperator: 100%|██████████| 6544/6544 [00:20<00:00, 320.78it/s]\n"
     ]
    },
    {
     "name": "stdout",
     "output_type": "stream",
     "text": [
      "t_cutoff = 7, N_cutoff = 8\n",
      "Converting initial state to vector form\n"
     ]
    },
    {
     "name": "stderr",
     "output_type": "stream",
     "text": [
      "Evolution Superoperator: 100%|██████████| 6544/6544 [00:21<00:00, 299.93it/s]\n"
     ]
    },
    {
     "name": "stdout",
     "output_type": "stream",
     "text": [
      "t_cutoff = 7, N_cutoff = 9\n",
      "Converting initial state to vector form\n"
     ]
    },
    {
     "name": "stderr",
     "output_type": "stream",
     "text": [
      "Evolution Superoperator: 100%|██████████| 6544/6544 [00:21<00:00, 306.50it/s]\n"
     ]
    },
    {
     "name": "stdout",
     "output_type": "stream",
     "text": [
      "t_cutoff = 7, N_cutoff = 10\n",
      "Converting initial state to vector form\n"
     ]
    },
    {
     "name": "stderr",
     "output_type": "stream",
     "text": [
      "Evolution Superoperator: 100%|██████████| 6544/6544 [00:20<00:00, 324.69it/s]\n"
     ]
    },
    {
     "name": "stdout",
     "output_type": "stream",
     "text": [
      "t_cutoff = 7, N_cutoff = 11\n",
      "Converting initial state to vector form\n"
     ]
    },
    {
     "name": "stderr",
     "output_type": "stream",
     "text": [
      "Evolution Superoperator: 100%|██████████| 6544/6544 [00:23<00:00, 281.12it/s]\n"
     ]
    },
    {
     "name": "stdout",
     "output_type": "stream",
     "text": [
      "t_cutoff = 7, N_cutoff = 12\n",
      "Converting initial state to vector form\n"
     ]
    },
    {
     "name": "stderr",
     "output_type": "stream",
     "text": [
      "Evolution Superoperator: 100%|██████████| 6544/6544 [00:24<00:00, 263.03it/s]\n"
     ]
    },
    {
     "name": "stdout",
     "output_type": "stream",
     "text": [
      "t_cutoff = 7, N_cutoff = 13\n",
      "Converting initial state to vector form\n"
     ]
    },
    {
     "name": "stderr",
     "output_type": "stream",
     "text": [
      "Evolution Superoperator: 100%|██████████| 6544/6544 [00:27<00:00, 234.40it/s]\n"
     ]
    },
    {
     "name": "stdout",
     "output_type": "stream",
     "text": [
      "t_cutoff = 7, N_cutoff = 14\n",
      "Converting initial state to vector form\n"
     ]
    },
    {
     "name": "stderr",
     "output_type": "stream",
     "text": [
      "Evolution Superoperator: 100%|██████████| 6544/6544 [00:29<00:00, 222.40it/s]\n"
     ]
    },
    {
     "name": "stdout",
     "output_type": "stream",
     "text": [
      "t_cutoff = 8, N_cutoff = 1\n",
      "Converting initial state to vector form\n"
     ]
    },
    {
     "name": "stderr",
     "output_type": "stream",
     "text": [
      "Evolution Superoperator: 100%|██████████| 6544/6544 [00:08<00:00, 814.12it/s] \n"
     ]
    },
    {
     "name": "stdout",
     "output_type": "stream",
     "text": [
      "t_cutoff = 8, N_cutoff = 2\n",
      "Converting initial state to vector form\n"
     ]
    },
    {
     "name": "stderr",
     "output_type": "stream",
     "text": [
      "Evolution Superoperator: 100%|██████████| 6544/6544 [00:08<00:00, 762.11it/s]\n"
     ]
    },
    {
     "name": "stdout",
     "output_type": "stream",
     "text": [
      "t_cutoff = 8, N_cutoff = 3\n",
      "Converting initial state to vector form\n"
     ]
    },
    {
     "name": "stderr",
     "output_type": "stream",
     "text": [
      "Evolution Superoperator: 100%|██████████| 6544/6544 [00:10<00:00, 643.06it/s]\n"
     ]
    },
    {
     "name": "stdout",
     "output_type": "stream",
     "text": [
      "t_cutoff = 8, N_cutoff = 4\n",
      "Converting initial state to vector form\n"
     ]
    },
    {
     "name": "stderr",
     "output_type": "stream",
     "text": [
      "Evolution Superoperator: 100%|██████████| 6544/6544 [00:10<00:00, 598.81it/s]\n"
     ]
    },
    {
     "name": "stdout",
     "output_type": "stream",
     "text": [
      "t_cutoff = 8, N_cutoff = 5\n",
      "Converting initial state to vector form\n"
     ]
    },
    {
     "name": "stderr",
     "output_type": "stream",
     "text": [
      "Evolution Superoperator: 100%|██████████| 6544/6544 [00:14<00:00, 461.97it/s]\n"
     ]
    },
    {
     "name": "stdout",
     "output_type": "stream",
     "text": [
      "t_cutoff = 8, N_cutoff = 6\n",
      "Converting initial state to vector form\n"
     ]
    },
    {
     "name": "stderr",
     "output_type": "stream",
     "text": [
      "Evolution Superoperator: 100%|██████████| 6544/6544 [00:15<00:00, 424.08it/s]\n"
     ]
    },
    {
     "name": "stdout",
     "output_type": "stream",
     "text": [
      "t_cutoff = 8, N_cutoff = 7\n",
      "Converting initial state to vector form\n"
     ]
    },
    {
     "name": "stderr",
     "output_type": "stream",
     "text": [
      "Evolution Superoperator: 100%|██████████| 6544/6544 [00:17<00:00, 371.77it/s]\n"
     ]
    },
    {
     "name": "stdout",
     "output_type": "stream",
     "text": [
      "t_cutoff = 8, N_cutoff = 8\n",
      "Converting initial state to vector form\n"
     ]
    },
    {
     "name": "stderr",
     "output_type": "stream",
     "text": [
      "Evolution Superoperator: 100%|██████████| 6544/6544 [00:20<00:00, 324.51it/s]\n"
     ]
    },
    {
     "name": "stdout",
     "output_type": "stream",
     "text": [
      "t_cutoff = 8, N_cutoff = 9\n",
      "Converting initial state to vector form\n"
     ]
    },
    {
     "name": "stderr",
     "output_type": "stream",
     "text": [
      "Evolution Superoperator: 100%|██████████| 6544/6544 [00:21<00:00, 308.43it/s]\n"
     ]
    },
    {
     "name": "stdout",
     "output_type": "stream",
     "text": [
      "t_cutoff = 8, N_cutoff = 10\n",
      "Converting initial state to vector form\n"
     ]
    },
    {
     "name": "stderr",
     "output_type": "stream",
     "text": [
      "Evolution Superoperator: 100%|██████████| 6544/6544 [00:23<00:00, 275.00it/s]\n"
     ]
    },
    {
     "name": "stdout",
     "output_type": "stream",
     "text": [
      "t_cutoff = 8, N_cutoff = 11\n",
      "Converting initial state to vector form\n"
     ]
    },
    {
     "name": "stderr",
     "output_type": "stream",
     "text": [
      "Evolution Superoperator: 100%|██████████| 6544/6544 [00:24<00:00, 269.95it/s]\n"
     ]
    },
    {
     "name": "stdout",
     "output_type": "stream",
     "text": [
      "t_cutoff = 8, N_cutoff = 12\n",
      "Converting initial state to vector form\n"
     ]
    },
    {
     "name": "stderr",
     "output_type": "stream",
     "text": [
      "Evolution Superoperator: 100%|██████████| 6544/6544 [00:26<00:00, 246.59it/s]\n"
     ]
    },
    {
     "name": "stdout",
     "output_type": "stream",
     "text": [
      "t_cutoff = 8, N_cutoff = 13\n",
      "Converting initial state to vector form\n"
     ]
    },
    {
     "name": "stderr",
     "output_type": "stream",
     "text": [
      "Evolution Superoperator: 100%|██████████| 6544/6544 [00:27<00:00, 238.01it/s]\n"
     ]
    },
    {
     "name": "stdout",
     "output_type": "stream",
     "text": [
      "t_cutoff = 8, N_cutoff = 14\n",
      "Converting initial state to vector form\n"
     ]
    },
    {
     "name": "stderr",
     "output_type": "stream",
     "text": [
      "Evolution Superoperator: 100%|██████████| 6544/6544 [00:29<00:00, 223.11it/s]\n"
     ]
    },
    {
     "name": "stdout",
     "output_type": "stream",
     "text": [
      "t_cutoff = 9, N_cutoff = 1\n",
      "Converting initial state to vector form\n"
     ]
    },
    {
     "name": "stderr",
     "output_type": "stream",
     "text": [
      "Evolution Superoperator: 100%|██████████| 6544/6544 [00:08<00:00, 768.25it/s]\n"
     ]
    },
    {
     "name": "stdout",
     "output_type": "stream",
     "text": [
      "t_cutoff = 9, N_cutoff = 2\n",
      "Converting initial state to vector form\n"
     ]
    },
    {
     "name": "stderr",
     "output_type": "stream",
     "text": [
      "Evolution Superoperator: 100%|██████████| 6544/6544 [00:09<00:00, 701.43it/s]\n"
     ]
    },
    {
     "name": "stdout",
     "output_type": "stream",
     "text": [
      "t_cutoff = 9, N_cutoff = 3\n",
      "Converting initial state to vector form\n"
     ]
    },
    {
     "name": "stderr",
     "output_type": "stream",
     "text": [
      "Evolution Superoperator: 100%|██████████| 6544/6544 [00:10<00:00, 625.34it/s]\n"
     ]
    },
    {
     "name": "stdout",
     "output_type": "stream",
     "text": [
      "t_cutoff = 9, N_cutoff = 4\n",
      "Converting initial state to vector form\n"
     ]
    },
    {
     "name": "stderr",
     "output_type": "stream",
     "text": [
      "Evolution Superoperator: 100%|██████████| 6544/6544 [00:11<00:00, 553.19it/s]\n"
     ]
    },
    {
     "name": "stdout",
     "output_type": "stream",
     "text": [
      "t_cutoff = 9, N_cutoff = 5\n",
      "Converting initial state to vector form\n"
     ]
    },
    {
     "name": "stderr",
     "output_type": "stream",
     "text": [
      "Evolution Superoperator: 100%|██████████| 6544/6544 [00:12<00:00, 508.58it/s]\n"
     ]
    },
    {
     "name": "stdout",
     "output_type": "stream",
     "text": [
      "t_cutoff = 9, N_cutoff = 6\n",
      "Converting initial state to vector form\n"
     ]
    },
    {
     "name": "stderr",
     "output_type": "stream",
     "text": [
      "Evolution Superoperator: 100%|██████████| 6544/6544 [00:16<00:00, 391.66it/s]\n"
     ]
    },
    {
     "name": "stdout",
     "output_type": "stream",
     "text": [
      "t_cutoff = 9, N_cutoff = 7\n",
      "Converting initial state to vector form\n"
     ]
    },
    {
     "name": "stderr",
     "output_type": "stream",
     "text": [
      "Evolution Superoperator: 100%|██████████| 6544/6544 [00:16<00:00, 404.80it/s]\n"
     ]
    },
    {
     "name": "stdout",
     "output_type": "stream",
     "text": [
      "t_cutoff = 9, N_cutoff = 8\n",
      "Converting initial state to vector form\n"
     ]
    },
    {
     "name": "stderr",
     "output_type": "stream",
     "text": [
      "Evolution Superoperator: 100%|██████████| 6544/6544 [00:18<00:00, 356.34it/s]\n"
     ]
    },
    {
     "name": "stdout",
     "output_type": "stream",
     "text": [
      "t_cutoff = 9, N_cutoff = 9\n",
      "Converting initial state to vector form\n"
     ]
    },
    {
     "name": "stderr",
     "output_type": "stream",
     "text": [
      "Evolution Superoperator: 100%|██████████| 6544/6544 [00:20<00:00, 322.07it/s]\n"
     ]
    },
    {
     "name": "stdout",
     "output_type": "stream",
     "text": [
      "t_cutoff = 9, N_cutoff = 10\n",
      "Converting initial state to vector form\n"
     ]
    },
    {
     "name": "stderr",
     "output_type": "stream",
     "text": [
      "Evolution Superoperator: 100%|██████████| 6544/6544 [00:21<00:00, 308.16it/s]\n"
     ]
    },
    {
     "name": "stdout",
     "output_type": "stream",
     "text": [
      "t_cutoff = 9, N_cutoff = 11\n",
      "Converting initial state to vector form\n"
     ]
    },
    {
     "name": "stderr",
     "output_type": "stream",
     "text": [
      "Evolution Superoperator: 100%|██████████| 6544/6544 [00:21<00:00, 298.13it/s]\n"
     ]
    },
    {
     "name": "stdout",
     "output_type": "stream",
     "text": [
      "t_cutoff = 9, N_cutoff = 12\n",
      "Converting initial state to vector form\n"
     ]
    },
    {
     "name": "stderr",
     "output_type": "stream",
     "text": [
      "Evolution Superoperator: 100%|██████████| 6544/6544 [00:23<00:00, 283.45it/s]\n"
     ]
    },
    {
     "name": "stdout",
     "output_type": "stream",
     "text": [
      "t_cutoff = 9, N_cutoff = 13\n",
      "Converting initial state to vector form\n"
     ]
    },
    {
     "name": "stderr",
     "output_type": "stream",
     "text": [
      "Evolution Superoperator: 100%|██████████| 6544/6544 [00:25<00:00, 252.48it/s]\n"
     ]
    },
    {
     "name": "stdout",
     "output_type": "stream",
     "text": [
      "t_cutoff = 9, N_cutoff = 14\n",
      "Converting initial state to vector form\n"
     ]
    },
    {
     "name": "stderr",
     "output_type": "stream",
     "text": [
      "Evolution Superoperator: 100%|██████████| 6544/6544 [00:28<00:00, 229.27it/s]\n"
     ]
    },
    {
     "name": "stdout",
     "output_type": "stream",
     "text": [
      "t_cutoff = 10, N_cutoff = 1\n",
      "Converting initial state to vector form\n"
     ]
    },
    {
     "name": "stderr",
     "output_type": "stream",
     "text": [
      "Evolution Superoperator: 100%|██████████| 6544/6544 [00:12<00:00, 519.55it/s]\n"
     ]
    },
    {
     "name": "stdout",
     "output_type": "stream",
     "text": [
      "t_cutoff = 10, N_cutoff = 2\n",
      "Converting initial state to vector form\n"
     ]
    },
    {
     "name": "stderr",
     "output_type": "stream",
     "text": [
      "Evolution Superoperator: 100%|██████████| 6544/6544 [00:08<00:00, 742.26it/s]\n"
     ]
    },
    {
     "name": "stdout",
     "output_type": "stream",
     "text": [
      "t_cutoff = 10, N_cutoff = 3\n",
      "Converting initial state to vector form\n"
     ]
    },
    {
     "name": "stderr",
     "output_type": "stream",
     "text": [
      "Evolution Superoperator: 100%|██████████| 6544/6544 [00:12<00:00, 517.59it/s]\n"
     ]
    },
    {
     "name": "stdout",
     "output_type": "stream",
     "text": [
      "t_cutoff = 10, N_cutoff = 4\n",
      "Converting initial state to vector form\n"
     ]
    },
    {
     "name": "stderr",
     "output_type": "stream",
     "text": [
      "Evolution Superoperator: 100%|██████████| 6544/6544 [00:14<00:00, 450.80it/s]\n"
     ]
    },
    {
     "name": "stdout",
     "output_type": "stream",
     "text": [
      "t_cutoff = 10, N_cutoff = 5\n",
      "Converting initial state to vector form\n"
     ]
    },
    {
     "name": "stderr",
     "output_type": "stream",
     "text": [
      "Evolution Superoperator: 100%|██████████| 6544/6544 [00:15<00:00, 422.62it/s]\n"
     ]
    },
    {
     "name": "stdout",
     "output_type": "stream",
     "text": [
      "t_cutoff = 10, N_cutoff = 6\n",
      "Converting initial state to vector form\n"
     ]
    },
    {
     "name": "stderr",
     "output_type": "stream",
     "text": [
      "Evolution Superoperator: 100%|██████████| 6544/6544 [00:15<00:00, 415.82it/s]\n"
     ]
    },
    {
     "name": "stdout",
     "output_type": "stream",
     "text": [
      "t_cutoff = 10, N_cutoff = 7\n",
      "Converting initial state to vector form\n"
     ]
    },
    {
     "name": "stderr",
     "output_type": "stream",
     "text": [
      "Evolution Superoperator: 100%|██████████| 6544/6544 [00:16<00:00, 405.17it/s]\n"
     ]
    },
    {
     "name": "stdout",
     "output_type": "stream",
     "text": [
      "t_cutoff = 10, N_cutoff = 8\n",
      "Converting initial state to vector form\n"
     ]
    },
    {
     "name": "stderr",
     "output_type": "stream",
     "text": [
      "Evolution Superoperator: 100%|██████████| 6544/6544 [00:18<00:00, 350.30it/s]\n"
     ]
    },
    {
     "name": "stdout",
     "output_type": "stream",
     "text": [
      "t_cutoff = 10, N_cutoff = 9\n",
      "Converting initial state to vector form\n"
     ]
    },
    {
     "name": "stderr",
     "output_type": "stream",
     "text": [
      "Evolution Superoperator: 100%|██████████| 6544/6544 [00:20<00:00, 322.48it/s]\n"
     ]
    },
    {
     "name": "stdout",
     "output_type": "stream",
     "text": [
      "t_cutoff = 10, N_cutoff = 10\n",
      "Converting initial state to vector form\n"
     ]
    },
    {
     "name": "stderr",
     "output_type": "stream",
     "text": [
      "Evolution Superoperator: 100%|██████████| 6544/6544 [00:23<00:00, 284.34it/s]\n"
     ]
    },
    {
     "name": "stdout",
     "output_type": "stream",
     "text": [
      "t_cutoff = 10, N_cutoff = 11\n",
      "Converting initial state to vector form\n"
     ]
    },
    {
     "name": "stderr",
     "output_type": "stream",
     "text": [
      "Evolution Superoperator: 100%|██████████| 6544/6544 [00:23<00:00, 272.82it/s]\n"
     ]
    },
    {
     "name": "stdout",
     "output_type": "stream",
     "text": [
      "t_cutoff = 10, N_cutoff = 12\n",
      "Converting initial state to vector form\n"
     ]
    },
    {
     "name": "stderr",
     "output_type": "stream",
     "text": [
      "Evolution Superoperator: 100%|██████████| 6544/6544 [00:26<00:00, 242.38it/s]\n"
     ]
    },
    {
     "name": "stdout",
     "output_type": "stream",
     "text": [
      "t_cutoff = 10, N_cutoff = 13\n",
      "Converting initial state to vector form\n"
     ]
    },
    {
     "name": "stderr",
     "output_type": "stream",
     "text": [
      "Evolution Superoperator: 100%|██████████| 6544/6544 [00:28<00:00, 233.43it/s]\n"
     ]
    },
    {
     "name": "stdout",
     "output_type": "stream",
     "text": [
      "t_cutoff = 10, N_cutoff = 14\n",
      "Converting initial state to vector form\n"
     ]
    },
    {
     "name": "stderr",
     "output_type": "stream",
     "text": [
      "Evolution Superoperator: 100%|██████████| 6544/6544 [00:33<00:00, 195.78it/s]\n"
     ]
    },
    {
     "name": "stdout",
     "output_type": "stream",
     "text": [
      "t_cutoff = 11, N_cutoff = 1\n",
      "Converting initial state to vector form\n"
     ]
    },
    {
     "name": "stderr",
     "output_type": "stream",
     "text": [
      "Evolution Superoperator: 100%|██████████| 6544/6544 [00:08<00:00, 755.29it/s]\n"
     ]
    },
    {
     "name": "stdout",
     "output_type": "stream",
     "text": [
      "t_cutoff = 11, N_cutoff = 2\n",
      "Converting initial state to vector form\n"
     ]
    },
    {
     "name": "stderr",
     "output_type": "stream",
     "text": [
      "Evolution Superoperator: 100%|██████████| 6544/6544 [00:09<00:00, 659.89it/s]\n"
     ]
    },
    {
     "name": "stdout",
     "output_type": "stream",
     "text": [
      "t_cutoff = 11, N_cutoff = 3\n",
      "Converting initial state to vector form\n"
     ]
    },
    {
     "name": "stderr",
     "output_type": "stream",
     "text": [
      "Evolution Superoperator: 100%|██████████| 6544/6544 [00:10<00:00, 597.96it/s]\n"
     ]
    },
    {
     "name": "stdout",
     "output_type": "stream",
     "text": [
      "t_cutoff = 11, N_cutoff = 4\n",
      "Converting initial state to vector form\n"
     ]
    },
    {
     "name": "stderr",
     "output_type": "stream",
     "text": [
      "Evolution Superoperator: 100%|██████████| 6544/6544 [00:12<00:00, 506.19it/s]\n"
     ]
    },
    {
     "name": "stdout",
     "output_type": "stream",
     "text": [
      "t_cutoff = 11, N_cutoff = 5\n",
      "Converting initial state to vector form\n"
     ]
    },
    {
     "name": "stderr",
     "output_type": "stream",
     "text": [
      "Evolution Superoperator: 100%|██████████| 6544/6544 [00:13<00:00, 477.36it/s]\n"
     ]
    },
    {
     "name": "stdout",
     "output_type": "stream",
     "text": [
      "t_cutoff = 11, N_cutoff = 6\n",
      "Converting initial state to vector form\n"
     ]
    },
    {
     "name": "stderr",
     "output_type": "stream",
     "text": [
      "Evolution Superoperator: 100%|██████████| 6544/6544 [00:14<00:00, 443.10it/s]\n"
     ]
    },
    {
     "name": "stdout",
     "output_type": "stream",
     "text": [
      "t_cutoff = 11, N_cutoff = 7\n",
      "Converting initial state to vector form\n"
     ]
    },
    {
     "name": "stderr",
     "output_type": "stream",
     "text": [
      "Evolution Superoperator: 100%|██████████| 6544/6544 [00:15<00:00, 410.67it/s]\n"
     ]
    },
    {
     "name": "stdout",
     "output_type": "stream",
     "text": [
      "t_cutoff = 11, N_cutoff = 8\n",
      "Converting initial state to vector form\n"
     ]
    },
    {
     "name": "stderr",
     "output_type": "stream",
     "text": [
      "Evolution Superoperator: 100%|██████████| 6544/6544 [00:16<00:00, 385.77it/s]\n"
     ]
    },
    {
     "name": "stdout",
     "output_type": "stream",
     "text": [
      "t_cutoff = 11, N_cutoff = 9\n",
      "Converting initial state to vector form\n"
     ]
    },
    {
     "name": "stderr",
     "output_type": "stream",
     "text": [
      "Evolution Superoperator: 100%|██████████| 6544/6544 [00:18<00:00, 354.47it/s]\n"
     ]
    },
    {
     "name": "stdout",
     "output_type": "stream",
     "text": [
      "t_cutoff = 11, N_cutoff = 10\n",
      "Converting initial state to vector form\n"
     ]
    },
    {
     "name": "stderr",
     "output_type": "stream",
     "text": [
      "Evolution Superoperator: 100%|██████████| 6544/6544 [00:22<00:00, 296.19it/s]\n"
     ]
    },
    {
     "name": "stdout",
     "output_type": "stream",
     "text": [
      "t_cutoff = 11, N_cutoff = 11\n",
      "Converting initial state to vector form\n"
     ]
    },
    {
     "name": "stderr",
     "output_type": "stream",
     "text": [
      "Evolution Superoperator: 100%|██████████| 6544/6544 [00:25<00:00, 260.49it/s]\n"
     ]
    },
    {
     "name": "stdout",
     "output_type": "stream",
     "text": [
      "t_cutoff = 11, N_cutoff = 12\n",
      "Converting initial state to vector form\n"
     ]
    },
    {
     "name": "stderr",
     "output_type": "stream",
     "text": [
      "Evolution Superoperator: 100%|██████████| 6544/6544 [00:22<00:00, 286.56it/s]\n"
     ]
    },
    {
     "name": "stdout",
     "output_type": "stream",
     "text": [
      "t_cutoff = 11, N_cutoff = 13\n",
      "Converting initial state to vector form\n"
     ]
    },
    {
     "name": "stderr",
     "output_type": "stream",
     "text": [
      "Evolution Superoperator: 100%|██████████| 6544/6544 [00:24<00:00, 262.42it/s]\n"
     ]
    },
    {
     "name": "stdout",
     "output_type": "stream",
     "text": [
      "t_cutoff = 11, N_cutoff = 14\n",
      "Converting initial state to vector form\n"
     ]
    },
    {
     "name": "stderr",
     "output_type": "stream",
     "text": [
      "Evolution Superoperator: 100%|██████████| 6544/6544 [00:29<00:00, 218.15it/s]\n"
     ]
    },
    {
     "name": "stdout",
     "output_type": "stream",
     "text": [
      "t_cutoff = 12, N_cutoff = 1\n",
      "Converting initial state to vector form\n"
     ]
    },
    {
     "name": "stderr",
     "output_type": "stream",
     "text": [
      "Evolution Superoperator: 100%|██████████| 6544/6544 [00:11<00:00, 558.93it/s]\n"
     ]
    },
    {
     "name": "stdout",
     "output_type": "stream",
     "text": [
      "t_cutoff = 12, N_cutoff = 2\n",
      "Converting initial state to vector form\n"
     ]
    },
    {
     "name": "stderr",
     "output_type": "stream",
     "text": [
      "Evolution Superoperator: 100%|██████████| 6544/6544 [00:12<00:00, 523.97it/s]\n"
     ]
    },
    {
     "name": "stdout",
     "output_type": "stream",
     "text": [
      "t_cutoff = 12, N_cutoff = 3\n",
      "Converting initial state to vector form\n"
     ]
    },
    {
     "name": "stderr",
     "output_type": "stream",
     "text": [
      "Evolution Superoperator: 100%|██████████| 6544/6544 [00:13<00:00, 496.89it/s]\n"
     ]
    },
    {
     "name": "stdout",
     "output_type": "stream",
     "text": [
      "t_cutoff = 12, N_cutoff = 4\n",
      "Converting initial state to vector form\n"
     ]
    },
    {
     "name": "stderr",
     "output_type": "stream",
     "text": [
      "Evolution Superoperator: 100%|██████████| 6544/6544 [00:28<00:00, 233.67it/s]\n"
     ]
    },
    {
     "name": "stdout",
     "output_type": "stream",
     "text": [
      "t_cutoff = 12, N_cutoff = 5\n",
      "Converting initial state to vector form\n"
     ]
    },
    {
     "name": "stderr",
     "output_type": "stream",
     "text": [
      "Evolution Superoperator: 100%|██████████| 6544/6544 [00:49<00:00, 132.57it/s]\n"
     ]
    },
    {
     "name": "stdout",
     "output_type": "stream",
     "text": [
      "t_cutoff = 12, N_cutoff = 6\n",
      "Converting initial state to vector form\n"
     ]
    },
    {
     "name": "stderr",
     "output_type": "stream",
     "text": [
      "Evolution Superoperator: 100%|██████████| 6544/6544 [00:29<00:00, 221.00it/s]\n"
     ]
    },
    {
     "name": "stdout",
     "output_type": "stream",
     "text": [
      "t_cutoff = 12, N_cutoff = 7\n",
      "Converting initial state to vector form\n"
     ]
    },
    {
     "name": "stderr",
     "output_type": "stream",
     "text": [
      "Evolution Superoperator: 100%|██████████| 6544/6544 [00:24<00:00, 266.06it/s]\n"
     ]
    },
    {
     "name": "stdout",
     "output_type": "stream",
     "text": [
      "t_cutoff = 12, N_cutoff = 8\n",
      "Converting initial state to vector form\n"
     ]
    },
    {
     "name": "stderr",
     "output_type": "stream",
     "text": [
      "Evolution Superoperator: 100%|██████████| 6544/6544 [00:34<00:00, 191.62it/s]\n"
     ]
    },
    {
     "name": "stdout",
     "output_type": "stream",
     "text": [
      "t_cutoff = 12, N_cutoff = 9\n",
      "Converting initial state to vector form\n"
     ]
    },
    {
     "name": "stderr",
     "output_type": "stream",
     "text": [
      "Evolution Superoperator: 100%|██████████| 6544/6544 [01:01<00:00, 107.13it/s]\n"
     ]
    },
    {
     "name": "stdout",
     "output_type": "stream",
     "text": [
      "t_cutoff = 12, N_cutoff = 10\n",
      "Converting initial state to vector form\n"
     ]
    },
    {
     "name": "stderr",
     "output_type": "stream",
     "text": [
      "Evolution Superoperator: 100%|██████████| 6544/6544 [00:33<00:00, 192.97it/s]\n"
     ]
    },
    {
     "name": "stdout",
     "output_type": "stream",
     "text": [
      "t_cutoff = 12, N_cutoff = 11\n",
      "Converting initial state to vector form\n"
     ]
    },
    {
     "name": "stderr",
     "output_type": "stream",
     "text": [
      "Evolution Superoperator: 100%|██████████| 6544/6544 [00:39<00:00, 167.30it/s]\n"
     ]
    },
    {
     "name": "stdout",
     "output_type": "stream",
     "text": [
      "t_cutoff = 12, N_cutoff = 12\n",
      "Converting initial state to vector form\n"
     ]
    },
    {
     "name": "stderr",
     "output_type": "stream",
     "text": [
      "Evolution Superoperator: 100%|██████████| 6544/6544 [00:33<00:00, 196.94it/s]\n"
     ]
    },
    {
     "name": "stdout",
     "output_type": "stream",
     "text": [
      "t_cutoff = 12, N_cutoff = 13\n",
      "Converting initial state to vector form\n"
     ]
    },
    {
     "name": "stderr",
     "output_type": "stream",
     "text": [
      "Evolution Superoperator: 100%|██████████| 6544/6544 [00:37<00:00, 174.82it/s]\n"
     ]
    },
    {
     "name": "stdout",
     "output_type": "stream",
     "text": [
      "t_cutoff = 12, N_cutoff = 14\n",
      "Converting initial state to vector form\n"
     ]
    },
    {
     "name": "stderr",
     "output_type": "stream",
     "text": [
      "Evolution Superoperator: 100%|██████████| 6544/6544 [00:39<00:00, 166.18it/s]\n"
     ]
    },
    {
     "name": "stdout",
     "output_type": "stream",
     "text": [
      "t_cutoff = 13, N_cutoff = 1\n",
      "Converting initial state to vector form\n"
     ]
    },
    {
     "name": "stderr",
     "output_type": "stream",
     "text": [
      "Evolution Superoperator: 100%|██████████| 6544/6544 [00:11<00:00, 581.08it/s]\n"
     ]
    },
    {
     "name": "stdout",
     "output_type": "stream",
     "text": [
      "t_cutoff = 13, N_cutoff = 2\n",
      "Converting initial state to vector form\n"
     ]
    },
    {
     "name": "stderr",
     "output_type": "stream",
     "text": [
      "Evolution Superoperator: 100%|██████████| 6544/6544 [00:12<00:00, 516.99it/s]\n"
     ]
    },
    {
     "name": "stdout",
     "output_type": "stream",
     "text": [
      "t_cutoff = 13, N_cutoff = 3\n",
      "Converting initial state to vector form\n"
     ]
    },
    {
     "name": "stderr",
     "output_type": "stream",
     "text": [
      "Evolution Superoperator: 100%|██████████| 6544/6544 [00:10<00:00, 606.55it/s]\n"
     ]
    },
    {
     "name": "stdout",
     "output_type": "stream",
     "text": [
      "t_cutoff = 13, N_cutoff = 4\n",
      "Converting initial state to vector form\n"
     ]
    },
    {
     "name": "stderr",
     "output_type": "stream",
     "text": [
      "Evolution Superoperator: 100%|██████████| 6544/6544 [00:13<00:00, 491.81it/s]\n"
     ]
    },
    {
     "name": "stdout",
     "output_type": "stream",
     "text": [
      "t_cutoff = 13, N_cutoff = 5\n",
      "Converting initial state to vector form\n"
     ]
    },
    {
     "name": "stderr",
     "output_type": "stream",
     "text": [
      "Evolution Superoperator: 100%|██████████| 6544/6544 [00:14<00:00, 446.46it/s]\n"
     ]
    },
    {
     "name": "stdout",
     "output_type": "stream",
     "text": [
      "t_cutoff = 13, N_cutoff = 6\n",
      "Converting initial state to vector form\n"
     ]
    },
    {
     "name": "stderr",
     "output_type": "stream",
     "text": [
      "Evolution Superoperator: 100%|██████████| 6544/6544 [00:15<00:00, 423.99it/s]\n"
     ]
    },
    {
     "name": "stdout",
     "output_type": "stream",
     "text": [
      "t_cutoff = 13, N_cutoff = 7\n",
      "Converting initial state to vector form\n"
     ]
    },
    {
     "name": "stderr",
     "output_type": "stream",
     "text": [
      "Evolution Superoperator: 100%|██████████| 6544/6544 [00:17<00:00, 379.33it/s]\n"
     ]
    },
    {
     "name": "stdout",
     "output_type": "stream",
     "text": [
      "t_cutoff = 13, N_cutoff = 8\n",
      "Converting initial state to vector form\n"
     ]
    },
    {
     "name": "stderr",
     "output_type": "stream",
     "text": [
      "Evolution Superoperator: 100%|██████████| 6544/6544 [00:18<00:00, 352.26it/s]\n"
     ]
    },
    {
     "name": "stdout",
     "output_type": "stream",
     "text": [
      "t_cutoff = 13, N_cutoff = 9\n",
      "Converting initial state to vector form\n"
     ]
    },
    {
     "name": "stderr",
     "output_type": "stream",
     "text": [
      "Evolution Superoperator: 100%|██████████| 6544/6544 [00:20<00:00, 322.86it/s]\n"
     ]
    },
    {
     "name": "stdout",
     "output_type": "stream",
     "text": [
      "t_cutoff = 13, N_cutoff = 10\n",
      "Converting initial state to vector form\n"
     ]
    },
    {
     "name": "stderr",
     "output_type": "stream",
     "text": [
      "Evolution Superoperator: 100%|██████████| 6544/6544 [00:25<00:00, 258.56it/s]\n"
     ]
    },
    {
     "name": "stdout",
     "output_type": "stream",
     "text": [
      "t_cutoff = 13, N_cutoff = 11\n",
      "Converting initial state to vector form\n"
     ]
    },
    {
     "name": "stderr",
     "output_type": "stream",
     "text": [
      "Evolution Superoperator: 100%|██████████| 6544/6544 [00:26<00:00, 249.74it/s]\n"
     ]
    },
    {
     "name": "stdout",
     "output_type": "stream",
     "text": [
      "t_cutoff = 13, N_cutoff = 12\n",
      "Converting initial state to vector form\n"
     ]
    },
    {
     "name": "stderr",
     "output_type": "stream",
     "text": [
      "Evolution Superoperator: 100%|██████████| 6544/6544 [00:25<00:00, 253.13it/s]\n"
     ]
    },
    {
     "name": "stdout",
     "output_type": "stream",
     "text": [
      "t_cutoff = 13, N_cutoff = 13\n",
      "Converting initial state to vector form\n"
     ]
    },
    {
     "name": "stderr",
     "output_type": "stream",
     "text": [
      "Evolution Superoperator: 100%|██████████| 6544/6544 [00:29<00:00, 225.13it/s]\n"
     ]
    },
    {
     "name": "stdout",
     "output_type": "stream",
     "text": [
      "t_cutoff = 13, N_cutoff = 14\n",
      "Converting initial state to vector form\n"
     ]
    },
    {
     "name": "stderr",
     "output_type": "stream",
     "text": [
      "Evolution Superoperator: 100%|██████████| 6544/6544 [00:37<00:00, 174.36it/s]\n"
     ]
    },
    {
     "name": "stdout",
     "output_type": "stream",
     "text": [
      "t_cutoff = 14, N_cutoff = 1\n",
      "Converting initial state to vector form\n"
     ]
    },
    {
     "name": "stderr",
     "output_type": "stream",
     "text": [
      "Evolution Superoperator: 100%|██████████| 6544/6544 [00:12<00:00, 533.37it/s]\n"
     ]
    },
    {
     "name": "stdout",
     "output_type": "stream",
     "text": [
      "t_cutoff = 14, N_cutoff = 2\n",
      "Converting initial state to vector form\n"
     ]
    },
    {
     "name": "stderr",
     "output_type": "stream",
     "text": [
      "Evolution Superoperator: 100%|██████████| 6544/6544 [00:14<00:00, 459.53it/s]\n"
     ]
    },
    {
     "name": "stdout",
     "output_type": "stream",
     "text": [
      "t_cutoff = 14, N_cutoff = 3\n",
      "Converting initial state to vector form\n"
     ]
    },
    {
     "name": "stderr",
     "output_type": "stream",
     "text": [
      "Evolution Superoperator: 100%|██████████| 6544/6544 [00:15<00:00, 416.44it/s]\n"
     ]
    },
    {
     "name": "stdout",
     "output_type": "stream",
     "text": [
      "t_cutoff = 14, N_cutoff = 4\n",
      "Converting initial state to vector form\n"
     ]
    },
    {
     "name": "stderr",
     "output_type": "stream",
     "text": [
      "Evolution Superoperator: 100%|██████████| 6544/6544 [00:18<00:00, 358.95it/s]\n"
     ]
    },
    {
     "name": "stdout",
     "output_type": "stream",
     "text": [
      "t_cutoff = 14, N_cutoff = 5\n",
      "Converting initial state to vector form\n"
     ]
    },
    {
     "name": "stderr",
     "output_type": "stream",
     "text": [
      "Evolution Superoperator: 100%|██████████| 6544/6544 [00:20<00:00, 314.48it/s]\n"
     ]
    },
    {
     "name": "stdout",
     "output_type": "stream",
     "text": [
      "t_cutoff = 14, N_cutoff = 6\n",
      "Converting initial state to vector form\n"
     ]
    },
    {
     "name": "stderr",
     "output_type": "stream",
     "text": [
      "Evolution Superoperator: 100%|██████████| 6544/6544 [00:22<00:00, 286.94it/s]\n"
     ]
    },
    {
     "name": "stdout",
     "output_type": "stream",
     "text": [
      "t_cutoff = 14, N_cutoff = 7\n",
      "Converting initial state to vector form\n"
     ]
    },
    {
     "name": "stderr",
     "output_type": "stream",
     "text": [
      "Evolution Superoperator: 100%|██████████| 6544/6544 [00:23<00:00, 283.08it/s]\n"
     ]
    },
    {
     "name": "stdout",
     "output_type": "stream",
     "text": [
      "t_cutoff = 14, N_cutoff = 8\n",
      "Converting initial state to vector form\n"
     ]
    },
    {
     "name": "stderr",
     "output_type": "stream",
     "text": [
      "Evolution Superoperator: 100%|██████████| 6544/6544 [00:25<00:00, 252.91it/s]\n"
     ]
    },
    {
     "name": "stdout",
     "output_type": "stream",
     "text": [
      "t_cutoff = 14, N_cutoff = 9\n",
      "Converting initial state to vector form\n"
     ]
    },
    {
     "name": "stderr",
     "output_type": "stream",
     "text": [
      "Evolution Superoperator: 100%|██████████| 6544/6544 [00:28<00:00, 230.70it/s]\n"
     ]
    },
    {
     "name": "stdout",
     "output_type": "stream",
     "text": [
      "t_cutoff = 14, N_cutoff = 10\n",
      "Converting initial state to vector form\n"
     ]
    },
    {
     "name": "stderr",
     "output_type": "stream",
     "text": [
      "Evolution Superoperator: 100%|██████████| 6544/6544 [00:32<00:00, 200.36it/s]\n"
     ]
    },
    {
     "name": "stdout",
     "output_type": "stream",
     "text": [
      "t_cutoff = 14, N_cutoff = 11\n",
      "Converting initial state to vector form\n"
     ]
    },
    {
     "name": "stderr",
     "output_type": "stream",
     "text": [
      "Evolution Superoperator: 100%|██████████| 6544/6544 [00:30<00:00, 212.65it/s]\n"
     ]
    },
    {
     "name": "stdout",
     "output_type": "stream",
     "text": [
      "t_cutoff = 14, N_cutoff = 12\n",
      "Converting initial state to vector form\n"
     ]
    },
    {
     "name": "stderr",
     "output_type": "stream",
     "text": [
      "Evolution Superoperator: 100%|██████████| 6544/6544 [00:31<00:00, 207.03it/s]\n"
     ]
    },
    {
     "name": "stdout",
     "output_type": "stream",
     "text": [
      "t_cutoff = 14, N_cutoff = 13\n",
      "Converting initial state to vector form\n"
     ]
    },
    {
     "name": "stderr",
     "output_type": "stream",
     "text": [
      "Evolution Superoperator: 100%|██████████| 6544/6544 [00:33<00:00, 193.43it/s]\n"
     ]
    },
    {
     "name": "stdout",
     "output_type": "stream",
     "text": [
      "t_cutoff = 14, N_cutoff = 14\n",
      "Converting initial state to vector form\n"
     ]
    },
    {
     "name": "stderr",
     "output_type": "stream",
     "text": [
      "Evolution Superoperator: 100%|██████████| 6544/6544 [00:37<00:00, 174.28it/s]\n"
     ]
    }
   ],
   "source": [
    "# Define system operators\n",
    "sp = sigmap()\n",
    "sm = sigmam()\n",
    "sx = sigmax()\n",
    "sz = sigmaz()\n",
    "sy = sigmay()\n",
    "g = sm*sp\n",
    "H = Omega*sx\n",
    "\n",
    "# Parameters\n",
    "Gamma = 1\n",
    "Omega = 1\n",
    "\n",
    "# define dissipator and Hamiltonian\n",
    "c_ops = [1j*np.sqrt(Gamma) * sm]    \n",
    "\n",
    "# steadystate\n",
    "rho0 = fock(2, 0)\n",
    "rhoss = steadystate(H, c_ops)\n",
    "\n",
    "\n",
    "# Loop over different values of N_cutoff and t_cutoff\n",
    "dt = 0.0012\n",
    "\n",
    "t_cutoffs = np.arange(1, 15, 1)\n",
    "N_cutoffs = np.arange(1, 15, 1)\n",
    "W_Ts = np.zeros((len(t_cutoffs), len(N_cutoffs)))\n",
    "\n",
    "\n",
    "for i, t_cutoff in enumerate(t_cutoffs):\n",
    "    for j, N_cutoff in enumerate(N_cutoffs):\n",
    "\n",
    "        print('t_cutoff = {}, N_cutoff = {}'.format(t_cutoff, N_cutoff))\n",
    "\n",
    "        t = np.arange(0, tf, dt)\n",
    "\n",
    "        # number of chargers to truncate at \n",
    "        Nm = 20\n",
    "        dN = 0.06\n",
    "        N = np.arange(-10, Nm, dN)\n",
    "\n",
    "        # ------ Solve n-resolved method with absorbing boundary conditions ------ #\n",
    "        diff = DiffusiveEvolutionPntAbsorb(H, c_ops, 1, t, N, N_cutoff, kind='single')\n",
    "        Pn_vec = diff.solve(rho0)\n",
    "\n",
    "        # Compute survival probability from analytic solution\n",
    "        P0 = np.sum(Pn_vec, axis=0)\n",
    "        dGt = -np.gradient(P0, dt)\n",
    "\n",
    "        idx_W = np.argmin(np.abs(t - tf/5))\n",
    "\n",
    "        # Integrate first hitting time distribution to t_cutoff\n",
    "        PT = np.sum(dGt[t<t_cutoff])*dt\n",
    "        N_min = np.argmin(np.abs(N+N_cutoff))\n",
    "        Wbar = -np.sum(N[N_min:]*Pn_vec_T[N_min:, idx_W])\n",
    "        W_Ts[i, j] = N_cutoff * PT +(1-PT) * Wbar"
   ]
  },
  {
   "cell_type": "code",
   "execution_count": 76,
   "metadata": {},
   "outputs": [
    {
     "data": {
      "image/png": "[encoded data removed]",
      "text/plain": [
       "<Figure size 500x500 with 2 Axes>"
      ]
     },
     "metadata": {},
     "output_type": "display_data"
    }
   ],
   "source": [
    "# Make contour plot of W_T\n",
    "fig = plt.figure(figsize=(5, 5))\n",
    "plt.contourf(t_cutoffs, N_cutoffs, W_Ts, 100, cmap='PRGn_r')\n",
    "# plt.imshow(W_Ts, cmap='PRGn_r', origin='lower', extent=[1, 14, 1, 14], aspect='auto')\n",
    "\n",
    "plt.xlabel(r'$\\gamma T$', fontsize=fs)\n",
    "plt.ylabel(r'$\\mathcal{W}_{\\rm th}$', fontsize=fs)\n",
    "plt.grid(False)\n",
    "\n",
    "plt.xticks(np.arange(1, 15, 2), fontsize=fs)\n",
    "plt.yticks(np.arange(1, 15, 2), fontsize=fs)\n",
    "\n",
    "# set colourbar ticksize with integer ticks \n",
    "cbar = plt.colorbar()\n",
    "cbar.ax.tick_params(labelsize=fs)\n",
    "cbar.ax.set_yticks(np.arange(0, 2.5, 0.5))\n",
    "\n",
    "plt.show()\n",
    "\n",
    "fig.savefig('Figures/Gambling_demon_mean_contour.png', bbox_inches='tight', dpi=200)\n"
   ]
  },
  {
   "cell_type": "code",
   "execution_count": 52,
   "metadata": {},
   "outputs": [],
   "source": [
    "# pickle the data of W_Ts\n",
    "import pickle\n",
    "\n",
    "with open('./Data/W_Ts.pkl', 'wb') as f:\n",
    "    pickle.dump(W_Ts, f)"
   ]
  },
  {
   "cell_type": "code",
   "execution_count": 310,
   "metadata": {},
   "outputs": [
    {
     "name": "stdout",
     "output_type": "stream",
     "text": [
      "Total run time:   0.03s\n"
     ]
    }
   ],
   "source": [
    "test = smesolve(H, rhoss, t, sc_ops = c_ops, e_ops=[sy])"
   ]
  },
  {
   "cell_type": "code",
   "execution_count": 311,
   "metadata": {},
   "outputs": [
    {
     "data": {
      "text/plain": [
       "[<matplotlib.lines.Line2D at 0x2e93a3940>]"
      ]
     },
     "execution_count": 311,
     "metadata": {},
     "output_type": "execute_result"
    },
    {
     "data": {
      "image/png": "[encoded data removed]",
      "text/plain": [
       "<Figure size 640x480 with 1 Axes>"
      ]
     },
     "metadata": {},
     "output_type": "display_data"
    }
   ],
   "source": [
    "plt.plot(t, np.cumsum(test.expect[0]))"
   ]
  },
  {
   "cell_type": "code",
   "execution_count": 281,
   "metadata": {},
   "outputs": [
    {
     "data": {
      "text/plain": [
       "[array([-0.11111111, -0.09708347, -0.12734836, ..., -0.99775326,\n",
       "        -0.99759692, -0.99743018])]"
      ]
     },
     "execution_count": 281,
     "metadata": {},
     "output_type": "execute_result"
    }
   ],
   "source": [
    "test.expect"
   ]
  },
  {
   "cell_type": "code",
   "execution_count": null,
   "metadata": {},
   "outputs": [],
   "source": []
  }
 ],
 "metadata": {
  "kernelspec": {
   "display_name": "base",
   "language": "python",
   "name": "python3"
  },
  "language_info": {
   "codemirror_mode": {
    "name": "ipython",
    "version": 3
   },
   "file_extension": ".py",
   "mimetype": "text/x-python",
   "name": "python",
   "nbconvert_exporter": "python",
   "pygments_lexer": "ipython3",
   "version": "3.10.9"
  },
  "orig_nbformat": 4
 },
 "nbformat": 4,
 "nbformat_minor": 2
}
